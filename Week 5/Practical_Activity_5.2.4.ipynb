{
 "cells": [
  {
   "cell_type": "markdown",
   "id": "cf247570",
   "metadata": {},
   "source": [
    "## Practical_Activity_5.2.4"
   ]
  },
  {
   "cell_type": "markdown",
   "id": "1fa0bbe3",
   "metadata": {},
   "source": [
    "### 1. Import the libraries"
   ]
  },
  {
   "cell_type": "code",
   "execution_count": 1,
   "id": "3d04b4a9",
   "metadata": {},
   "outputs": [],
   "source": [
    "# import libraries\n",
    "import requests\n",
    "import json\n",
    "import pandas as pd"
   ]
  },
  {
   "cell_type": "markdown",
   "id": "c13b4a73",
   "metadata": {},
   "source": [
    "###  Bitcoin Price Index"
   ]
  },
  {
   "cell_type": "code",
   "execution_count": 2,
   "id": "f2c09be4",
   "metadata": {},
   "outputs": [
    {
     "name": "stdout",
     "output_type": "stream",
     "text": [
      "200\n",
      "{'time': {'updated': 'Apr 24, 2022 21:02:00 UTC', 'updatedISO': '2022-04-24T21:02:00+00:00', 'updateduk': 'Apr 24, 2022 at 22:02 BST'}, 'disclaimer': 'This data was produced from the CoinDesk Bitcoin Price Index (USD). Non-USD currency data converted using hourly conversion rate from openexchangerates.org', 'chartName': 'Bitcoin', 'bpi': {'USD': {'code': 'USD', 'symbol': '&#36;', 'rate': '39,542.7756', 'description': 'United States Dollar', 'rate_float': 39542.7756}, 'GBP': {'code': 'GBP', 'symbol': '&pound;', 'rate': '30,797.7722', 'description': 'British Pound Sterling', 'rate_float': 30797.7722}, 'EUR': {'code': 'EUR', 'symbol': '&euro;', 'rate': '36,550.3761', 'description': 'Euro', 'rate_float': 36550.3761}}}\n"
     ]
    }
   ],
   "source": [
    "# create a requests variable\n",
    "bitcoin = requests.get(\"https://api.coindesk.com/v1/bpi/currentprice.json\")\n",
    "\n",
    "# print the status_code\n",
    "print(bitcoin.status_code)\n",
    "\n",
    "# print the JSON response\n",
    "print(bitcoin.json())"
   ]
  },
  {
   "cell_type": "code",
   "execution_count": 3,
   "id": "fd1d8c7e",
   "metadata": {},
   "outputs": [
    {
     "data": {
      "text/plain": [
       "{'Content-Type': 'application/javascript', 'Content-Length': '679', 'Connection': 'keep-alive', 'Access-Control-Allow-Origin': '*', 'Cache-Control': 'max-age=15', 'Date': 'Sun, 24 Apr 2022 21:03:10 GMT', 'Expires': 'Sun, 24 Apr 2022 21:04:07 UTC', 'Server': 'nginx/1.18.0', 'X-Powered-By': 'Fat-Free Framework', 'X-Cache': 'Hit from cloudfront', 'Via': '1.1 f1b5ae62d9afc4ed1ebb4ac99a508444.cloudfront.net (CloudFront)', 'X-Amz-Cf-Pop': 'LHR50-C1', 'X-Amz-Cf-Id': 'SgDda7MMaZMJ9f_N4-Yp8drgFDSOmx5STIY-0xtl-97tZ-lySqAnPw==', 'Age': '12'}"
      ]
     },
     "execution_count": 3,
     "metadata": {},
     "output_type": "execute_result"
    }
   ],
   "source": [
    "# retrieve headers\n",
    "bitcoin.headers"
   ]
  },
  {
   "cell_type": "code",
   "execution_count": 4,
   "id": "6bad70d6",
   "metadata": {},
   "outputs": [
    {
     "name": "stdout",
     "output_type": "stream",
     "text": [
      "<class 'dict'>\n",
      "{'time': {'updated': 'Apr 24, 2022 21:02:00 UTC', 'updatedISO': '2022-04-24T21:02:00+00:00', 'updateduk': 'Apr 24, 2022 at 22:02 BST'}, 'disclaimer': 'This data was produced from the CoinDesk Bitcoin Price Index (USD). Non-USD currency data converted using hourly conversion rate from openexchangerates.org', 'chartName': 'Bitcoin', 'bpi': {'USD': {'code': 'USD', 'symbol': '&#36;', 'rate': '39,542.7756', 'description': 'United States Dollar', 'rate_float': 39542.7756}, 'GBP': {'code': 'GBP', 'symbol': '&pound;', 'rate': '30,797.7722', 'description': 'British Pound Sterling', 'rate_float': 30797.7722}, 'EUR': {'code': 'EUR', 'symbol': '&euro;', 'rate': '36,550.3761', 'description': 'Euro', 'rate_float': 36550.3761}}}\n"
     ]
    }
   ],
   "source": [
    "# parse JSON data with loads()\n",
    "bitcoin_content = json.loads(bitcoin.text)\n",
    "\n",
    "# view the content\n",
    "print(type(bitcoin_content))\n",
    "print(bitcoin_content)"
   ]
  },
  {
   "cell_type": "code",
   "execution_count": 5,
   "id": "425585be",
   "metadata": {},
   "outputs": [
    {
     "name": "stdout",
     "output_type": "stream",
     "text": [
      "{\n",
      "    \"time\": {\n",
      "        \"updated\": \"Apr 24, 2022 21:02:00 UTC\",\n",
      "        \"updatedISO\": \"2022-04-24T21:02:00+00:00\",\n",
      "        \"updateduk\": \"Apr 24, 2022 at 22:02 BST\"\n",
      "    },\n",
      "    \"disclaimer\": \"This data was produced from the CoinDesk Bitcoin Price Index (USD). Non-USD currency data converted using hourly conversion rate from openexchangerates.org\",\n",
      "    \"chartName\": \"Bitcoin\",\n",
      "    \"bpi\": {\n",
      "        \"USD\": {\n",
      "            \"code\": \"USD\",\n",
      "            \"symbol\": \"&#36;\",\n",
      "            \"rate\": \"39,542.7756\",\n",
      "            \"description\": \"United States Dollar\",\n",
      "            \"rate_float\": 39542.7756\n",
      "        },\n",
      "        \"GBP\": {\n",
      "            \"code\": \"GBP\",\n",
      "            \"symbol\": \"&pound;\",\n",
      "            \"rate\": \"30,797.7722\",\n",
      "            \"description\": \"British Pound Sterling\",\n",
      "            \"rate_float\": 30797.7722\n",
      "        },\n",
      "        \"EUR\": {\n",
      "            \"code\": \"EUR\",\n",
      "            \"symbol\": \"&euro;\",\n",
      "            \"rate\": \"36,550.3761\",\n",
      "            \"description\": \"Euro\",\n",
      "            \"rate_float\": 36550.3761\n",
      "        }\n",
      "    }\n",
      "}\n"
     ]
    }
   ],
   "source": [
    "# formatting JSON\n",
    "print(json.dumps(bitcoin_content, indent = 4))"
   ]
  },
  {
   "cell_type": "code",
   "execution_count": 6,
   "id": "ff806424",
   "metadata": {},
   "outputs": [
    {
     "data": {
      "text/html": [
       "<div>\n",
       "<style scoped>\n",
       "    .dataframe tbody tr th:only-of-type {\n",
       "        vertical-align: middle;\n",
       "    }\n",
       "\n",
       "    .dataframe tbody tr th {\n",
       "        vertical-align: top;\n",
       "    }\n",
       "\n",
       "    .dataframe thead th {\n",
       "        text-align: right;\n",
       "    }\n",
       "</style>\n",
       "<table border=\"1\" class=\"dataframe\">\n",
       "  <thead>\n",
       "    <tr style=\"text-align: right;\">\n",
       "      <th></th>\n",
       "      <th>time</th>\n",
       "      <th>disclaimer</th>\n",
       "      <th>chartName</th>\n",
       "      <th>bpi</th>\n",
       "    </tr>\n",
       "  </thead>\n",
       "  <tbody>\n",
       "    <tr>\n",
       "      <th>updated</th>\n",
       "      <td>Apr 24, 2022 21:02:00 UTC</td>\n",
       "      <td>This data was produced from the CoinDesk Bitco...</td>\n",
       "      <td>Bitcoin</td>\n",
       "      <td>NaN</td>\n",
       "    </tr>\n",
       "    <tr>\n",
       "      <th>updatedISO</th>\n",
       "      <td>2022-04-24T21:02:00+00:00</td>\n",
       "      <td>This data was produced from the CoinDesk Bitco...</td>\n",
       "      <td>Bitcoin</td>\n",
       "      <td>NaN</td>\n",
       "    </tr>\n",
       "    <tr>\n",
       "      <th>updateduk</th>\n",
       "      <td>Apr 24, 2022 at 22:02 BST</td>\n",
       "      <td>This data was produced from the CoinDesk Bitco...</td>\n",
       "      <td>Bitcoin</td>\n",
       "      <td>NaN</td>\n",
       "    </tr>\n",
       "    <tr>\n",
       "      <th>USD</th>\n",
       "      <td>NaN</td>\n",
       "      <td>This data was produced from the CoinDesk Bitco...</td>\n",
       "      <td>Bitcoin</td>\n",
       "      <td>{'code': 'USD', 'symbol': '&amp;#36;', 'rate': '39...</td>\n",
       "    </tr>\n",
       "    <tr>\n",
       "      <th>GBP</th>\n",
       "      <td>NaN</td>\n",
       "      <td>This data was produced from the CoinDesk Bitco...</td>\n",
       "      <td>Bitcoin</td>\n",
       "      <td>{'code': 'GBP', 'symbol': '&amp;pound;', 'rate': '...</td>\n",
       "    </tr>\n",
       "  </tbody>\n",
       "</table>\n",
       "</div>"
      ],
      "text/plain": [
       "                                 time  \\\n",
       "updated     Apr 24, 2022 21:02:00 UTC   \n",
       "updatedISO  2022-04-24T21:02:00+00:00   \n",
       "updateduk   Apr 24, 2022 at 22:02 BST   \n",
       "USD                               NaN   \n",
       "GBP                               NaN   \n",
       "\n",
       "                                                   disclaimer chartName  \\\n",
       "updated     This data was produced from the CoinDesk Bitco...   Bitcoin   \n",
       "updatedISO  This data was produced from the CoinDesk Bitco...   Bitcoin   \n",
       "updateduk   This data was produced from the CoinDesk Bitco...   Bitcoin   \n",
       "USD         This data was produced from the CoinDesk Bitco...   Bitcoin   \n",
       "GBP         This data was produced from the CoinDesk Bitco...   Bitcoin   \n",
       "\n",
       "                                                          bpi  \n",
       "updated                                                   NaN  \n",
       "updatedISO                                                NaN  \n",
       "updateduk                                                 NaN  \n",
       "USD         {'code': 'USD', 'symbol': '&#36;', 'rate': '39...  \n",
       "GBP         {'code': 'GBP', 'symbol': '&pound;', 'rate': '...  "
      ]
     },
     "execution_count": 6,
     "metadata": {},
     "output_type": "execute_result"
    }
   ],
   "source": [
    "# create DataFrame directly from output\n",
    "bitcoin = pd.DataFrame(bitcoin_content)\n",
    "\n",
    "# view DataFrame\n",
    "bitcoin.head()"
   ]
  },
  {
   "cell_type": "code",
   "execution_count": 7,
   "id": "56f7a1c3",
   "metadata": {},
   "outputs": [],
   "source": [
    "# save the json file to .json\n",
    "# create JSON file\n",
    "bitcoin_json = json.dumps(bitcoin_content)\n",
    "\n",
    "with open(\"bitcoin_json.json\", \"w\") as f:\n",
    "    json.dump(bitcoin_content, f)\n",
    "    \n",
    "# save as CSV file without index\n",
    "bitcoin.to_csv(\"bitcoin_csv.csv\", index = False)"
   ]
  },
  {
   "cell_type": "markdown",
   "id": "375b28d1",
   "metadata": {},
   "source": [
    "###  USA population data"
   ]
  },
  {
   "cell_type": "code",
   "execution_count": 8,
   "id": "6b019cf4",
   "metadata": {},
   "outputs": [],
   "source": [
    "# import libraries\n",
    "import requests\n",
    "import pandas as pd\n",
    "import json"
   ]
  },
  {
   "cell_type": "code",
   "execution_count": 9,
   "id": "ab5a730d",
   "metadata": {},
   "outputs": [
    {
     "name": "stdout",
     "output_type": "stream",
     "text": [
      "200\n",
      "{'data': [{'ID Nation': '01000US', 'Nation': 'United States', 'ID Year': 2019, 'Year': '2019', 'Population': 328239523, 'Slug Nation': 'united-states'}, {'ID Nation': '01000US', 'Nation': 'United States', 'ID Year': 2018, 'Year': '2018', 'Population': 327167439, 'Slug Nation': 'united-states'}, {'ID Nation': '01000US', 'Nation': 'United States', 'ID Year': 2017, 'Year': '2017', 'Population': 325719178, 'Slug Nation': 'united-states'}, {'ID Nation': '01000US', 'Nation': 'United States', 'ID Year': 2016, 'Year': '2016', 'Population': 323127515, 'Slug Nation': 'united-states'}, {'ID Nation': '01000US', 'Nation': 'United States', 'ID Year': 2015, 'Year': '2015', 'Population': 321418821, 'Slug Nation': 'united-states'}, {'ID Nation': '01000US', 'Nation': 'United States', 'ID Year': 2014, 'Year': '2014', 'Population': 318857056, 'Slug Nation': 'united-states'}, {'ID Nation': '01000US', 'Nation': 'United States', 'ID Year': 2013, 'Year': '2013', 'Population': 316128839, 'Slug Nation': 'united-states'}], 'source': [{'measures': ['Population'], 'annotations': {'source_name': 'Census Bureau', 'source_description': 'The American Community Survey (ACS) is conducted by the US Census and sent to a portion of the population every year.', 'dataset_name': 'ACS 1-year Estimate', 'dataset_link': 'http://www.census.gov/programs-surveys/acs/', 'table_id': 'B01003', 'topic': 'Diversity', 'subtopic': 'Demographics'}, 'name': 'acs_yg_total_population_1', 'substitutions': []}]}\n"
     ]
    }
   ],
   "source": [
    "# create a requests variable\n",
    "usa = requests.get(\"https://datausa.io/api/data?drilldowns=Nation&measures=Population\")\n",
    "\n",
    "# print the status code\n",
    "print(usa.status_code)\n",
    "\n",
    "# print the JSON response\n",
    "print(usa.json())"
   ]
  },
  {
   "cell_type": "code",
   "execution_count": 10,
   "id": "aa598951",
   "metadata": {},
   "outputs": [
    {
     "data": {
      "text/plain": [
       "{'Date': 'Sun, 24 Apr 2022 21:11:13 GMT', 'Content-Type': 'application/json; charset=utf-8', 'Transfer-Encoding': 'chunked', 'Connection': 'keep-alive', 'x-dns-prefetch-control': 'off', 'strict-transport-security': 'max-age=15552000; includeSubDomains', 'x-download-options': 'noopen', 'x-content-type-options': 'nosniff', 'x-xss-protection': '1; mode=block', 'content-language': 'en', 'etag': 'W/\"55b-jEIUyvQphH/gM3DVlQl2pEdoLeo\"', 'vary': 'Accept-Encoding', 'last-modified': 'Thu, 18 Nov 2021 20:02:06 GMT', 'x-cache-status': 'HIT', 'x-frame-options': 'SAMEORIGIN', 'access-control-allow-origin': '*', 'access-control-allow-credentials': 'true', 'access-control-allow-methods': 'GET, POST, OPTIONS', 'access-control-allow-headers': 'DNT,X-CustomHeader,Keep-Alive,User-Agent,X-Requested-With,If-Modified-Since,Cache-Control,Content-Type', 'x-cache-key': 'GET/api/data?drilldowns=Nation&measures=Population', 'Cache-Control': 'max-age=1800', 'CF-Cache-Status': 'HIT', 'Age': '810075', 'Expect-CT': 'max-age=604800, report-uri=\"https://report-uri.cloudflare.com/cdn-cgi/beacon/expect-ct\"', 'Report-To': '{\"endpoints\":[{\"url\":\"https:\\\\/\\\\/a.nel.cloudflare.com\\\\/report\\\\/v3?s=ZexMWaeNS6N4WmPxY%2BbJn1RNy%2BduHEzqTKTFT09FE5gqDpyUuQu5ADt5w1sJ3qwcC29m%2Ff1ZADKUm91sD%2FB%2FgUpFZ6F6CyJrCkSCOnyKh4Lpy6qJQs0NGhT1J2u0A%2FLa4ALIInc279A%3D\"}],\"group\":\"cf-nel\",\"max_age\":604800}', 'NEL': '{\"success_fraction\":0,\"report_to\":\"cf-nel\",\"max_age\":604800}', 'Server': 'cloudflare', 'CF-RAY': '7011d48589697711-LHR', 'Content-Encoding': 'br'}"
      ]
     },
     "execution_count": 10,
     "metadata": {},
     "output_type": "execute_result"
    }
   ],
   "source": [
    "# retrieve headers\n",
    "usa.headers"
   ]
  },
  {
   "cell_type": "code",
   "execution_count": 11,
   "id": "fc164cf8",
   "metadata": {},
   "outputs": [
    {
     "name": "stdout",
     "output_type": "stream",
     "text": [
      "<class 'dict'>\n",
      "{'data': [{'ID Nation': '01000US', 'Nation': 'United States', 'ID Year': 2019, 'Year': '2019', 'Population': 328239523, 'Slug Nation': 'united-states'}, {'ID Nation': '01000US', 'Nation': 'United States', 'ID Year': 2018, 'Year': '2018', 'Population': 327167439, 'Slug Nation': 'united-states'}, {'ID Nation': '01000US', 'Nation': 'United States', 'ID Year': 2017, 'Year': '2017', 'Population': 325719178, 'Slug Nation': 'united-states'}, {'ID Nation': '01000US', 'Nation': 'United States', 'ID Year': 2016, 'Year': '2016', 'Population': 323127515, 'Slug Nation': 'united-states'}, {'ID Nation': '01000US', 'Nation': 'United States', 'ID Year': 2015, 'Year': '2015', 'Population': 321418821, 'Slug Nation': 'united-states'}, {'ID Nation': '01000US', 'Nation': 'United States', 'ID Year': 2014, 'Year': '2014', 'Population': 318857056, 'Slug Nation': 'united-states'}, {'ID Nation': '01000US', 'Nation': 'United States', 'ID Year': 2013, 'Year': '2013', 'Population': 316128839, 'Slug Nation': 'united-states'}], 'source': [{'measures': ['Population'], 'annotations': {'source_name': 'Census Bureau', 'source_description': 'The American Community Survey (ACS) is conducted by the US Census and sent to a portion of the population every year.', 'dataset_name': 'ACS 1-year Estimate', 'dataset_link': 'http://www.census.gov/programs-surveys/acs/', 'table_id': 'B01003', 'topic': 'Diversity', 'subtopic': 'Demographics'}, 'name': 'acs_yg_total_population_1', 'substitutions': []}]}\n"
     ]
    }
   ],
   "source": [
    "# parse JSON data with loads()\n",
    "usa_content = json.loads(usa.text)\n",
    "\n",
    "# view the content\n",
    "print(type(usa_content))\n",
    "print(usa_content)"
   ]
  },
  {
   "cell_type": "code",
   "execution_count": 12,
   "id": "eed00d4d",
   "metadata": {},
   "outputs": [
    {
     "name": "stdout",
     "output_type": "stream",
     "text": [
      "{\n",
      "    \"data\": [\n",
      "        {\n",
      "            \"ID Nation\": \"01000US\",\n",
      "            \"Nation\": \"United States\",\n",
      "            \"ID Year\": 2019,\n",
      "            \"Year\": \"2019\",\n",
      "            \"Population\": 328239523,\n",
      "            \"Slug Nation\": \"united-states\"\n",
      "        },\n",
      "        {\n",
      "            \"ID Nation\": \"01000US\",\n",
      "            \"Nation\": \"United States\",\n",
      "            \"ID Year\": 2018,\n",
      "            \"Year\": \"2018\",\n",
      "            \"Population\": 327167439,\n",
      "            \"Slug Nation\": \"united-states\"\n",
      "        },\n",
      "        {\n",
      "            \"ID Nation\": \"01000US\",\n",
      "            \"Nation\": \"United States\",\n",
      "            \"ID Year\": 2017,\n",
      "            \"Year\": \"2017\",\n",
      "            \"Population\": 325719178,\n",
      "            \"Slug Nation\": \"united-states\"\n",
      "        },\n",
      "        {\n",
      "            \"ID Nation\": \"01000US\",\n",
      "            \"Nation\": \"United States\",\n",
      "            \"ID Year\": 2016,\n",
      "            \"Year\": \"2016\",\n",
      "            \"Population\": 323127515,\n",
      "            \"Slug Nation\": \"united-states\"\n",
      "        },\n",
      "        {\n",
      "            \"ID Nation\": \"01000US\",\n",
      "            \"Nation\": \"United States\",\n",
      "            \"ID Year\": 2015,\n",
      "            \"Year\": \"2015\",\n",
      "            \"Population\": 321418821,\n",
      "            \"Slug Nation\": \"united-states\"\n",
      "        },\n",
      "        {\n",
      "            \"ID Nation\": \"01000US\",\n",
      "            \"Nation\": \"United States\",\n",
      "            \"ID Year\": 2014,\n",
      "            \"Year\": \"2014\",\n",
      "            \"Population\": 318857056,\n",
      "            \"Slug Nation\": \"united-states\"\n",
      "        },\n",
      "        {\n",
      "            \"ID Nation\": \"01000US\",\n",
      "            \"Nation\": \"United States\",\n",
      "            \"ID Year\": 2013,\n",
      "            \"Year\": \"2013\",\n",
      "            \"Population\": 316128839,\n",
      "            \"Slug Nation\": \"united-states\"\n",
      "        }\n",
      "    ],\n",
      "    \"source\": [\n",
      "        {\n",
      "            \"measures\": [\n",
      "                \"Population\"\n",
      "            ],\n",
      "            \"annotations\": {\n",
      "                \"source_name\": \"Census Bureau\",\n",
      "                \"source_description\": \"The American Community Survey (ACS) is conducted by the US Census and sent to a portion of the population every year.\",\n",
      "                \"dataset_name\": \"ACS 1-year Estimate\",\n",
      "                \"dataset_link\": \"http://www.census.gov/programs-surveys/acs/\",\n",
      "                \"table_id\": \"B01003\",\n",
      "                \"topic\": \"Diversity\",\n",
      "                \"subtopic\": \"Demographics\"\n",
      "            },\n",
      "            \"name\": \"acs_yg_total_population_1\",\n",
      "            \"substitutions\": []\n",
      "        }\n",
      "    ]\n",
      "}\n"
     ]
    }
   ],
   "source": [
    "# formatting JSON\n",
    "print(json.dumps(usa_content, indent = 4))"
   ]
  },
  {
   "cell_type": "code",
   "execution_count": null,
   "id": "ee3420be",
   "metadata": {},
   "outputs": [],
   "source": []
  }
 ],
 "metadata": {
  "kernelspec": {
   "display_name": "Python 3 (ipykernel)",
   "language": "python",
   "name": "python3"
  },
  "language_info": {
   "codemirror_mode": {
    "name": "ipython",
    "version": 3
   },
   "file_extension": ".py",
   "mimetype": "text/x-python",
   "name": "python",
   "nbconvert_exporter": "python",
   "pygments_lexer": "ipython3",
   "version": "3.9.7"
  }
 },
 "nbformat": 4,
 "nbformat_minor": 5
}
