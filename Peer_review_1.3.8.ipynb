{
 "cells": [
  {
   "cell_type": "markdown",
   "id": "359bd4d8",
   "metadata": {},
   "source": [
    "### Peer Review 1.3.8 - Li Chen Zhou"
   ]
  },
  {
   "cell_type": "code",
   "execution_count": 2,
   "id": "c2761387",
   "metadata": {},
   "outputs": [
    {
     "ename": "IndentationError",
     "evalue": "unexpected indent (Temp/ipykernel_12108/4182331806.py, line 47)",
     "output_type": "error",
     "traceback": [
      "\u001b[1;36m  File \u001b[1;32m\"C:\\Users\\richa\\AppData\\Local\\Temp/ipykernel_12108/4182331806.py\"\u001b[1;36m, line \u001b[1;32m47\u001b[0m\n\u001b[1;33m    if CHOICE == '1':\u001b[0m\n\u001b[1;37m    ^\u001b[0m\n\u001b[1;31mIndentationError\u001b[0m\u001b[1;31m:\u001b[0m unexpected indent\n"
     ]
    }
   ],
   "source": [
    "# Program To Make Simple Calculator\n",
    "# This function adds 2numbers\n",
    "def add( x, y ):\n",
    "    return x + y\n",
    "# wrong use of white space\n",
    "\n",
    "\n",
    "#This function subtracts  2numbers\n",
    "def subtract(x, y):\n",
    "    return x - y\n",
    "# extra spacing not needed, only 2 is needed\n",
    "\n",
    "\n",
    "\n",
    "       #This function multipliers 2numbers\n",
    "def multiply(x, y):\n",
    "   return x * y\n",
    "# incorrect indentation & use of comments mark '#'\n",
    "\n",
    "\n",
    "##This function divides  2numbers #\n",
    "def divide(x, y):\n",
    "   return x / y\n",
    "# incorreect use of indentation and comments mark '#'\n",
    "\n",
    "# comments excess 76 characters\n",
    "# excessive spaces below\n",
    "# incorrect use of blank space between lines\n",
    "# incorrect indentation (which will cause errors)\n",
    "# incorrect spelling & capitalisation of characters\n",
    "print ( \"Select operation.\")\n",
    "print ( \"1.Add\")\n",
    "print ( \"2.Subtract\")\n",
    "print ( \"3.Multiply\")\n",
    "print ( \"4.Divide\")\n",
    "\n",
    "while True:\n",
    "   \n",
    "   choice = input  (\"Enter choice(1/2/3/4): \")# Take input from the  user\n",
    "    \n",
    "    \n",
    "   # Check if choice is 1 of the four options by completing the following code in the IDE of your choice or noteboolk\n",
    "   if choice in ('1', '2', '3', '4'):\n",
    "      Num1   = float(input(\"Enter first number: \"))\n",
    "      Num2   = float(input(\"Enter second number: \"))\n",
    "\n",
    "       if CHOICE == '1':\n",
    "           print(Num1, \"+\", Num2, \"=\", add( Num1, Num2 ))\n",
    "\n",
    "       elif CHOICE == '2':\n",
    "           print (Num1, \"-\", Num2, \"=\", subtract( Num1, Num2 ))\n",
    "\n",
    "       elif CHOICE == '3':\n",
    "           print (Num1, \"*\", Num2, \"=\", multiply( Num1, Num2 ))\n",
    "\n",
    "       elif CHOICE == '4':\n",
    "           print (Num1, \"/\", Num2, \"=\", divide( Num1, Num2 ))\n",
    "       break\n",
    "   else:\n",
    "\n",
    "       Print( \"Invalid Input\" )#this prints the invalid input....\n",
    "        \n",
    "# users should follow PEP 8 guildlines or at least know the basic or most\n",
    "# important ones, and then to practice and get in a good habit."
   ]
  },
  {
   "cell_type": "markdown",
   "id": "95c75411",
   "metadata": {},
   "source": [
    "### Cleaned version"
   ]
  },
  {
   "cell_type": "code",
   "execution_count": null,
   "id": "07f6e6d2",
   "metadata": {},
   "outputs": [],
   "source": [
    "# Program To Make Simple Calculator\n",
    "# This function adds 2numbers\n",
    "def add(x, y):\n",
    "    return x + y\n",
    "\n",
    "\n",
    "#This function subtracts  2numbers\n",
    "def subtract(x, y):\n",
    "    return x - y\n",
    "\n",
    "\n",
    "#This function multipliers 2numbers\n",
    "def multiply(x, y):\n",
    "    return x * y\n",
    "\n",
    "\n",
    "print ( \"Select operation.\")\n",
    "print ( \"1.Add\")\n",
    "print ( \"2.Subtract\")\n",
    "print ( \"3.Multiply\")\n",
    "print ( \"4.Divide\")\n",
    "\n",
    "while True:\n",
    "    choice = input(\"Enter choice(1/2/3/4):\")# Take input from the  user\n",
    "    \n",
    "    \n",
    "# Check if choice is 1 of the four options by completing the following code\n",
    "# in the IDE of your choice or notebook\n",
    "    if choice in ('1', '2', '3', '4'):\n",
    "        Num1 = float(input(\"Enter first number:\"))\n",
    "        Num2 = float(input(\"Enter second number:\"))\n",
    "\n",
    "    if CHOICE == '1':\n",
    "        print(Num1, \"+\", Num2, \"=\", add(Num1, Num2))\n",
    "\n",
    "    elif CHOICE == '2':\n",
    "        print(Num1, \"-\", Num2, \"=\", subtract(Num1, Num2))\n",
    "\n",
    "    elif CHOICE == '3':\n",
    "        print(Num1, \"*\", Num2, \"=\", multiply(Num1, Num2))\n",
    "\n",
    "    elif CHOICE == '4':\n",
    "        print(Num1, \"/\", Num2, \"=\", divide(Num1, Num2))\n",
    "        break\n",
    "    \n",
    "    else:\n",
    "        print(\"Invalid Input\")#this prints the invalid input...."
   ]
  },
  {
   "cell_type": "code",
   "execution_count": null,
   "id": "b6efd2d9",
   "metadata": {},
   "outputs": [],
   "source": []
  }
 ],
 "metadata": {
  "kernelspec": {
   "display_name": "Python 3 (ipykernel)",
   "language": "python",
   "name": "python3"
  },
  "language_info": {
   "codemirror_mode": {
    "name": "ipython",
    "version": 3
   },
   "file_extension": ".py",
   "mimetype": "text/x-python",
   "name": "python",
   "nbconvert_exporter": "python",
   "pygments_lexer": "ipython3",
   "version": "3.9.7"
  }
 },
 "nbformat": 4,
 "nbformat_minor": 5
}
