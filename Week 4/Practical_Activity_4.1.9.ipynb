{
 "cells": [
  {
   "cell_type": "markdown",
   "id": "cc115283",
   "metadata": {},
   "source": [
    "## Practical Activity 4.1.9"
   ]
  },
  {
   "cell_type": "markdown",
   "id": "23aea300",
   "metadata": {},
   "source": [
    "### 1. Import the libraries"
   ]
  },
  {
   "cell_type": "code",
   "execution_count": 1,
   "id": "d081f94e",
   "metadata": {},
   "outputs": [],
   "source": [
    "#import necessary packages\n",
    "import matplotlib.pyplot as plt\n",
    "import seaborn as sns\n",
    "import pandas as pd"
   ]
  },
  {
   "cell_type": "markdown",
   "id": "47568c8f",
   "metadata": {},
   "source": [
    "### 2. Import Excel file"
   ]
  },
  {
   "cell_type": "code",
   "execution_count": 2,
   "id": "12946c97",
   "metadata": {},
   "outputs": [
    {
     "name": "stdout",
     "output_type": "stream",
     "text": [
      "Index(['ID', 'Netflix', 'Hulu', 'Prime Video', 'Disney+'], dtype='object')\n"
     ]
    }
   ],
   "source": [
    "# import the excel file using pd.read_excel\n",
    "ott = pd.read_excel(\"ott.xlsx\")\n",
    "\n",
    "print(ott.columns)"
   ]
  },
  {
   "cell_type": "markdown",
   "id": "002d41f6",
   "metadata": {},
   "source": [
    "### 3. Import CSV file"
   ]
  },
  {
   "cell_type": "code",
   "execution_count": 4,
   "id": "1fc225ff",
   "metadata": {},
   "outputs": [
    {
     "name": "stdout",
     "output_type": "stream",
     "text": [
      "Index(['ID', 'Title', 'Year', 'Age', 'IMDb', 'Rotten Tomatoes', 'Directors',\n",
      "       'Genres', 'Country', 'Language', 'Runtime'],\n",
      "      dtype='object')\n"
     ]
    }
   ],
   "source": [
    "# import the CSV file using pd.read_csv\n",
    "movies = pd.read_csv(\"movies.csv\")\n",
    "\n",
    "print(movies.columns)"
   ]
  },
  {
   "cell_type": "markdown",
   "id": "9139fcf7",
   "metadata": {},
   "source": [
    "### 4. Validate the DataFrames"
   ]
  },
  {
   "cell_type": "code",
   "execution_count": 5,
   "id": "574e7967",
   "metadata": {},
   "outputs": [
    {
     "name": "stdout",
     "output_type": "stream",
     "text": [
      "(16744, 11)\n",
      "ID                   int64\n",
      "Title               object\n",
      "Year                 int64\n",
      "Age                 object\n",
      "IMDb               float64\n",
      "Rotten Tomatoes     object\n",
      "Directors           object\n",
      "Genres              object\n",
      "Country             object\n",
      "Language            object\n",
      "Runtime            float64\n",
      "dtype: object\n",
      "   ID                           Title  Year  Age  IMDb Rotten Tomatoes  \\\n",
      "0   1                       Inception  2010  13+   8.8             87%   \n",
      "1   2                      The Matrix  1999  18+   8.7             87%   \n",
      "2   3          Avengers: Infinity War  2018  13+   8.5             84%   \n",
      "3   4              Back to the Future  1985   7+   8.5             96%   \n",
      "4   5  The Good, the Bad and the Ugly  1966  18+   8.8             97%   \n",
      "\n",
      "                        Directors                            Genres  \\\n",
      "0               Christopher Nolan  Action,Adventure,Sci-Fi,Thriller   \n",
      "1  Lana Wachowski,Lilly Wachowski                     Action,Sci-Fi   \n",
      "2         Anthony Russo,Joe Russo           Action,Adventure,Sci-Fi   \n",
      "3                 Robert Zemeckis           Adventure,Comedy,Sci-Fi   \n",
      "4                    Sergio Leone                           Western   \n",
      "\n",
      "                        Country                 Language  Runtime  \n",
      "0  United States,United Kingdom  English,Japanese,French    148.0  \n",
      "1                 United States                  English    136.0  \n",
      "2                 United States                  English    149.0  \n",
      "3                 United States                  English    116.0  \n",
      "4      Italy,Spain,West Germany                  Italian    161.0  \n"
     ]
    }
   ],
   "source": [
    "# data imported correctly?\n",
    "print(movies.shape)\n",
    "print(movies.dtypes)\n",
    "print(movies.head())"
   ]
  },
  {
   "cell_type": "code",
   "execution_count": 6,
   "id": "b064952a",
   "metadata": {},
   "outputs": [
    {
     "name": "stdout",
     "output_type": "stream",
     "text": [
      "(16744, 5)\n",
      "ID             int64\n",
      "Netflix        int64\n",
      "Hulu           int64\n",
      "Prime Video    int64\n",
      "Disney+        int64\n",
      "dtype: object\n",
      "   ID  Netflix  Hulu  Prime Video  Disney+\n",
      "0   1        0     0            1        0\n",
      "1   2        0     1            0        0\n",
      "2   3        0     0            1        0\n",
      "3   4        1     0            0        0\n",
      "4   5        0     0            1        0\n"
     ]
    }
   ],
   "source": [
    "# data imported correctly?\n",
    "print(ott.shape)\n",
    "print(ott.dtypes)\n",
    "print(ott.head())"
   ]
  },
  {
   "cell_type": "markdown",
   "id": "944abc2c",
   "metadata": {},
   "source": [
    "### 5. Combine the two DataFrames"
   ]
  },
  {
   "cell_type": "code",
   "execution_count": 7,
   "id": "57af9337",
   "metadata": {},
   "outputs": [
    {
     "name": "stdout",
     "output_type": "stream",
     "text": [
      "(16744, 15)\n"
     ]
    },
    {
     "data": {
      "text/html": [
       "<div>\n",
       "<style scoped>\n",
       "    .dataframe tbody tr th:only-of-type {\n",
       "        vertical-align: middle;\n",
       "    }\n",
       "\n",
       "    .dataframe tbody tr th {\n",
       "        vertical-align: top;\n",
       "    }\n",
       "\n",
       "    .dataframe thead th {\n",
       "        text-align: right;\n",
       "    }\n",
       "</style>\n",
       "<table border=\"1\" class=\"dataframe\">\n",
       "  <thead>\n",
       "    <tr style=\"text-align: right;\">\n",
       "      <th></th>\n",
       "      <th>ID</th>\n",
       "      <th>Title</th>\n",
       "      <th>Year</th>\n",
       "      <th>Age</th>\n",
       "      <th>IMDb</th>\n",
       "      <th>Rotten Tomatoes</th>\n",
       "      <th>Directors</th>\n",
       "      <th>Genres</th>\n",
       "      <th>Country</th>\n",
       "      <th>Language</th>\n",
       "      <th>Runtime</th>\n",
       "      <th>Netflix</th>\n",
       "      <th>Hulu</th>\n",
       "      <th>Prime Video</th>\n",
       "      <th>Disney+</th>\n",
       "    </tr>\n",
       "  </thead>\n",
       "  <tbody>\n",
       "    <tr>\n",
       "      <th>0</th>\n",
       "      <td>1</td>\n",
       "      <td>Inception</td>\n",
       "      <td>2010</td>\n",
       "      <td>13+</td>\n",
       "      <td>8.8</td>\n",
       "      <td>87%</td>\n",
       "      <td>Christopher Nolan</td>\n",
       "      <td>Action,Adventure,Sci-Fi,Thriller</td>\n",
       "      <td>United States,United Kingdom</td>\n",
       "      <td>English,Japanese,French</td>\n",
       "      <td>148.0</td>\n",
       "      <td>0</td>\n",
       "      <td>0</td>\n",
       "      <td>1</td>\n",
       "      <td>0</td>\n",
       "    </tr>\n",
       "    <tr>\n",
       "      <th>1</th>\n",
       "      <td>2</td>\n",
       "      <td>The Matrix</td>\n",
       "      <td>1999</td>\n",
       "      <td>18+</td>\n",
       "      <td>8.7</td>\n",
       "      <td>87%</td>\n",
       "      <td>Lana Wachowski,Lilly Wachowski</td>\n",
       "      <td>Action,Sci-Fi</td>\n",
       "      <td>United States</td>\n",
       "      <td>English</td>\n",
       "      <td>136.0</td>\n",
       "      <td>0</td>\n",
       "      <td>1</td>\n",
       "      <td>0</td>\n",
       "      <td>0</td>\n",
       "    </tr>\n",
       "    <tr>\n",
       "      <th>2</th>\n",
       "      <td>3</td>\n",
       "      <td>Avengers: Infinity War</td>\n",
       "      <td>2018</td>\n",
       "      <td>13+</td>\n",
       "      <td>8.5</td>\n",
       "      <td>84%</td>\n",
       "      <td>Anthony Russo,Joe Russo</td>\n",
       "      <td>Action,Adventure,Sci-Fi</td>\n",
       "      <td>United States</td>\n",
       "      <td>English</td>\n",
       "      <td>149.0</td>\n",
       "      <td>0</td>\n",
       "      <td>0</td>\n",
       "      <td>1</td>\n",
       "      <td>0</td>\n",
       "    </tr>\n",
       "    <tr>\n",
       "      <th>3</th>\n",
       "      <td>4</td>\n",
       "      <td>Back to the Future</td>\n",
       "      <td>1985</td>\n",
       "      <td>7+</td>\n",
       "      <td>8.5</td>\n",
       "      <td>96%</td>\n",
       "      <td>Robert Zemeckis</td>\n",
       "      <td>Adventure,Comedy,Sci-Fi</td>\n",
       "      <td>United States</td>\n",
       "      <td>English</td>\n",
       "      <td>116.0</td>\n",
       "      <td>1</td>\n",
       "      <td>0</td>\n",
       "      <td>0</td>\n",
       "      <td>0</td>\n",
       "    </tr>\n",
       "    <tr>\n",
       "      <th>4</th>\n",
       "      <td>5</td>\n",
       "      <td>The Good, the Bad and the Ugly</td>\n",
       "      <td>1966</td>\n",
       "      <td>18+</td>\n",
       "      <td>8.8</td>\n",
       "      <td>97%</td>\n",
       "      <td>Sergio Leone</td>\n",
       "      <td>Western</td>\n",
       "      <td>Italy,Spain,West Germany</td>\n",
       "      <td>Italian</td>\n",
       "      <td>161.0</td>\n",
       "      <td>0</td>\n",
       "      <td>0</td>\n",
       "      <td>1</td>\n",
       "      <td>0</td>\n",
       "    </tr>\n",
       "  </tbody>\n",
       "</table>\n",
       "</div>"
      ],
      "text/plain": [
       "   ID                           Title  Year  Age  IMDb Rotten Tomatoes  \\\n",
       "0   1                       Inception  2010  13+   8.8             87%   \n",
       "1   2                      The Matrix  1999  18+   8.7             87%   \n",
       "2   3          Avengers: Infinity War  2018  13+   8.5             84%   \n",
       "3   4              Back to the Future  1985   7+   8.5             96%   \n",
       "4   5  The Good, the Bad and the Ugly  1966  18+   8.8             97%   \n",
       "\n",
       "                        Directors                            Genres  \\\n",
       "0               Christopher Nolan  Action,Adventure,Sci-Fi,Thriller   \n",
       "1  Lana Wachowski,Lilly Wachowski                     Action,Sci-Fi   \n",
       "2         Anthony Russo,Joe Russo           Action,Adventure,Sci-Fi   \n",
       "3                 Robert Zemeckis           Adventure,Comedy,Sci-Fi   \n",
       "4                    Sergio Leone                           Western   \n",
       "\n",
       "                        Country                 Language  Runtime  Netflix  \\\n",
       "0  United States,United Kingdom  English,Japanese,French    148.0        0   \n",
       "1                 United States                  English    136.0        0   \n",
       "2                 United States                  English    149.0        0   \n",
       "3                 United States                  English    116.0        1   \n",
       "4      Italy,Spain,West Germany                  Italian    161.0        0   \n",
       "\n",
       "   Hulu  Prime Video  Disney+  \n",
       "0     0            1        0  \n",
       "1     1            0        0  \n",
       "2     0            1        0  \n",
       "3     0            0        0  \n",
       "4     0            1        0  "
      ]
     },
     "execution_count": 7,
     "metadata": {},
     "output_type": "execute_result"
    }
   ],
   "source": [
    "# merge the two DataFrames\n",
    "mov_ott = pd.merge(movies, ott, how = 'left', on = 'ID')\n",
    "\n",
    "# view the DataFrame\n",
    "print(mov_ott.shape)\n",
    "mov_ott.head()"
   ]
  },
  {
   "cell_type": "markdown",
   "id": "e2b9ec37",
   "metadata": {},
   "source": [
    "### 6. Create a countplot"
   ]
  },
  {
   "cell_type": "code",
   "execution_count": 9,
   "id": "91b245ad",
   "metadata": {},
   "outputs": [
    {
     "data": {
      "text/plain": [
       "<AxesSubplot:xlabel='Age', ylabel='count'>"
      ]
     },
     "execution_count": 9,
     "metadata": {},
     "output_type": "execute_result"
    },
    {
     "data": {
      "image/png": "[encoded data removed]",
      "text/plain": [
       "<Figure size 432x288 with 1 Axes>"
      ]
     },
     "metadata": {
      "needs_background": "light"
     },
     "output_type": "display_data"
    }
   ],
   "source": [
    "# create a countplot based on number of movies streamed by Netflix per age group\n",
    "sns.countplot(x = 'Age', hue = 'Netflix', data = mov_ott)"
   ]
  },
  {
   "cell_type": "code",
   "execution_count": 10,
   "id": "e653bd0c",
   "metadata": {},
   "outputs": [],
   "source": [
    "# the 18+ age group has the most-streamed movies\n",
    "# even though the 18+ group has the most-streamed movies on Netflix\n",
    "# they still need to add more movies under this age group has most\n",
    "# of the movies overall"
   ]
  },
  {
   "cell_type": "markdown",
   "id": "7301e185",
   "metadata": {},
   "source": [
    "### 7. Create a histogram"
   ]
  },
  {
   "cell_type": "code",
   "execution_count": 11,
   "id": "24ade9e4",
   "metadata": {},
   "outputs": [
    {
     "data": {
      "text/plain": [
       "<AxesSubplot:xlabel='IMDb', ylabel='Count'>"
      ]
     },
     "execution_count": 11,
     "metadata": {},
     "output_type": "execute_result"
    },
    {
     "data": {
      "image/png": "[encoded data removed]",
      "text/plain": [
       "<Figure size 432x288 with 1 Axes>"
      ]
     },
     "metadata": {
      "needs_background": "light"
     },
     "output_type": "display_data"
    }
   ],
   "source": [
    "# create a histogram based IMDb\n",
    "sns.histplot(data = mov_ott, x = 'IMDb', binwidth = 1)"
   ]
  },
  {
   "cell_type": "code",
   "execution_count": 12,
   "id": "b0304039",
   "metadata": {},
   "outputs": [],
   "source": [
    "# most of the movies are between 6 and 7 in rating on IMDb\n",
    "# the outliers are movies with rating between 1 and 2,\n",
    "# and with rating between 9 and 10"
   ]
  },
  {
   "cell_type": "markdown",
   "id": "0b18ff4e",
   "metadata": {},
   "source": [
    "### 8. Create a scatterplot"
   ]
  },
  {
   "cell_type": "code",
   "execution_count": 13,
   "id": "3220f8e4",
   "metadata": {},
   "outputs": [
    {
     "data": {
      "text/plain": [
       "<AxesSubplot:xlabel='IMDb', ylabel='Rotten Tomatoes'>"
      ]
     },
     "execution_count": 13,
     "metadata": {},
     "output_type": "execute_result"
    },
    {
     "data": {
      "image/png": "[encoded data removed]",
      "text/plain": [
       "<Figure size 432x288 with 1 Axes>"
      ]
     },
     "metadata": {
      "needs_background": "light"
     },
     "output_type": "display_data"
    }
   ],
   "source": [
    "# create scatterplot with two variables (IMDb and Rotten Tomatoes)\n",
    "sns.scatterplot(x = 'IMDb', y = 'Rotten Tomatoes', data = mov_ott)"
   ]
  },
  {
   "cell_type": "code",
   "execution_count": 14,
   "id": "fc74e5d7",
   "metadata": {},
   "outputs": [],
   "source": [
    "# both websites have fairly similar rating for the same movie\n",
    "# the correlation is a strong and positive linear relationship with a few outliers"
   ]
  },
  {
   "cell_type": "code",
   "execution_count": null,
   "id": "a95bee72",
   "metadata": {},
   "outputs": [],
   "source": []
  }
 ],
 "metadata": {
  "kernelspec": {
   "display_name": "Python 3 (ipykernel)",
   "language": "python",
   "name": "python3"
  },
  "language_info": {
   "codemirror_mode": {
    "name": "ipython",
    "version": 3
   },
   "file_extension": ".py",
   "mimetype": "text/x-python",
   "name": "python",
   "nbconvert_exporter": "python",
   "pygments_lexer": "ipython3",
   "version": "3.9.7"
  }
 },
 "nbformat": 4,
 "nbformat_minor": 5
}
