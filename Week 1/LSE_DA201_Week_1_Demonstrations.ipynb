{
 "cells": [
  {
   "cell_type": "markdown",
   "id": "b9a3ec7a",
   "metadata": {},
   "source": [
    "### LSE Data Analytics Online Career Accelerator \n",
    "\n",
    "# DA201:  Data Analytics with Python"
   ]
  },
  {
   "cell_type": "markdown",
   "id": "1dbdb90d",
   "metadata": {},
   "source": [
    "## Week 1: Introduction to Python programming!"
   ]
  },
  {
   "cell_type": "markdown",
   "id": "a24170c4",
   "metadata": {},
   "source": [
    "The focus this week is on introducing, setting up, and exploring Python. You will use this notebook to follow along with the demonstrations throughout the week. If you are using Jupyter Notebook for the first time refer to the documentation to leran about the interface and how best to use your notebook. \n",
    "\n",
    "Learn about using you Jupyter Notebook here: https://jupyter-notebook.readthedocs.io/en/latest/ui_components.html\n",
    "\n",
    "This is your notebook. Use it to follow along with the demonstrations, test ideas and explore what is possible. The hands-on experience of writing your own code will accelarate your learning!"
   ]
  },
  {
   "cell_type": "markdown",
   "id": "11cfebf7",
   "metadata": {},
   "source": [
    "### 1.1 Python for data analysis "
   ]
  },
  {
   "cell_type": "markdown",
   "id": "f04b9be3",
   "metadata": {},
   "source": [
    "There are no Jupyter Notebook demonstrations in this section."
   ]
  },
  {
   "cell_type": "markdown",
   "id": "ca098172",
   "metadata": {},
   "source": []
  },
  {
   "cell_type": "markdown",
   "id": "4dd362eb",
   "metadata": {},
   "source": [
    "### 1.2 Basics of Python programming"
   ]
  },
  {
   "cell_type": "markdown",
   "id": "cf6fbe5c",
   "metadata": {},
   "source": [
    "#Starting first exercise following 1.2.1"
   ]
  },
  {
   "cell_type": "code",
   "execution_count": 1,
   "id": "05c6b44b",
   "metadata": {},
   "outputs": [
    {
     "name": "stdout",
     "output_type": "stream",
     "text": [
      "<class 'int'>\n",
      "<class 'float'>\n"
     ]
    }
   ],
   "source": [
    "# integer vs float data types\n",
    "value_a = 1299\n",
    "value_b = 10.29\n",
    "\n",
    "print(type(value_a))\n",
    "print(type(value_b))"
   ]
  },
  {
   "cell_type": "code",
   "execution_count": 4,
   "id": "ca05fefd",
   "metadata": {},
   "outputs": [
    {
     "name": "stdout",
     "output_type": "stream",
     "text": [
      "<class 'str'>\n",
      "<class 'str'>\n"
     ]
    }
   ],
   "source": [
    "# string data type\n",
    "a = \"This is a string value\"\n",
    "b = 'This is a string with single quotes'\n",
    "\n",
    "print(type(a))\n",
    "print(type(b))"
   ]
  },
  {
   "cell_type": "code",
   "execution_count": 5,
   "id": "07198d41",
   "metadata": {},
   "outputs": [
    {
     "name": "stdout",
     "output_type": "stream",
     "text": [
      "<class 'bool'>\n",
      "<class 'bool'>\n"
     ]
    }
   ],
   "source": [
    "# boolean data type\n",
    "a = True\n",
    "b = False\n",
    "\n",
    "print(type(a))\n",
    "print(type(b))"
   ]
  },
  {
   "cell_type": "code",
   "execution_count": 8,
   "id": "29a52aae",
   "metadata": {},
   "outputs": [
    {
     "name": "stdout",
     "output_type": "stream",
     "text": [
      "300\n"
     ]
    }
   ],
   "source": [
    "# Create a variable\n",
    "n = 300\n",
    "\n",
    "# view the variable with the print() function\n",
    "print(n)"
   ]
  },
  {
   "cell_type": "code",
   "execution_count": 9,
   "id": "e9354676",
   "metadata": {},
   "outputs": [
    {
     "name": "stdout",
     "output_type": "stream",
     "text": [
      "100 100.5 Soni\n"
     ]
    }
   ],
   "source": [
    "# create three variables\n",
    "var_a = 100\n",
    "var_b = 100.5\n",
    "name = \"Soni\"\n",
    "print(var_a, var_b, name)"
   ]
  },
  {
   "cell_type": "code",
   "execution_count": 10,
   "id": "df718739",
   "metadata": {},
   "outputs": [
    {
     "name": "stdout",
     "output_type": "stream",
     "text": [
      "100\n",
      "100.5\n",
      "Soni\n"
     ]
    }
   ],
   "source": [
    "# print a single variable\n",
    "print(var_a)\n",
    "print(var_b)\n",
    "print(name)"
   ]
  },
  {
   "cell_type": "code",
   "execution_count": 11,
   "id": "ed24ca44",
   "metadata": {},
   "outputs": [
    {
     "name": "stdout",
     "output_type": "stream",
     "text": [
      "50\n",
      "50\n",
      "50\n",
      "50 50 50\n"
     ]
    }
   ],
   "source": [
    "# assign same value to multiple variables\n",
    "a = b = c = 50 \n",
    "\n",
    "print(a)\n",
    "print(b)\n",
    "print(c)\n",
    "print(a, b, c)"
   ]
  },
  {
   "cell_type": "code",
   "execution_count": 12,
   "id": "2c969c15",
   "metadata": {},
   "outputs": [
    {
     "name": "stdout",
     "output_type": "stream",
     "text": [
      "50\n",
      "50\n",
      "50\n",
      "50 50 50\n"
     ]
    },
    {
     "ename": "TypeError",
     "evalue": "cannot unpack non-iterable int object",
     "output_type": "error",
     "traceback": [
      "\u001b[1;31m---------------------------------------------------------------------------\u001b[0m",
      "\u001b[1;31mTypeError\u001b[0m                                 Traceback (most recent call last)",
      "\u001b[1;32m~\\AppData\\Local\\Temp/ipykernel_16908/3931370733.py\u001b[0m in \u001b[0;36m<module>\u001b[1;34m\u001b[0m\n\u001b[0;32m      8\u001b[0m \u001b[1;33m\u001b[0m\u001b[0m\n\u001b[0;32m      9\u001b[0m \u001b[1;31m# stipulate a single value\u001b[0m\u001b[1;33m\u001b[0m\u001b[1;33m\u001b[0m\u001b[0m\n\u001b[1;32m---> 10\u001b[1;33m \u001b[0ma\u001b[0m\u001b[1;33m,\u001b[0m \u001b[0mb\u001b[0m\u001b[1;33m,\u001b[0m \u001b[0mc\u001b[0m \u001b[1;33m=\u001b[0m \u001b[1;36m50\u001b[0m\u001b[1;33m\u001b[0m\u001b[1;33m\u001b[0m\u001b[0m\n\u001b[0m\u001b[0;32m     11\u001b[0m \u001b[1;33m\u001b[0m\u001b[0m\n\u001b[0;32m     12\u001b[0m \u001b[0mprint\u001b[0m\u001b[1;33m(\u001b[0m\u001b[0ma\u001b[0m\u001b[1;33m,\u001b[0m \u001b[0mb\u001b[0m\u001b[1;33m,\u001b[0m \u001b[0mc\u001b[0m\u001b[1;33m)\u001b[0m\u001b[1;33m\u001b[0m\u001b[1;33m\u001b[0m\u001b[0m\n",
      "\u001b[1;31mTypeError\u001b[0m: cannot unpack non-iterable int object"
     ]
    }
   ],
   "source": [
    "# assign multiple values to multiple variables\n",
    "a, b, c = 50, 50, 50 \n",
    "\n",
    "print(a)\n",
    "print(b)\n",
    "print(c)\n",
    "print(a, b, c)\n",
    "\n",
    "# stipulate a single value (common error!)\n",
    "a, b, c = 50\n",
    "\n",
    "print(a, b, c)"
   ]
  },
  {
   "cell_type": "code",
   "execution_count": 13,
   "id": "0f3913b7",
   "metadata": {},
   "outputs": [
    {
     "name": "stdout",
     "output_type": "stream",
     "text": [
      "5 50.25 Python\n",
      "5\n",
      "50.25\n",
      "Python\n"
     ]
    }
   ],
   "source": [
    "# multiple variables with different values and data types\n",
    "a, b, c = 5, 50.25, \"Python\"\n",
    "\n",
    "print(a, b, c)\n",
    "print(a)\n",
    "print(b)\n",
    "print(c)"
   ]
  },
  {
   "cell_type": "code",
   "execution_count": 14,
   "id": "0bf06c5b",
   "metadata": {},
   "outputs": [
    {
     "name": "stdout",
     "output_type": "stream",
     "text": [
      "['False', 'None', 'True', '__peg_parser__', 'and', 'as', 'assert', 'async', 'await', 'break', 'class', 'continue', 'def', 'del', 'elif', 'else', 'except', 'finally', 'for', 'from', 'global', 'if', 'import', 'in', 'is', 'lambda', 'nonlocal', 'not', 'or', 'pass', 'raise', 'return', 'try', 'while', 'with', 'yield']\n"
     ]
    }
   ],
   "source": [
    "# view the list of keywords\n",
    "import keyword\n",
    "\n",
    "print(keyword.kwlist)"
   ]
  },
  {
   "cell_type": "code",
   "execution_count": 16,
   "id": "d55802eb",
   "metadata": {},
   "outputs": [
    {
     "name": "stdout",
     "output_type": "stream",
     "text": [
      "Luke Skywalker\n",
      "Luke Skywalker\n",
      "Luke Skywalker\n",
      "Luke Skywalker Luke Skywalker Luke Skywalker\n"
     ]
    }
   ],
   "source": [
    "# question 1\n",
    "jedi = warrior = saviour = \"Luke Skywalker\"\n",
    "\n",
    "print(jedi)\n",
    "print(warrior)\n",
    "print(saviour)\n",
    "print(jedi, warrior, saviour)"
   ]
  },
  {
   "cell_type": "code",
   "execution_count": 17,
   "id": "c5aeb6cc",
   "metadata": {},
   "outputs": [
    {
     "name": "stdout",
     "output_type": "stream",
     "text": [
      "Darth Vader\n",
      "Darth Vader\n",
      "Darth Vader\n",
      "Darth Vader Darth Vader Darth Vader\n"
     ]
    }
   ],
   "source": [
    "# question 2\n",
    "a = b = c = \"Darth Vader\"\n",
    "\n",
    "print(a)\n",
    "print(b)\n",
    "print(c)\n",
    "print(a, b, c)"
   ]
  },
  {
   "cell_type": "code",
   "execution_count": 18,
   "id": "908f36a3",
   "metadata": {},
   "outputs": [
    {
     "name": "stdout",
     "output_type": "stream",
     "text": [
      "a and b satisfies the above statements.\n"
     ]
    }
   ],
   "source": [
    "# demonstrating the 'and' operator\n",
    "a = 15\n",
    "b = 20\n",
    "\n",
    "if a > 10 and b > 15:\n",
    "    print('a and b satisfies the above statements.')"
   ]
  },
  {
   "cell_type": "code",
   "execution_count": 19,
   "id": "ba1b258b",
   "metadata": {},
   "outputs": [
    {
     "name": "stdout",
     "output_type": "stream",
     "text": [
      "This line is printed as b is not greater than 20.\n"
     ]
    }
   ],
   "source": [
    "# demonstrating the 'and' operator\n",
    "a = 15\n",
    "b = 20\n",
    "\n",
    "if a > 10 and b > 20 :\n",
    "    print('a and b satisfies the above statements.')\n",
    "    \n",
    "else :\n",
    "    print('This line is printed as b is not greater than 20.')"
   ]
  },
  {
   "cell_type": "code",
   "execution_count": 20,
   "id": "4d097e4f",
   "metadata": {},
   "outputs": [
    {
     "name": "stdout",
     "output_type": "stream",
     "text": [
      "Either number is greater than 0.\n"
     ]
    }
   ],
   "source": [
    "# demonstrating the 'or' operator\n",
    "a = 10\n",
    "b = -20\n",
    "\n",
    "if a > 0 or b > 0:\n",
    "    print(\"Either number is greater than 0.\")\n",
    "    \n",
    "else:\n",
    "    print(\"No number is greater than 0.\")"
   ]
  },
  {
   "cell_type": "code",
   "execution_count": 21,
   "id": "b4dcf314",
   "metadata": {},
   "outputs": [
    {
     "name": "stdout",
     "output_type": "stream",
     "text": [
      "Yes\n"
     ]
    }
   ],
   "source": [
    "# demonstrating the 'not' operator\n",
    "x = 10\n",
    "\n",
    "if not (x > 10):\n",
    "    print('Yes')\n",
    "else:\n",
    "    print('No')"
   ]
  },
  {
   "cell_type": "markdown",
   "id": "6b41b85a",
   "metadata": {},
   "source": [
    "### Functions"
   ]
  },
  {
   "cell_type": "code",
   "execution_count": 3,
   "id": "20a19d76",
   "metadata": {},
   "outputs": [
    {
     "name": "stdout",
     "output_type": "stream",
     "text": [
      "Hello and welcome to the programme\n"
     ]
    }
   ],
   "source": [
    "# define a function to welcome new members to the program\n",
    "# no arguments in the parenthesis, include the colon\n",
    "def new_member():\n",
    "    # the function code statement\n",
    "   print('Hello and welcome to the programme') \n",
    "\n",
    "# call the function\n",
    "new_member() "
   ]
  },
  {
   "cell_type": "code",
   "execution_count": 7,
   "id": "3506e66a",
   "metadata": {},
   "outputs": [
    {
     "name": "stdout",
     "output_type": "stream",
     "text": [
      "Congratulations for finishing the programme\n"
     ]
    }
   ],
   "source": [
    "# trying out a function myself\n",
    "def programme_complete():\n",
    "    print('Congratulations for finishing the programme')\n",
    "    \n",
    "programme_complete()"
   ]
  },
  {
   "cell_type": "code",
   "execution_count": 8,
   "id": "052cfcdd",
   "metadata": {},
   "outputs": [
    {
     "name": "stdout",
     "output_type": "stream",
     "text": [
      "Hello and welcome to the programme\n"
     ]
    },
    {
     "data": {
      "text/plain": [
       "True"
      ]
     },
     "execution_count": 8,
     "metadata": {},
     "output_type": "execute_result"
    }
   ],
   "source": [
    "# define an output variable\n",
    "output = new_member()\n",
    "# check if the function returns a value\n",
    "output is None"
   ]
  },
  {
   "cell_type": "code",
   "execution_count": 9,
   "id": "541ef154",
   "metadata": {},
   "outputs": [
    {
     "data": {
      "text/plain": [
       "False"
      ]
     },
     "execution_count": 9,
     "metadata": {},
     "output_type": "execute_result"
    }
   ],
   "source": [
    "# assign the function output to a variable\n",
    "# function must return explicitly\n",
    "def new_member(): \n",
    "    return 'Hello and welcome to the program'\n",
    "\n",
    "# define an output variable\n",
    "output = new_member()\n",
    "# check if the function returns a value\n",
    "output is None"
   ]
  },
  {
   "cell_type": "code",
   "execution_count": 10,
   "id": "7d893c7f",
   "metadata": {},
   "outputs": [
    {
     "name": "stdout",
     "output_type": "stream",
     "text": [
      "Hello and welcome to the program, Sarah!\n"
     ]
    }
   ],
   "source": [
    "# example using f-string interpolation\n",
    "def new_member(name): \n",
    "    return f'Hello and welcome to the program, {name}!' # notice the 'f'\n",
    "\n",
    "# the print function allows you to easily preview the output\n",
    "print(new_member('Sarah'))"
   ]
  },
  {
   "cell_type": "code",
   "execution_count": 13,
   "id": "dedeb607",
   "metadata": {},
   "outputs": [
    {
     "name": "stdout",
     "output_type": "stream",
     "text": [
      "Hello and welcome to the program, Sarah!\n"
     ]
    }
   ],
   "source": [
    "# example using f-string interpolation\n",
    "def new_member(name): \n",
    "# alternative line for the previous example\n",
    "    return 'Hello and welcome to the program,'' '+ name + '!'\n",
    "\n",
    "# the print function allows you to easily preview the output\n",
    "print(new_member('Sarah'))"
   ]
  },
  {
   "cell_type": "code",
   "execution_count": 14,
   "id": "a4638894",
   "metadata": {},
   "outputs": [
    {
     "data": {
      "text/plain": [
       "11"
      ]
     },
     "execution_count": 14,
     "metadata": {},
     "output_type": "execute_result"
    }
   ],
   "source": [
    "# example of adding two positional arguments\n",
    "def add_optional_bonus(a, b, c=0, d=0):\n",
    "    return a + b + c + d\n",
    "add_optional_bonus(5, 6)"
   ]
  },
  {
   "cell_type": "code",
   "execution_count": 15,
   "id": "4eddbc24",
   "metadata": {},
   "outputs": [
    {
     "data": {
      "text/plain": [
       "16"
      ]
     },
     "execution_count": 15,
     "metadata": {},
     "output_type": "execute_result"
    }
   ],
   "source": [
    "# example of adding two positional arguments and a keyword argument\n",
    "def add_optional_bonus(a, b, c=0, d=0):\n",
    "    return a + b + c + d\n",
    "add_optional_bonus(5, 6, c=5) # include the keyword c"
   ]
  },
  {
   "cell_type": "code",
   "execution_count": 16,
   "id": "ba09343e",
   "metadata": {},
   "outputs": [
    {
     "data": {
      "text/plain": [
       "17"
      ]
     },
     "execution_count": 16,
     "metadata": {},
     "output_type": "execute_result"
    }
   ],
   "source": [
    "# example of adding two positional arguments and a keyword argument out of sequence\n",
    "def add_optional_bonus(a, b, c=0, d=0):\n",
    "    return a + b + c + d\n",
    "add_optional_bonus(5, 6, d=6) # including the keyword d"
   ]
  },
  {
   "cell_type": "code",
   "execution_count": 17,
   "id": "4b3ff417",
   "metadata": {},
   "outputs": [
    {
     "data": {
      "text/plain": [
       "22"
      ]
     },
     "execution_count": 17,
     "metadata": {},
     "output_type": "execute_result"
    }
   ],
   "source": [
    "# example of adding two positional arguments and multiple keyword arguments\n",
    "def add_optional_bonus(a, b, c=0, d=0):\n",
    "    return a + b + c + d\n",
    "add_optional_bonus(5, 6, d=6, c=5) # including both d and c (out of sequence)"
   ]
  },
  {
   "cell_type": "markdown",
   "id": "a122ecfb",
   "metadata": {},
   "source": [
    "Positional arguments need to be in front of keyword arguments"
   ]
  },
  {
   "cell_type": "code",
   "execution_count": 34,
   "id": "c279936f",
   "metadata": {},
   "outputs": [
    {
     "name": "stdout",
     "output_type": "stream",
     "text": [
      "6 7 8\n"
     ]
    }
   ],
   "source": [
    "# returning multiple values\n",
    "def membership_number(x):\n",
    "    a = x + 1\n",
    "    b = x + 2\n",
    "    c = x + 3\n",
    "    return a, b, c\n",
    "\n",
    "x, y, z = membership_number(5) # to show the membership numbers\n",
    "print(x, y, z) "
   ]
  },
  {
   "cell_type": "code",
   "execution_count": 35,
   "id": "0803827a",
   "metadata": {},
   "outputs": [
    {
     "name": "stdout",
     "output_type": "stream",
     "text": [
      "Total weekly workout time is 40 minutes.\n",
      "Total weekly workout time is 3.0 hours.\n"
     ]
    }
   ],
   "source": [
    "# using the * for a variable argument\n",
    "def workout_time(*reported):\n",
    "    total_minutes = sum(reported) \n",
    "    if total_minutes < 60:\n",
    "        return f'Total weekly workout time is {total_minutes} minutes.'\n",
    "    else: \n",
    "        return f'Total weekly workout time is {total_minutes/60} hours.' \n",
    "\n",
    "# the function passes any number of minutes\n",
    "print(workout_time(10, 10, 20))\n",
    "\n",
    "# the function passes any number of minutes\n",
    "print(workout_time(60, 60, 20, 40))"
   ]
  },
  {
   "cell_type": "markdown",
   "id": "3b4c6380",
   "metadata": {},
   "source": [
    "### Troubleshooting errors"
   ]
  },
  {
   "cell_type": "code",
   "execution_count": 38,
   "id": "82e4c72a",
   "metadata": {},
   "outputs": [
    {
     "ename": "IndentationError",
     "evalue": "expected an indented block (Temp/ipykernel_20296/2046089242.py, line 3)",
     "output_type": "error",
     "traceback": [
      "\u001b[1;36m  File \u001b[1;32m\"C:\\Users\\richa\\AppData\\Local\\Temp/ipykernel_20296/2046089242.py\"\u001b[1;36m, line \u001b[1;32m3\u001b[0m\n\u001b[1;33m    if x< 10:\u001b[0m\n\u001b[1;37m             ^\u001b[0m\n\u001b[1;31mIndentationError\u001b[0m\u001b[1;31m:\u001b[0m expected an indented block\n"
     ]
    }
   ],
   "source": [
    "# example of missing colon at the end of the 'if' statement\n",
    "x =  10\n",
    "if x< 10"
   ]
  },
  {
   "cell_type": "code",
   "execution_count": 39,
   "id": "c988b751",
   "metadata": {},
   "outputs": [
    {
     "ename": "ZeroDivisionError",
     "evalue": "division by zero",
     "output_type": "error",
     "traceback": [
      "\u001b[1;31m---------------------------------------------------------------------------\u001b[0m",
      "\u001b[1;31mZeroDivisionError\u001b[0m                         Traceback (most recent call last)",
      "\u001b[1;32m~\\AppData\\Local\\Temp/ipykernel_20296/2687304027.py\u001b[0m in \u001b[0;36m<module>\u001b[1;34m\u001b[0m\n\u001b[0;32m      3\u001b[0m \u001b[1;33m\u001b[0m\u001b[0m\n\u001b[0;32m      4\u001b[0m \u001b[1;31m# perform division with 0\u001b[0m\u001b[1;33m\u001b[0m\u001b[1;33m\u001b[0m\u001b[0m\n\u001b[1;32m----> 5\u001b[1;33m \u001b[0ma\u001b[0m \u001b[1;33m=\u001b[0m \u001b[0mmarks\u001b[0m \u001b[1;33m/\u001b[0m \u001b[1;36m0\u001b[0m\u001b[1;33m\u001b[0m\u001b[1;33m\u001b[0m\u001b[0m\n\u001b[0m\u001b[0;32m      6\u001b[0m \u001b[1;33m\u001b[0m\u001b[0m\n\u001b[0;32m      7\u001b[0m \u001b[0mprint\u001b[0m\u001b[1;33m(\u001b[0m\u001b[0ma\u001b[0m\u001b[1;33m)\u001b[0m\u001b[1;33m\u001b[0m\u001b[1;33m\u001b[0m\u001b[0m\n",
      "\u001b[1;31mZeroDivisionError\u001b[0m: division by zero"
     ]
    }
   ],
   "source": [
    "# example of zero division error\n",
    "marks = 50\n",
    "\n",
    "# perform division with 0\n",
    "a = marks / 0\n",
    "\n",
    "print(a)"
   ]
  },
  {
   "cell_type": "code",
   "execution_count": 40,
   "id": "63f25b1d",
   "metadata": {},
   "outputs": [
    {
     "ename": "IndentationError",
     "evalue": "expected an indented block (Temp/ipykernel_20296/2889696448.py, line 5)",
     "output_type": "error",
     "traceback": [
      "\u001b[1;36m  File \u001b[1;32m\"C:\\Users\\richa\\AppData\\Local\\Temp/ipykernel_20296/2889696448.py\"\u001b[1;36m, line \u001b[1;32m5\u001b[0m\n\u001b[1;33m    print('True')\u001b[0m\n\u001b[1;37m    ^\u001b[0m\n\u001b[1;31mIndentationError\u001b[0m\u001b[1;31m:\u001b[0m expected an indented block\n"
     ]
    }
   ],
   "source": [
    "# example of indentation error\n",
    "a = 50\n",
    "if a>0:\n",
    "\n",
    "print('True')"
   ]
  },
  {
   "cell_type": "code",
   "execution_count": 41,
   "id": "89e39b6d",
   "metadata": {},
   "outputs": [
    {
     "ename": "IndexError",
     "evalue": "tuple index out of range",
     "output_type": "error",
     "traceback": [
      "\u001b[1;31m---------------------------------------------------------------------------\u001b[0m",
      "\u001b[1;31mIndexError\u001b[0m                                Traceback (most recent call last)",
      "\u001b[1;32m~\\AppData\\Local\\Temp/ipykernel_20296/1639312945.py\u001b[0m in \u001b[0;36m<module>\u001b[1;34m\u001b[0m\n\u001b[0;32m      2\u001b[0m \u001b[0mlist_1\u001b[0m\u001b[1;33m=\u001b[0m\u001b[1;33m(\u001b[0m\u001b[1;36m1\u001b[0m\u001b[1;33m,\u001b[0m\u001b[1;36m2\u001b[0m\u001b[1;33m,\u001b[0m\u001b[1;36m3\u001b[0m\u001b[1;33m,\u001b[0m\u001b[1;36m4\u001b[0m\u001b[1;33m,\u001b[0m\u001b[1;36m5\u001b[0m\u001b[1;33m,\u001b[0m\u001b[1;36m6\u001b[0m\u001b[1;33m)\u001b[0m\u001b[1;33m\u001b[0m\u001b[1;33m\u001b[0m\u001b[0m\n\u001b[0;32m      3\u001b[0m \u001b[1;33m\u001b[0m\u001b[0m\n\u001b[1;32m----> 4\u001b[1;33m \u001b[0mlist_1\u001b[0m\u001b[1;33m[\u001b[0m\u001b[1;36m10\u001b[0m\u001b[1;33m]\u001b[0m \u001b[1;31m# Trying to access element present at index position 10.\u001b[0m\u001b[1;33m\u001b[0m\u001b[1;33m\u001b[0m\u001b[0m\n\u001b[0m",
      "\u001b[1;31mIndexError\u001b[0m: tuple index out of range"
     ]
    }
   ],
   "source": [
    "# example of index error\n",
    "list_1=(1,2,3,4,5,6)\n",
    "        \n",
    "list_1[10] # Trying to access element present at index position 10."
   ]
  },
  {
   "cell_type": "code",
   "execution_count": 42,
   "id": "1e647129",
   "metadata": {},
   "outputs": [
    {
     "ename": "ModuleNotFoundError",
     "evalue": "No module named 'Pluto_planet'",
     "output_type": "error",
     "traceback": [
      "\u001b[1;31m---------------------------------------------------------------------------\u001b[0m",
      "\u001b[1;31mModuleNotFoundError\u001b[0m                       Traceback (most recent call last)",
      "\u001b[1;32m~\\AppData\\Local\\Temp/ipykernel_20296/3549754909.py\u001b[0m in \u001b[0;36m<module>\u001b[1;34m\u001b[0m\n\u001b[0;32m      1\u001b[0m \u001b[1;31m# example of ModuleNotFoundError\u001b[0m\u001b[1;33m\u001b[0m\u001b[1;33m\u001b[0m\u001b[0m\n\u001b[1;32m----> 2\u001b[1;33m \u001b[1;32mimport\u001b[0m \u001b[0mPluto_planet\u001b[0m\u001b[1;33m\u001b[0m\u001b[1;33m\u001b[0m\u001b[0m\n\u001b[0m",
      "\u001b[1;31mModuleNotFoundError\u001b[0m: No module named 'Pluto_planet'"
     ]
    }
   ],
   "source": [
    "# example of ModuleNotFoundError\n",
    "import Pluto_planet"
   ]
  },
  {
   "cell_type": "code",
   "execution_count": 43,
   "id": "7c23b572",
   "metadata": {},
   "outputs": [
    {
     "ename": "KeyError",
     "evalue": "'4'",
     "output_type": "error",
     "traceback": [
      "\u001b[1;31m---------------------------------------------------------------------------\u001b[0m",
      "\u001b[1;31mKeyError\u001b[0m                                  Traceback (most recent call last)",
      "\u001b[1;32m~\\AppData\\Local\\Temp/ipykernel_20296/1218304745.py\u001b[0m in \u001b[0;36m<module>\u001b[1;34m\u001b[0m\n\u001b[0;32m      1\u001b[0m \u001b[1;31m# example of KeyError\u001b[0m\u001b[1;33m\u001b[0m\u001b[1;33m\u001b[0m\u001b[0m\n\u001b[0;32m      2\u001b[0m \u001b[0mdict_1\u001b[0m\u001b[1;33m=\u001b[0m\u001b[1;33m{\u001b[0m\u001b[1;34m'name'\u001b[0m\u001b[1;33m:\u001b[0m\u001b[1;34m\"John\"\u001b[0m\u001b[1;33m,\u001b[0m \u001b[1;34m'2'\u001b[0m\u001b[1;33m:\u001b[0m \u001b[1;34m\"Age\"\u001b[0m\u001b[1;33m,\u001b[0m \u001b[1;34m'Amount'\u001b[0m\u001b[1;33m:\u001b[0m\u001b[1;36m200\u001b[0m\u001b[1;33m}\u001b[0m \u001b[1;31m# a dictionary with 3 key pairs\u001b[0m\u001b[1;33m\u001b[0m\u001b[1;33m\u001b[0m\u001b[0m\n\u001b[1;32m----> 3\u001b[1;33m \u001b[0mdict_1\u001b[0m\u001b[1;33m[\u001b[0m\u001b[1;34m'4'\u001b[0m\u001b[1;33m]\u001b[0m\u001b[1;33m\u001b[0m\u001b[1;33m\u001b[0m\u001b[0m\n\u001b[0m",
      "\u001b[1;31mKeyError\u001b[0m: '4'"
     ]
    }
   ],
   "source": [
    "# example of KeyError \n",
    "dict_1={'name':\"John\", '2': \"Age\", 'Amount':200} # a dictionary with 3 key pairs\n",
    "dict_1['4']"
   ]
  },
  {
   "cell_type": "code",
   "execution_count": 44,
   "id": "f3db9c1f",
   "metadata": {},
   "outputs": [
    {
     "ename": "ImportError",
     "evalue": "cannot import name 'cube' from 'math' (unknown location)",
     "output_type": "error",
     "traceback": [
      "\u001b[1;31m---------------------------------------------------------------------------\u001b[0m",
      "\u001b[1;31mImportError\u001b[0m                               Traceback (most recent call last)",
      "\u001b[1;32m~\\AppData\\Local\\Temp/ipykernel_20296/714204365.py\u001b[0m in \u001b[0;36m<module>\u001b[1;34m\u001b[0m\n\u001b[0;32m      2\u001b[0m \u001b[1;31m# which is a readily available library in Python.\u001b[0m\u001b[1;33m\u001b[0m\u001b[1;33m\u001b[0m\u001b[0m\n\u001b[0;32m      3\u001b[0m \u001b[1;31m# example of import error\u001b[0m\u001b[1;33m\u001b[0m\u001b[1;33m\u001b[0m\u001b[0m\n\u001b[1;32m----> 4\u001b[1;33m \u001b[1;32mfrom\u001b[0m \u001b[0mmath\u001b[0m \u001b[1;32mimport\u001b[0m \u001b[0mcube\u001b[0m\u001b[1;33m\u001b[0m\u001b[1;33m\u001b[0m\u001b[0m\n\u001b[0m",
      "\u001b[1;31mImportError\u001b[0m: cannot import name 'cube' from 'math' (unknown location)"
     ]
    }
   ],
   "source": [
    "# here we try to import the cube function from the math library, \n",
    "# which is a readily available library in Python.\n",
    "# example of import error\n",
    "from math import cube"
   ]
  },
  {
   "cell_type": "code",
   "execution_count": 45,
   "id": "d745467b",
   "metadata": {},
   "outputs": [
    {
     "ename": "TypeError",
     "evalue": "unsupported operand type(s) for +: 'int' and 'str'",
     "output_type": "error",
     "traceback": [
      "\u001b[1;31m---------------------------------------------------------------------------\u001b[0m",
      "\u001b[1;31mTypeError\u001b[0m                                 Traceback (most recent call last)",
      "\u001b[1;32m~\\AppData\\Local\\Temp/ipykernel_20296/649306378.py\u001b[0m in \u001b[0;36m<module>\u001b[1;34m\u001b[0m\n\u001b[0;32m      1\u001b[0m \u001b[1;31m# example of performing an operation that makes no sense\u001b[0m\u001b[1;33m\u001b[0m\u001b[1;33m\u001b[0m\u001b[0m\n\u001b[1;32m----> 2\u001b[1;33m \u001b[1;36m100\u001b[0m \u001b[1;33m+\u001b[0m \u001b[1;34m'John'\u001b[0m\u001b[1;33m\u001b[0m\u001b[1;33m\u001b[0m\u001b[0m\n\u001b[0m",
      "\u001b[1;31mTypeError\u001b[0m: unsupported operand type(s) for +: 'int' and 'str'"
     ]
    }
   ],
   "source": [
    "# example of performing an operation that makes no sense\n",
    "100 + 'John'"
   ]
  },
  {
   "cell_type": "code",
   "execution_count": 46,
   "id": "8ead54ef",
   "metadata": {},
   "outputs": [
    {
     "ename": "TypeError",
     "evalue": "'int' object is not iterable",
     "output_type": "error",
     "traceback": [
      "\u001b[1;31m---------------------------------------------------------------------------\u001b[0m",
      "\u001b[1;31mTypeError\u001b[0m                                 Traceback (most recent call last)",
      "\u001b[1;32m~\\AppData\\Local\\Temp/ipykernel_20296/2090559373.py\u001b[0m in \u001b[0;36m<module>\u001b[1;34m\u001b[0m\n\u001b[0;32m      1\u001b[0m \u001b[1;31m# example of adding an integer to a list\u001b[0m\u001b[1;33m\u001b[0m\u001b[1;33m\u001b[0m\u001b[0m\n\u001b[0;32m      2\u001b[0m \u001b[0mlist_a\u001b[0m \u001b[1;33m=\u001b[0m \u001b[1;33m[\u001b[0m\u001b[1;36m1\u001b[0m\u001b[1;33m,\u001b[0m\u001b[1;36m2\u001b[0m\u001b[1;33m,\u001b[0m\u001b[1;36m3\u001b[0m\u001b[1;33m,\u001b[0m\u001b[1;36m4\u001b[0m\u001b[1;33m,\u001b[0m\u001b[1;36m5\u001b[0m\u001b[1;33m]\u001b[0m\u001b[1;33m\u001b[0m\u001b[1;33m\u001b[0m\u001b[0m\n\u001b[1;32m----> 3\u001b[1;33m \u001b[0mlist_a\u001b[0m \u001b[1;33m+=\u001b[0m \u001b[1;36m1\u001b[0m\u001b[1;33m\u001b[0m\u001b[1;33m\u001b[0m\u001b[0m\n\u001b[0m",
      "\u001b[1;31mTypeError\u001b[0m: 'int' object is not iterable"
     ]
    }
   ],
   "source": [
    "# example of adding an integer to a list\n",
    "list_a = [1,2,3,4,5]\n",
    "list_a += 1"
   ]
  },
  {
   "cell_type": "code",
   "execution_count": 47,
   "id": "fedf4b08",
   "metadata": {},
   "outputs": [
    {
     "ename": "ValueError",
     "evalue": "invalid literal for int() with base 10: 'John'",
     "output_type": "error",
     "traceback": [
      "\u001b[1;31m---------------------------------------------------------------------------\u001b[0m",
      "\u001b[1;31mValueError\u001b[0m                                Traceback (most recent call last)",
      "\u001b[1;32m~\\AppData\\Local\\Temp/ipykernel_20296/3077883382.py\u001b[0m in \u001b[0;36m<module>\u001b[1;34m\u001b[0m\n\u001b[0;32m      1\u001b[0m \u001b[1;31m# example of assigning values to the wrong type\u001b[0m\u001b[1;33m\u001b[0m\u001b[1;33m\u001b[0m\u001b[0m\n\u001b[1;32m----> 2\u001b[1;33m \u001b[0mint\u001b[0m\u001b[1;33m(\u001b[0m\u001b[1;34m\"John\"\u001b[0m\u001b[1;33m)\u001b[0m\u001b[1;33m\u001b[0m\u001b[1;33m\u001b[0m\u001b[0m\n\u001b[0m",
      "\u001b[1;31mValueError\u001b[0m: invalid literal for int() with base 10: 'John'"
     ]
    }
   ],
   "source": [
    "# example of assigning values to the wrong type\n",
    "int(\"John\")"
   ]
  },
  {
   "cell_type": "code",
   "execution_count": 48,
   "id": "9a7203f1",
   "metadata": {},
   "outputs": [
    {
     "ename": "NameError",
     "evalue": "name 'list_2' is not defined",
     "output_type": "error",
     "traceback": [
      "\u001b[1;31m---------------------------------------------------------------------------\u001b[0m",
      "\u001b[1;31mNameError\u001b[0m                                 Traceback (most recent call last)",
      "\u001b[1;32m~\\AppData\\Local\\Temp/ipykernel_20296/785104269.py\u001b[0m in \u001b[0;36m<module>\u001b[1;34m\u001b[0m\n\u001b[0;32m      4\u001b[0m \u001b[1;33m\u001b[0m\u001b[0m\n\u001b[0;32m      5\u001b[0m \u001b[1;31m# now we try to access list_2 which is not defined\u001b[0m\u001b[1;33m\u001b[0m\u001b[1;33m\u001b[0m\u001b[0m\n\u001b[1;32m----> 6\u001b[1;33m \u001b[0mprint\u001b[0m\u001b[1;33m(\u001b[0m\u001b[0mlist_2\u001b[0m\u001b[1;33m)\u001b[0m\u001b[1;33m\u001b[0m\u001b[1;33m\u001b[0m\u001b[0m\n\u001b[0m",
      "\u001b[1;31mNameError\u001b[0m: name 'list_2' is not defined"
     ]
    }
   ],
   "source": [
    "# example of a name error\n",
    "# first we declare variable list_1\n",
    "list_1 = [1,2,3,4,5]\n",
    "\n",
    "# now we try to access list_2 which is not defined\n",
    "print(list_2)"
   ]
  },
  {
   "cell_type": "markdown",
   "id": "5515bb4e",
   "metadata": {},
   "source": [
    "### Python data structures: Lists"
   ]
  },
  {
   "cell_type": "code",
   "execution_count": 49,
   "id": "357edf9e",
   "metadata": {},
   "outputs": [
    {
     "name": "stdout",
     "output_type": "stream",
     "text": [
      "['Python', 'Java', 'Ruby']\n"
     ]
    }
   ],
   "source": [
    "# example of creating a list\n",
    "# notice the square brackets\n",
    "new_list = ['Python', 'Java', 'Ruby'] \n",
    "\n",
    "print(new_list)"
   ]
  },
  {
   "cell_type": "code",
   "execution_count": 50,
   "id": "1fa7f5ae",
   "metadata": {},
   "outputs": [
    {
     "name": "stdout",
     "output_type": "stream",
     "text": [
      "['cat', 12, 15.2]\n"
     ]
    }
   ],
   "source": [
    "# list can also store different data types such as strings, integers and float\n",
    "# notice the square brackets\n",
    "list_2 = ['cat', 12, 15.2]\n",
    "\n",
    "print(list_2)"
   ]
  },
  {
   "cell_type": "code",
   "execution_count": 51,
   "id": "a457d47d",
   "metadata": {},
   "outputs": [
    {
     "name": "stdout",
     "output_type": "stream",
     "text": [
      "['apple', 'banana', 5, 2, 5, 10.2, 8, 10.2, 'banana', 'apple']\n"
     ]
    }
   ],
   "source": [
    "# example of a list with duplicates\n",
    "list_a = ['apple', 'banana', 5, 2, 5, 10.2, 8, 10.2, 'banana', 'apple']\n",
    "\n",
    "print(list_a)"
   ]
  },
  {
   "cell_type": "code",
   "execution_count": 52,
   "id": "835a8324",
   "metadata": {},
   "outputs": [
    {
     "name": "stdout",
     "output_type": "stream",
     "text": [
      "['apple', 'banana', 5, 2, 10.2, 8.3, ['apple', 'banana', 5, 2, 10.2, 8.3]]\n"
     ]
    }
   ],
   "source": [
    "# example of a list with duplicate items\n",
    "list_a = ['apple', 'banana', 5, 2, 10.2, 8.3, ['apple', 'banana', 5, 2, 10.2, 8.3]]\n",
    "\n",
    "print(list_a)"
   ]
  },
  {
   "cell_type": "markdown",
   "id": "68191be9",
   "metadata": {},
   "source": [
    "### Counting items in a list"
   ]
  },
  {
   "cell_type": "code",
   "execution_count": 53,
   "id": "afedcb50",
   "metadata": {},
   "outputs": [
    {
     "data": {
      "text/plain": [
       "8"
      ]
     },
     "execution_count": 53,
     "metadata": {},
     "output_type": "execute_result"
    }
   ],
   "source": [
    "# example of the len() function\n",
    "# start with a list \n",
    "planets = [\"Mercury\", \"Venus\", \"Earth\", \"Mars\", \"Jupiter\", \n",
    "           \"Saturn\", \"Uranus\", \"Neptune\"]\n",
    "\n",
    "# measure the length of the list\n",
    "len(planets)"
   ]
  },
  {
   "cell_type": "markdown",
   "id": "11f6a573",
   "metadata": {},
   "source": [
    "### Adding items to a list"
   ]
  },
  {
   "cell_type": "code",
   "execution_count": 54,
   "id": "322166a5",
   "metadata": {},
   "outputs": [
    {
     "name": "stdout",
     "output_type": "stream",
     "text": [
      "['Mercury', 'Venus', 'Earth', 'Mars', 'Jupiter', 'Saturn', 'Uranus', 'Neptune', 'Pluto']\n",
      "9\n"
     ]
    }
   ],
   "source": [
    "# example of the append() method\n",
    "# add new item at the end of the list\n",
    "planets.append(\"Pluto\")\n",
    "\n",
    "print(planets)\n",
    "print(len(planets))"
   ]
  },
  {
   "cell_type": "code",
   "execution_count": 55,
   "id": "696aacd6",
   "metadata": {},
   "outputs": [
    {
     "name": "stdout",
     "output_type": "stream",
     "text": [
      "['Mercury', 'Pluto', 'Venus', 'Earth', 'Mars', 'Jupiter', 'Saturn', 'Uranus', 'Neptune', 'Pluto']\n",
      "10\n"
     ]
    }
   ],
   "source": [
    "# example of the insert() method\n",
    "# here \"1\" is the index position\n",
    "# note: index position in Python starts at 0.\n",
    "planets.insert(1, \"Pluto\")\n",
    "\n",
    "print(planets)\n",
    "print(len(planets))"
   ]
  },
  {
   "cell_type": "code",
   "execution_count": 56,
   "id": "d541c09f",
   "metadata": {},
   "outputs": [
    {
     "name": "stdout",
     "output_type": "stream",
     "text": [
      "['Mercury', 'Pluto', 'Venus', 'Earth', 'Mars', 'Jupiter', 'Saturn', 'Uranus', 'Neptune', 'Pluto', 'Pluto']\n",
      "11\n"
     ]
    }
   ],
   "source": [
    "# example of the extend() method\n",
    "# create a second list\n",
    "pluto = [\"Pluto\"]\n",
    "\n",
    "# second list is appended to starting list\n",
    "planets.extend(pluto) \n",
    "\n",
    "print(planets)\n",
    "print(len(planets))"
   ]
  },
  {
   "cell_type": "markdown",
   "id": "087eb476",
   "metadata": {},
   "source": [
    "### Removing items from a list"
   ]
  },
  {
   "cell_type": "code",
   "execution_count": 57,
   "id": "d5ace7a4",
   "metadata": {},
   "outputs": [
    {
     "name": "stdout",
     "output_type": "stream",
     "text": [
      "['Mercury', 'Venus', 'Earth', 'Mars', 'Jupiter', 'Saturn', 'Uranus', 'Neptune', 'Pluto', 'Pluto']\n",
      "10\n"
     ]
    }
   ],
   "source": [
    "# example of the remove() method\n",
    "# remove the first instance of an item from the list\n",
    "planets.remove(\"Pluto\") \n",
    "\n",
    "print(planets)\n",
    "print(len(planets))"
   ]
  },
  {
   "cell_type": "code",
   "execution_count": 58,
   "id": "af3022ea",
   "metadata": {},
   "outputs": [
    {
     "ename": "ValueError",
     "evalue": "list.remove(x): x not in list",
     "output_type": "error",
     "traceback": [
      "\u001b[1;31m---------------------------------------------------------------------------\u001b[0m",
      "\u001b[1;31mValueError\u001b[0m                                Traceback (most recent call last)",
      "\u001b[1;32m~\\AppData\\Local\\Temp/ipykernel_20296/2755965517.py\u001b[0m in \u001b[0;36m<module>\u001b[1;34m\u001b[0m\n\u001b[0;32m      1\u001b[0m \u001b[1;31m# example of the remove() method\u001b[0m\u001b[1;33m\u001b[0m\u001b[1;33m\u001b[0m\u001b[0m\n\u001b[0;32m      2\u001b[0m \u001b[1;31m# remove the first instance of an item from the list\u001b[0m\u001b[1;33m\u001b[0m\u001b[1;33m\u001b[0m\u001b[0m\n\u001b[1;32m----> 3\u001b[1;33m \u001b[0mplanets\u001b[0m\u001b[1;33m.\u001b[0m\u001b[0mremove\u001b[0m\u001b[1;33m(\u001b[0m\u001b[1;34m\"Maro\"\u001b[0m\u001b[1;33m)\u001b[0m\u001b[1;33m\u001b[0m\u001b[1;33m\u001b[0m\u001b[0m\n\u001b[0m\u001b[0;32m      4\u001b[0m \u001b[1;33m\u001b[0m\u001b[0m\n\u001b[0;32m      5\u001b[0m \u001b[0mprint\u001b[0m\u001b[1;33m(\u001b[0m\u001b[0mplanets\u001b[0m\u001b[1;33m)\u001b[0m\u001b[1;33m\u001b[0m\u001b[1;33m\u001b[0m\u001b[0m\n",
      "\u001b[1;31mValueError\u001b[0m: list.remove(x): x not in list"
     ]
    }
   ],
   "source": [
    "# example of the remove() method\n",
    "# remove the first instance of an item from the list\n",
    "planets.remove(\"Maro\") \n",
    "\n",
    "print(planets)\n",
    "print(len(planets))"
   ]
  },
  {
   "cell_type": "code",
   "execution_count": 59,
   "id": "29517a3d",
   "metadata": {},
   "outputs": [
    {
     "name": "stdout",
     "output_type": "stream",
     "text": [
      "['Mercury', 'Venus', 'Earth', 'Mars', 'Jupiter', 'Saturn', 'Uranus', 'Neptune', 'Pluto']\n",
      "9\n"
     ]
    }
   ],
   "source": [
    "# example of the pop() method\n",
    "# remove an item at a specific index position from the list\n",
    "# note: index position in Python starts at 0, Pluto is planet number 9, thus index 8\n",
    "planets.pop(8) \n",
    "\n",
    "print(planets)\n",
    "print(len(planets))"
   ]
  },
  {
   "cell_type": "code",
   "execution_count": 60,
   "id": "c989c57e",
   "metadata": {},
   "outputs": [
    {
     "name": "stdout",
     "output_type": "stream",
     "text": [
      "['Mercury', 'Venus', 'Earth', 'Mars', 'Jupiter', 'Saturn', 'Uranus', 'Neptune']\n",
      "8\n"
     ]
    }
   ],
   "source": [
    "# example of the pop() method\n",
    "# no index specified\n",
    "planets.pop() \n",
    "\n",
    "print(planets)\n",
    "print(len(planets))"
   ]
  },
  {
   "cell_type": "markdown",
   "id": "d7c7d60a",
   "metadata": {},
   "source": [
    "### Joining two lists (concatenate)"
   ]
  },
  {
   "cell_type": "code",
   "execution_count": 61,
   "id": "7bf8e497",
   "metadata": {},
   "outputs": [
    {
     "name": "stdout",
     "output_type": "stream",
     "text": [
      "['apple', 'strawberry', 'pear', 'raspberry', 'apricot', 'peach', 'fig', 'plum']\n",
      "8\n"
     ]
    }
   ],
   "source": [
    "# create 2 lists\n",
    "fruit_1 = ['apple', 'strawberry', 'pear', 'raspberry']\n",
    "fruit_2 = ['apricot', 'peach', 'fig', 'plum']\n",
    "\n",
    "# join the two lists with the + operator\n",
    "fruit = fruit_1 + fruit_2\n",
    "\n",
    "print(fruit)\n",
    "print(len(fruit))"
   ]
  },
  {
   "cell_type": "code",
   "execution_count": 62,
   "id": "8998ca3a",
   "metadata": {},
   "outputs": [
    {
     "name": "stdout",
     "output_type": "stream",
     "text": [
      "['carrot', 'lettuce', 'spinach', 'pumpkin', 'onion', 'cabbage', 'broccoli', 'asparagus']\n",
      "8\n"
     ]
    }
   ],
   "source": [
    "# create a list\n",
    "veg = ['carrot', 'lettuce', 'spinach', 'pumpkin']\n",
    "\n",
    "# add another list with the extend operator\n",
    "# notice the square brackets\n",
    "veg.extend(['onion', 'cabbage', 'broccoli', 'asparagus'])\n",
    "\n",
    "print(veg)\n",
    "print(len(veg))"
   ]
  },
  {
   "cell_type": "code",
   "execution_count": 63,
   "id": "1d87f755",
   "metadata": {},
   "outputs": [
    {
     "name": "stdout",
     "output_type": "stream",
     "text": [
      "['red', 'yellow', 'orange', 'pink', ['blue', 'green', 'black', 'purple']]\n",
      "5\n"
     ]
    }
   ],
   "source": [
    "# create a list\n",
    "colour = ['red', 'yellow', 'orange', 'pink']\n",
    "\n",
    "# add another list with the append\n",
    "# notice the square brackets\n",
    "colour.append(['blue', 'green', 'black', 'purple'])\n",
    "\n",
    "print(colour)\n",
    "print(len(colour))\n",
    "\n",
    "# .append() method only adds a single item to the list"
   ]
  },
  {
   "cell_type": "markdown",
   "id": "e1afd6ad",
   "metadata": {},
   "source": [
    "### Sorting lists"
   ]
  },
  {
   "cell_type": "code",
   "execution_count": 64,
   "id": "38bdc570",
   "metadata": {},
   "outputs": [
    {
     "name": "stdout",
     "output_type": "stream",
     "text": [
      "['asparagus', 'broccoli', 'cabbage', 'carrot', 'lettuce', 'onion', 'pumpkin', 'spinach']\n",
      "8\n"
     ]
    }
   ],
   "source": [
    "# example of the sort() method\n",
    "# the default is to sort in ascending order\n",
    "veg.sort() \n",
    "\n",
    "print(veg)\n",
    "print(len(veg))"
   ]
  },
  {
   "cell_type": "code",
   "execution_count": 65,
   "id": "8984fa55",
   "metadata": {},
   "outputs": [
    {
     "name": "stdout",
     "output_type": "stream",
     "text": [
      "['spinach', 'pumpkin', 'onion', 'lettuce', 'carrot', 'cabbage', 'broccoli', 'asparagus']\n",
      "8\n"
     ]
    }
   ],
   "source": [
    "# example of the sort() method\n",
    "# to sort in descending order reverse is true\n",
    "veg.sort(reverse = True) \n",
    "\n",
    "print(veg)\n",
    "print(len(veg))"
   ]
  },
  {
   "cell_type": "markdown",
   "id": "e5ba51a6",
   "metadata": {},
   "source": [
    "### Slicing"
   ]
  },
  {
   "cell_type": "code",
   "execution_count": 66,
   "id": "5f7bcacd",
   "metadata": {},
   "outputs": [
    {
     "data": {
      "text/plain": [
       "['onion', 'lettuce', 'carrot', 'cabbage']"
      ]
     },
     "execution_count": 66,
     "metadata": {},
     "output_type": "execute_result"
    }
   ],
   "source": [
    "# example of selecting a range of elements\n",
    "# slicing with index position is inclusive of start index position\n",
    "# slicing with index position is exclusive of the stop index position\n",
    "# in the example 2:6 the elements from index position 2 to 5 are included\n",
    "# notice we are not using the print() function\n",
    "\n",
    "veg[2:6] "
   ]
  },
  {
   "cell_type": "code",
   "execution_count": 67,
   "id": "752b6222",
   "metadata": {},
   "outputs": [
    {
     "data": {
      "text/plain": [
       "['pumpkin', 'lettuce', 'cabbage']"
      ]
     },
     "execution_count": 67,
     "metadata": {},
     "output_type": "execute_result"
    }
   ],
   "source": [
    "# example of selecting a range of elements and changing default parameters\n",
    "# note: index position in Python starts at 0\n",
    "# list name[start index : stop index : step size]\n",
    "\n",
    "veg[1:7:2]"
   ]
  },
  {
   "cell_type": "code",
   "execution_count": 68,
   "id": "deba81b6",
   "metadata": {},
   "outputs": [
    {
     "data": {
      "text/plain": [
       "['spinach', 'onion', 'carrot', 'broccoli']"
      ]
     },
     "execution_count": 68,
     "metadata": {},
     "output_type": "execute_result"
    }
   ],
   "source": [
    "# example of selecting a range of elements and changing default step parameter\n",
    "# the syntax is: list name[start index : stop index : step size]\n",
    "# notice the empty values in the first two spaces? This will use the defaults.\n",
    "\n",
    "veg[::2]"
   ]
  },
  {
   "cell_type": "code",
   "execution_count": 69,
   "id": "343e60d3",
   "metadata": {},
   "outputs": [
    {
     "data": {
      "text/plain": [
       "['asparagus', 'cabbage', 'lettuce', 'pumpkin']"
      ]
     },
     "execution_count": 69,
     "metadata": {},
     "output_type": "execute_result"
    }
   ],
   "source": [
    "# example of using a negative index\n",
    "# pass -2 to reverse the list\n",
    "\n",
    "veg[::-2]"
   ]
  },
  {
   "cell_type": "markdown",
   "id": "68d10de4",
   "metadata": {},
   "source": [
    "### Python data structures: Tuples"
   ]
  },
  {
   "cell_type": "code",
   "execution_count": 70,
   "id": "9c47e52c",
   "metadata": {},
   "outputs": [
    {
     "name": "stdout",
     "output_type": "stream",
     "text": [
      "('Python', 'Java', 'Ruby')\n"
     ]
    }
   ],
   "source": [
    "# create a tuple\n",
    "tuple_1 = (\"Python\", \"Java\", \"Ruby\")\n",
    "\n",
    "# print tuple and count length\n",
    "print(tuple_1)"
   ]
  },
  {
   "cell_type": "code",
   "execution_count": 71,
   "id": "6de3cc26",
   "metadata": {},
   "outputs": [
    {
     "name": "stdout",
     "output_type": "stream",
     "text": [
      "('apple', 'banana', 5, 2, 10.2, 8.3)\n"
     ]
    }
   ],
   "source": [
    "# example of a list with different data types\n",
    "tuple_a = ('apple', 'banana', 5, 2, 10.2, 8.3)\n",
    "\n",
    "print(tuple_a)"
   ]
  },
  {
   "cell_type": "code",
   "execution_count": 72,
   "id": "408c8a9e",
   "metadata": {},
   "outputs": [
    {
     "name": "stdout",
     "output_type": "stream",
     "text": [
      "('apple', 'banana', 5, 2, 10.2, 8.3, 'apple', 'banana', 5, 2, 10.2, 8.3)\n"
     ]
    }
   ],
   "source": [
    "# example of a list with duplicate items\n",
    "tuple_b = ('apple', 'banana', 5, 2, 10.2, 8.3,\n",
    "           'apple', 'banana', 5, 2, 10.2, 8.3)\n",
    "\n",
    "print(tuple_b)"
   ]
  },
  {
   "cell_type": "code",
   "execution_count": 73,
   "id": "6aca433f",
   "metadata": {},
   "outputs": [
    {
     "name": "stdout",
     "output_type": "stream",
     "text": [
      "('apple', 'banana', 5, 2, 10.2, 8.3, ('apple', 'banana', 5, 2, 10.2, 8.3))\n"
     ]
    }
   ],
   "source": [
    "# example of a nested tupple \n",
    "tuple_c = ('apple', 'banana', 5, 2, 10.2, 8.3,\n",
    "           ('apple', 'banana', 5, 2, 10.2, 8.3))\n",
    "\n",
    "print(tuple_c)"
   ]
  },
  {
   "cell_type": "markdown",
   "id": "4440649e",
   "metadata": {},
   "source": [
    "### Methods of a tuple"
   ]
  },
  {
   "cell_type": "code",
   "execution_count": 74,
   "id": "f3b86ee7",
   "metadata": {},
   "outputs": [
    {
     "data": {
      "text/plain": [
       "8"
      ]
     },
     "execution_count": 74,
     "metadata": {},
     "output_type": "execute_result"
    }
   ],
   "source": [
    "# example of the len() function\n",
    "# start with a tuple \n",
    "planets = (\"Mercury\", \"Venus\", \"Earth\", \"Mars\", \"Jupiter\", \n",
    "           \"Saturn\", \"Uranus\", \"Neptune\")\n",
    "\n",
    "# measure the length of the tuple\n",
    "len(planets)"
   ]
  },
  {
   "cell_type": "code",
   "execution_count": 75,
   "id": "018dd630",
   "metadata": {},
   "outputs": [
    {
     "data": {
      "text/plain": [
       "('Venus', 1, 'Mars')"
      ]
     },
     "execution_count": 75,
     "metadata": {},
     "output_type": "execute_result"
    }
   ],
   "source": [
    "# example of the tuple() constructor \n",
    "# notice the round brackets \n",
    "tup_1 = tuple([\"Venus\", 1, \"Mars\"]) \n",
    "\n",
    "tup_1"
   ]
  },
  {
   "cell_type": "markdown",
   "id": "82706ebe",
   "metadata": {},
   "source": [
    "### Accessing tuple items"
   ]
  },
  {
   "cell_type": "code",
   "execution_count": 78,
   "id": "9f0e635d",
   "metadata": {},
   "outputs": [
    {
     "name": "stdout",
     "output_type": "stream",
     "text": [
      "Ruby\n"
     ]
    }
   ],
   "source": [
    "# example of indexing\n",
    "# note: index position in Python starts at 0\n",
    "# locate item at index position 1\n",
    "tuple_1[2]\n",
    "\n",
    "print(tuple_1[2])"
   ]
  },
  {
   "cell_type": "code",
   "execution_count": 79,
   "id": "c1686a79",
   "metadata": {},
   "outputs": [
    {
     "name": "stdout",
     "output_type": "stream",
     "text": [
      "4\n",
      "2\n",
      "(4, 5, 6)\n"
     ]
    }
   ],
   "source": [
    "# example of nesting tuples within tuples\n",
    "nested_tup = (1, 2, 3, (4, 5, 6))\n",
    "\n",
    "# print the length of the nested tuple\n",
    "print(len(nested_tup))\n",
    "\n",
    "# this will show item at index position 1\n",
    "print(nested_tup[1])\n",
    "\n",
    "# this will show item at index position 3\n",
    "print(nested_tup[3])"
   ]
  },
  {
   "cell_type": "markdown",
   "id": "0c79fe78",
   "metadata": {},
   "source": [
    "### Combining tuples"
   ]
  },
  {
   "cell_type": "code",
   "execution_count": 80,
   "id": "ad150583",
   "metadata": {},
   "outputs": [
    {
     "name": "stdout",
     "output_type": "stream",
     "text": [
      "('Mercury', 'Venus', 'Earth', 'Mars', 'Jupiter', 'Saturn', 'Uranus', 'Neptune', 'Python', 'Java', 'Ruby')\n",
      "11\n"
     ]
    }
   ],
   "source": [
    "# example of using the + operator\n",
    "tuple_d = planets + tuple_1\n",
    "\n",
    "# this will show the concatenated tuple\n",
    "print(tuple_d)\n",
    "print(len(tuple_d))"
   ]
  },
  {
   "cell_type": "code",
   "execution_count": 81,
   "id": "5e23af75",
   "metadata": {},
   "outputs": [
    {
     "data": {
      "text/plain": [
       "(1, 2, 3, (4, 5, 6), 1, 2, 3, (4, 5, 6), 1, 2, 3, (4, 5, 6))"
      ]
     },
     "execution_count": 81,
     "metadata": {},
     "output_type": "execute_result"
    }
   ],
   "source": [
    "# example of using the * operator\n",
    "# this will make three copies of the tuple\n",
    "nested_tup * 3"
   ]
  },
  {
   "cell_type": "markdown",
   "id": "8cf20d77",
   "metadata": {},
   "source": [
    "### Max and Min functions (Tuples)"
   ]
  },
  {
   "cell_type": "code",
   "execution_count": 82,
   "id": "2e500304",
   "metadata": {},
   "outputs": [
    {
     "name": "stdout",
     "output_type": "stream",
     "text": [
      "44\n",
      "1\n"
     ]
    }
   ],
   "source": [
    "# example of using max() and min()\n",
    "a = (1, 13, 44, 23)\n",
    "\n",
    "# this will show the highest value\n",
    "print(max(a))\n",
    "\n",
    "# this will show the lowest value\n",
    "print(min(a))"
   ]
  },
  {
   "cell_type": "markdown",
   "id": "83b69ac8",
   "metadata": {},
   "source": [
    "### Tuple unpacking"
   ]
  },
  {
   "cell_type": "code",
   "execution_count": 83,
   "id": "3754bed9",
   "metadata": {},
   "outputs": [
    {
     "name": "stdout",
     "output_type": "stream",
     "text": [
      "Earth\n",
      "Saturn\n",
      "Pluto\n",
      "Pluto Saturn Earth\n"
     ]
    }
   ],
   "source": [
    "# example of assigning values to objects\n",
    "celestial_objects = (\"Earth\", \"Saturn\", \"Pluto\")\n",
    "\n",
    "# notice the sequence\n",
    "planet, gas_giant, dwarf_planet = celestial_objects\n",
    "\n",
    "# each of these will output the corresponding object from the tuple\n",
    "print(planet)\n",
    "print(gas_giant)\n",
    "print(dwarf_planet)\n",
    "print(dwarf_planet, gas_giant, planet)"
   ]
  },
  {
   "cell_type": "code",
   "execution_count": 84,
   "id": "9c9fee95",
   "metadata": {},
   "outputs": [
    {
     "ename": "ValueError",
     "evalue": "too many values to unpack (expected 2)",
     "output_type": "error",
     "traceback": [
      "\u001b[1;31m---------------------------------------------------------------------------\u001b[0m",
      "\u001b[1;31mValueError\u001b[0m                                Traceback (most recent call last)",
      "\u001b[1;32m~\\AppData\\Local\\Temp/ipykernel_20296/2548438197.py\u001b[0m in \u001b[0;36m<module>\u001b[1;34m\u001b[0m\n\u001b[0;32m      4\u001b[0m \u001b[1;31m# notice two variables, while the tuple contains three objects\u001b[0m\u001b[1;33m\u001b[0m\u001b[1;33m\u001b[0m\u001b[0m\n\u001b[0;32m      5\u001b[0m \u001b[1;31m# this will result in an error\u001b[0m\u001b[1;33m\u001b[0m\u001b[1;33m\u001b[0m\u001b[0m\n\u001b[1;32m----> 6\u001b[1;33m \u001b[0mplanet\u001b[0m\u001b[1;33m,\u001b[0m \u001b[0mgas_giant\u001b[0m \u001b[1;33m=\u001b[0m \u001b[0mcelestial_objects\u001b[0m\u001b[1;33m\u001b[0m\u001b[1;33m\u001b[0m\u001b[0m\n\u001b[0m",
      "\u001b[1;31mValueError\u001b[0m: too many values to unpack (expected 2)"
     ]
    }
   ],
   "source": [
    "# example when the number of variables isn't equal\n",
    "celestial_objects = (\"Earth\", \"Saturn\", \"Pluto\")\n",
    "\n",
    "# notice two variables, while the tuple contains three objects\n",
    "# this will result in an error\n",
    "planet, gas_giant = celestial_objects"
   ]
  },
  {
   "cell_type": "code",
   "execution_count": 85,
   "id": "b79233fd",
   "metadata": {},
   "outputs": [
    {
     "name": "stdout",
     "output_type": "stream",
     "text": [
      "(1, 2, 'Pluto', [1, 2, 3, 4])\n",
      "4\n"
     ]
    }
   ],
   "source": [
    "# example of modifying a list within a tuple\n",
    "tup = (1, 2, 'Pluto', [1, 2, 3])\n",
    "\n",
    "# identify the index position of the list and make the modification\n",
    "# appending 4 to the list\n",
    "tup[3].append(4)\n",
    "\n",
    "print(tup)\n",
    "print(len(tup))"
   ]
  },
  {
   "cell_type": "code",
   "execution_count": 86,
   "id": "da59d4f1",
   "metadata": {},
   "outputs": [
    {
     "name": "stdout",
     "output_type": "stream",
     "text": [
      "(1, 1.0, 5, 5.1, 6.8)\n",
      "5\n",
      "1\n",
      "6.8\n",
      "1\n",
      "5\n"
     ]
    }
   ],
   "source": [
    "tup_1 = (1, 1.0, 5, 5.1, 6.8)\n",
    "\n",
    "print(tup_1)\n",
    "print(len(tup_1))\n",
    "print(min(tup_1))\n",
    "print(max(tup_1))\n",
    "print(tup_1[0])\n",
    "print(tup_1[2])"
   ]
  },
  {
   "cell_type": "markdown",
   "id": "2de1dba7",
   "metadata": {},
   "source": [
    "### Dictionaries"
   ]
  },
  {
   "cell_type": "code",
   "execution_count": 87,
   "id": "46bfa06a",
   "metadata": {},
   "outputs": [
    {
     "name": "stdout",
     "output_type": "stream",
     "text": [
      "{'key1': 'Name', 'key2': 'Age', 'key3': 1964}\n"
     ]
    }
   ],
   "source": [
    "# example of the dictionary data structure\n",
    "# notice how each key has a value joined by :\n",
    "# notice the curly brackets\n",
    "dict_1 = {\"key1\":\"Name\",\n",
    "          \"key2\":\"Age\",\n",
    "          \"key3\": 1964} \n",
    "\n",
    "print(dict_1)"
   ]
  },
  {
   "cell_type": "markdown",
   "id": "69043cfb",
   "metadata": {},
   "source": [
    "### Methods of a dictionary"
   ]
  },
  {
   "cell_type": "code",
   "execution_count": 88,
   "id": "a2a2ff0e",
   "metadata": {},
   "outputs": [
    {
     "name": "stdout",
     "output_type": "stream",
     "text": [
      "{'key1': 'Name', 'key2': 'new_value', 'key3': 1964}\n"
     ]
    }
   ],
   "source": [
    "# change the value of key 2\n",
    "dict_1['key2'] = \"new_value\"\n",
    "\n",
    "print(dict_1)"
   ]
  },
  {
   "cell_type": "code",
   "execution_count": 91,
   "id": "90856efa",
   "metadata": {},
   "outputs": [
    {
     "name": "stdout",
     "output_type": "stream",
     "text": [
      "{'key1': 'Name', 'key2': 'new_value', 'key3': '1964', 'key4': 'address'}\n"
     ]
    }
   ],
   "source": [
    "# add a new key value pair\n",
    "dict_1['key4'] = \"address\"\n",
    "\n",
    "print(dict_1)"
   ]
  },
  {
   "cell_type": "code",
   "execution_count": 92,
   "id": "b75501a0",
   "metadata": {},
   "outputs": [
    {
     "name": "stdout",
     "output_type": "stream",
     "text": [
      "{'key1': 'Name', 'key2': 'new_value', 'key3': '1964', 'key4': ['48 Mainstreet']}\n"
     ]
    }
   ],
   "source": [
    "# example of changing and replacing values in a dictionary\n",
    "dict_1['key4'] = [\"48 Mainstreet\"]\n",
    "\n",
    "print(dict_1)"
   ]
  },
  {
   "cell_type": "code",
   "execution_count": 96,
   "id": "68c1d2c2",
   "metadata": {},
   "outputs": [
    {
     "name": "stdout",
     "output_type": "stream",
     "text": [
      "{'key1': 'Richard', 'key2': '25', 'key3': '1997', 'key4': ['23 Arlington Green']}\n"
     ]
    }
   ],
   "source": [
    "dict_1['key1'] = 'Richard'\n",
    "dict_1['key2'] = '25'\n",
    "dict_1['key3'] = '1997'\n",
    "dict_1['key4'] = ['23 Arlington Green']\n",
    "\n",
    "print(dict_1)"
   ]
  },
  {
   "cell_type": "markdown",
   "id": "969d08be",
   "metadata": {},
   "source": [
    "### Deleting the entry from a dictionary"
   ]
  },
  {
   "cell_type": "code",
   "execution_count": 97,
   "id": "e3efd66a",
   "metadata": {},
   "outputs": [
    {
     "name": "stdout",
     "output_type": "stream",
     "text": [
      "{'key2': '25', 'key3': '1997', 'key4': ['23 Arlington Green']}\n"
     ]
    }
   ],
   "source": [
    "# example of deleting an entry from a dictionary\n",
    "# delete an entry\n",
    "del dict_1[\"key1\"]\n",
    "\n",
    "print(dict_1)"
   ]
  },
  {
   "cell_type": "code",
   "execution_count": 98,
   "id": "4bd7147f",
   "metadata": {},
   "outputs": [
    {
     "name": "stdout",
     "output_type": "stream",
     "text": [
      "{'key2': '25', 'key4': ['23 Arlington Green']}\n"
     ]
    }
   ],
   "source": [
    "# example of deleting an entry from a dictionary using the pop() method\n",
    "# delete key 3\n",
    "dict_1.pop(\"key3\")\n",
    "\n",
    "print(dict_1)"
   ]
  },
  {
   "cell_type": "markdown",
   "id": "1f29c9b0",
   "metadata": {},
   "source": [
    "### Key and value iterators"
   ]
  },
  {
   "cell_type": "code",
   "execution_count": 101,
   "id": "34a9e92e",
   "metadata": {},
   "outputs": [
    {
     "name": "stdout",
     "output_type": "stream",
     "text": [
      "dict_keys(['key1', 'key2', 'key3', 'key4', 'key5'])\n",
      "dict_values(['Name', 'Initials', 'Age', 'Occupation', 'Address'])\n"
     ]
    }
   ],
   "source": [
    "dict_2 = {\"key1\":\"Name\", \"key2\":\"Initials\", \"key3\":\"Age\", \"key4\":\"Occupation\", \"key5\":\"Address\"}\n",
    "# show keys only\n",
    "print(dict_2.keys())\n",
    "\n",
    "# show values only\n",
    "print(dict_2.values())"
   ]
  },
  {
   "cell_type": "markdown",
   "id": "74aaa6c4",
   "metadata": {},
   "source": [
    "### Creating a dictionary from sequence"
   ]
  },
  {
   "cell_type": "code",
   "execution_count": 102,
   "id": "f4e008c5",
   "metadata": {},
   "outputs": [
    {
     "name": "stdout",
     "output_type": "stream",
     "text": [
      "['key1', 'key2', 'key3', 'key4', 'key5']\n",
      "['Apple', 'Fruit', 'Red', 'Juicy', 'Firm']\n",
      "{'key1': 'Apple', 'key2': 'Fruit', 'key3': 'Red', 'key4': 'Juicy', 'key5': 'Firm'}\n"
     ]
    }
   ],
   "source": [
    "# example of creating a dictionary from a sequence\n",
    "key_list = ['key1', 'key2', 'key3', 'key4', 'key5']\n",
    "value_list = ['Apple', 'Fruit', 'Red', 'Juicy', 'Firm']\n",
    "\n",
    "# view keys\n",
    "print(key_list)\n",
    "\n",
    "# view values\n",
    "print(value_list)\n",
    "\n",
    "# Creating new dictionary \n",
    "dict_3 = dict(zip(key_list, value_list))\n",
    "\n",
    "# view dictionary\n",
    "print(dict_3)"
   ]
  },
  {
   "cell_type": "code",
   "execution_count": 104,
   "id": "c2db6b23",
   "metadata": {},
   "outputs": [
    {
     "name": "stdout",
     "output_type": "stream",
     "text": [
      "['key1', 'key2', 'key3', 'key4', 'key5']\n",
      "('Apple', 'Fruit', 'Red', 'Juicy', 'Firm')\n",
      "{'key1': 'Apple', 'key2': 'Fruit', 'key3': 'Red', 'key4': 'Juicy', 'key5': 'Firm'}\n"
     ]
    }
   ],
   "source": [
    "key_list = ['key1', 'key2', 'key3', 'key4', 'key5']\n",
    "value_tuple = ('Apple', 'Fruit', 'Red', 'Juicy', 'Firm')\n",
    "\n",
    "print(key_list)\n",
    "\n",
    "print(value_tuple)\n",
    "\n",
    "dict_3 = dict(zip(key_list, value_tuple))\n",
    "\n",
    "print(dict_3)"
   ]
  },
  {
   "cell_type": "markdown",
   "id": "f22d2ec2",
   "metadata": {},
   "source": [
    "### Sets"
   ]
  },
  {
   "cell_type": "code",
   "execution_count": 105,
   "id": "4185e6b3",
   "metadata": {},
   "outputs": [
    {
     "name": "stdout",
     "output_type": "stream",
     "text": [
      "{1, 2, 3, 4}\n",
      "<class 'set'>\n"
     ]
    }
   ],
   "source": [
    "# example of a set\n",
    "set1 = set([1, 2, 3, 4, 4, 2])\n",
    "\n",
    "# view the set\n",
    "print(set1)\n",
    "\n",
    "# view the data type\n",
    "print(type(set1))"
   ]
  },
  {
   "cell_type": "code",
   "execution_count": 106,
   "id": "0a3a0cc1",
   "metadata": {},
   "outputs": [
    {
     "name": "stdout",
     "output_type": "stream",
     "text": [
      "{5, 6, 7}\n",
      "<class 'set'>\n"
     ]
    }
   ],
   "source": [
    "# example of a set\n",
    "set2 = {5, 6, 7, 7, 6, 5}\n",
    "\n",
    "# view the set\n",
    "print(set2)\n",
    "\n",
    "# view the data type\n",
    "print(type(set2))"
   ]
  },
  {
   "cell_type": "markdown",
   "id": "937a7815",
   "metadata": {},
   "source": [
    "### Methods of a set"
   ]
  },
  {
   "cell_type": "code",
   "execution_count": 107,
   "id": "9725a954",
   "metadata": {},
   "outputs": [
    {
     "name": "stdout",
     "output_type": "stream",
     "text": [
      "{1, 2, 3, 4, 'cake'}\n",
      "<class 'set'>\n"
     ]
    }
   ],
   "source": [
    "# example of adding an item to a set\n",
    "# use the .add() method\n",
    "set1.add(\"cake\")\n",
    "\n",
    "# view the set\n",
    "print(set1)\n",
    "\n",
    "# view the data type\n",
    "print(type(set1))"
   ]
  },
  {
   "cell_type": "code",
   "execution_count": 108,
   "id": "930c206c",
   "metadata": {},
   "outputs": [
    {
     "name": "stdout",
     "output_type": "stream",
     "text": [
      "{1, 2, 3, 4, 5, 6, 7, 'cake'}\n",
      "<class 'set'>\n"
     ]
    }
   ],
   "source": [
    "# example of adding an item to a set\n",
    "# use the .update() method\n",
    "set1.update(set2)\n",
    "\n",
    "# view the set\n",
    "print(set1)\n",
    "\n",
    "# view the data type\n",
    "print(type(set1))"
   ]
  },
  {
   "cell_type": "code",
   "execution_count": 109,
   "id": "a288472f",
   "metadata": {},
   "outputs": [
    {
     "name": "stdout",
     "output_type": "stream",
     "text": [
      "{'banana', 1, 2, 3, 4, 5, 6, 7, 'cherry', 'apple', 'microsoft', 'google', 'cake'}\n",
      "<class 'set'>\n"
     ]
    }
   ],
   "source": [
    "# example of the union() method\n",
    "# create two new sets\n",
    "set3 = {\"apple\", \"banana\", \"cherry\"}\n",
    "set4 = {\"google\", \"microsoft\", \"apple\"}\n",
    "\n",
    "# syntax : set.union(set1, set2...)\n",
    "set5 = set1.union(set3, set4)\n",
    "\n",
    "# view the set\n",
    "print(set5)\n",
    "\n",
    "# view the data type\n",
    "print(type(set5))"
   ]
  },
  {
   "cell_type": "code",
   "execution_count": 110,
   "id": "c6fbe700",
   "metadata": {},
   "outputs": [
    {
     "name": "stdout",
     "output_type": "stream",
     "text": [
      "{'apple'}\n",
      "<class 'set'>\n"
     ]
    }
   ],
   "source": [
    "# example of the intersection() method\n",
    "# use the intersection() method\n",
    "# syntax : set.intersection(set1, set2 ... etc)\n",
    "z = set3.intersection(set4)\n",
    "\n",
    "# view the set\n",
    "print(z)\n",
    "\n",
    "# view the data type\n",
    "print(type(z))"
   ]
  },
  {
   "cell_type": "code",
   "execution_count": 111,
   "id": "20ea455f",
   "metadata": {},
   "outputs": [
    {
     "name": "stdout",
     "output_type": "stream",
     "text": [
      "{5, 6, 7}\n",
      "<class 'set'>\n"
     ]
    }
   ],
   "source": [
    "# example of the intersection() method\n",
    "# use the intersection() method\n",
    "# syntax : set.intersection(set1, set2 ... etc)\n",
    "z = set1.intersection(set2)\n",
    "\n",
    "# view the set\n",
    "print(z)\n",
    "\n",
    "# view the data type\n",
    "print(type(z))"
   ]
  },
  {
   "cell_type": "code",
   "execution_count": 112,
   "id": "3dac214e",
   "metadata": {},
   "outputs": [
    {
     "name": "stdout",
     "output_type": "stream",
     "text": [
      "{'google', 'microsoft'}\n",
      "<class 'set'>\n"
     ]
    }
   ],
   "source": [
    "# example of the .difference() method\n",
    "# syntax : set.difference(set)\n",
    "x = set4.difference(set3)\n",
    "\n",
    "# view the set\n",
    "print(x)\n",
    "\n",
    "# view the data type\n",
    "print(type(x))"
   ]
  },
  {
   "cell_type": "code",
   "execution_count": 113,
   "id": "aa67e39b",
   "metadata": {},
   "outputs": [
    {
     "name": "stdout",
     "output_type": "stream",
     "text": [
      "{1, 2, 3, 4, 'cake'}\n",
      "<class 'set'>\n"
     ]
    }
   ],
   "source": [
    "# example of the symmetric_difference() method\n",
    "# syntax : set.symmetric_difference(set)\n",
    "a = set1.symmetric_difference(set2)\n",
    "\n",
    "# view the set\n",
    "print(a)\n",
    "\n",
    "# view the data type\n",
    "print(type(a))"
   ]
  },
  {
   "cell_type": "code",
   "execution_count": 114,
   "id": "1aebf69c",
   "metadata": {},
   "outputs": [
    {
     "name": "stdout",
     "output_type": "stream",
     "text": [
      "{'banana', 'cherry', 'microsoft', 'google'}\n",
      "<class 'set'>\n"
     ]
    }
   ],
   "source": [
    "# example of the symmetric_difference() method\n",
    "# syntax : set.symmetric_difference(set)\n",
    "a = set3.symmetric_difference(set4)\n",
    "\n",
    "# view the set\n",
    "print(a)\n",
    "\n",
    "# view the data type\n",
    "print(type(a))"
   ]
  },
  {
   "cell_type": "code",
   "execution_count": 116,
   "id": "e269fea6",
   "metadata": {},
   "outputs": [
    {
     "name": "stdout",
     "output_type": "stream",
     "text": [
      "{'tomato'}\n"
     ]
    }
   ],
   "source": [
    "# find the intersection\n",
    "fruit = {'apple', 'pear', 'watermelon', 'tomato'}\n",
    "vegetables = {'carrot', 'tomato', 'parsnip', 'leek'}\n",
    "\n",
    "print(fruit.intersection(vegetables))"
   ]
  },
  {
   "cell_type": "code",
   "execution_count": 119,
   "id": "e9712f15",
   "metadata": {},
   "outputs": [
    {
     "name": "stdout",
     "output_type": "stream",
     "text": [
      "{'beetroot', 'tomato', 'leek', 'parsnip', 'carrot'}\n",
      "{'beetroot', 'pear', 'watermelon', 'apple', 'tomato', 'leek', 'parsnip', 'carrot'}\n",
      "{'parsnip', 'beetroot', 'carrot', 'leek'}\n"
     ]
    }
   ],
   "source": [
    "# Question 1:\n",
    "# add beetroot to vegetables with add()\n",
    "vegetables.add('beetroot')\n",
    "# view set vegetable\n",
    "print(vegetables)\n",
    "\n",
    "# Question 2:\n",
    "# combine two sets with union()#\n",
    "# name the variable edible_plants\n",
    "edible_plants = vegetables.union(fruit)\n",
    "# view the vegetables set\n",
    "print(edible_plants)\n",
    "\n",
    "# Question 3:\n",
    "# identify the vegetables in the edible_plants set\n",
    "# use .difference()\n",
    "print(edible_plants.difference(fruit))"
   ]
  },
  {
   "cell_type": "markdown",
   "id": "9dc125e3",
   "metadata": {},
   "source": [
    "### Control Flow Expressions (structures)"
   ]
  },
  {
   "cell_type": "markdown",
   "id": "0cce555f",
   "metadata": {},
   "source": [
    "### The if statement"
   ]
  },
  {
   "cell_type": "code",
   "execution_count": 126,
   "id": "af7d56c1",
   "metadata": {},
   "outputs": [
    {
     "name": "stdout",
     "output_type": "stream",
     "text": [
      "a is greater than b\n"
     ]
    }
   ],
   "source": [
    "# create two variables\n",
    "a = 20\n",
    "b = 5\n",
    "\n",
    "# use the if statement\n",
    "# specify the test expression as a > b\n",
    "# note the colon (:)\n",
    "if a > b:\n",
    "# note the indention\n",
    "# view the output as a string\n",
    "    print(\"a is greater than b\")"
   ]
  },
  {
   "cell_type": "code",
   "execution_count": 127,
   "id": "a1a397b1",
   "metadata": {},
   "outputs": [],
   "source": [
    "# create two variables\n",
    "a = 2\n",
    "b = 5\n",
    "\n",
    "# use the if statement\n",
    "# specify the test expression as a > b\n",
    "# note the colon (:)\n",
    "if a > b:\n",
    "   # note the indention\n",
    "   # view the output as a string\n",
    "    print(\"a is greater than b\")"
   ]
  },
  {
   "cell_type": "markdown",
   "id": "718fb342",
   "metadata": {},
   "source": [
    "### The elif statement"
   ]
  },
  {
   "cell_type": "code",
   "execution_count": 130,
   "id": "386a39b5",
   "metadata": {},
   "outputs": [
    {
     "name": "stdout",
     "output_type": "stream",
     "text": [
      "a is greater than b\n"
     ]
    }
   ],
   "source": [
    "# create two variables\n",
    "a = 20\n",
    "b = 5\n",
    "\n",
    "# use the if statement\n",
    "# specify the test expression as a > b\n",
    "# note the colon (:)\n",
    "if a < b:\n",
    "    # note the indention\n",
    "    # view the output as a string\n",
    "    print(\"a is smaller than b\")\n",
    "# use the elif statement\n",
    "# specify the test expression as a < b\n",
    "# note the colon (:)\n",
    "elif a > b:\n",
    "    # note the indention\n",
    "    # view the output as a string\n",
    "    print(\"a is greater than b\")"
   ]
  },
  {
   "cell_type": "code",
   "execution_count": 131,
   "id": "3395b104",
   "metadata": {},
   "outputs": [
    {
     "name": "stdout",
     "output_type": "stream",
     "text": [
      "a is smaller than b\n"
     ]
    }
   ],
   "source": [
    "# create two variables\n",
    "a = 20\n",
    "b = 5\n",
    "\n",
    "# use the if statement\n",
    "# specify the test expression as a > b\n",
    "# note the colon (:)\n",
    "if a > b:\n",
    "    # note the indention\n",
    "    # view the output as a string\n",
    "    print(\"a is smaller than b\")\n",
    "# use the elif statement\n",
    "# specify the test expression as a < b\n",
    "# note the colon (:)\n",
    "elif a < b:\n",
    "    # note the indention\n",
    "    # view the output as a string\n",
    "    print(\"a is greater than b\")"
   ]
  },
  {
   "cell_type": "markdown",
   "id": "9595220e",
   "metadata": {},
   "source": [
    "### The else statement"
   ]
  },
  {
   "cell_type": "code",
   "execution_count": 132,
   "id": "a074c0c0",
   "metadata": {},
   "outputs": [
    {
     "name": "stdout",
     "output_type": "stream",
     "text": [
      "a is not equal to b\n"
     ]
    }
   ],
   "source": [
    "# create two variables\n",
    "a = 20\n",
    "b = 5\n",
    "\n",
    "# use the if statement\n",
    "# specify the test expression as a > b\n",
    "# note the colon (:)\n",
    "if a == b:\n",
    "    # note the indention\n",
    "    # view the output as a string\n",
    "    print(\"a is equal to b\")\n",
    "# use the elif statement\n",
    "# specify the test expression as a < b\n",
    "# note the colon (:)\n",
    "elif a == b:\n",
    "    # note the indention\n",
    "    # view the output as a string\n",
    "    print(\"a is equal to b\")\n",
    "# use the else statement\n",
    "# note the colon (:)    \n",
    "else:\n",
    "    # note the indention\n",
    "    # view the output as a string\n",
    "    print(\"a is not equal to b\")"
   ]
  },
  {
   "cell_type": "code",
   "execution_count": 133,
   "id": "47594e29",
   "metadata": {},
   "outputs": [
    {
     "name": "stdout",
     "output_type": "stream",
     "text": [
      "a is bigger than b\n"
     ]
    }
   ],
   "source": [
    "# create two variables\n",
    "a = 20\n",
    "b = 5\n",
    "\n",
    "# use the if statement\n",
    "# specify the test expression as a > b\n",
    "# note the colon (:)\n",
    "if a > b:\n",
    "    # note the indention\n",
    "    # view the output as a string\n",
    "    print(\"a is bigger than b\")\n",
    "# use the elif statement\n",
    "# specify the test expression as a < b\n",
    "# note the colon (:)\n",
    "elif a == b:\n",
    "    # note the indention\n",
    "    # view the output as a string\n",
    "    print(\"a is equal to b\")\n",
    "# use the else statement\n",
    "# note the colon (:)    \n",
    "else:\n",
    "    # note the indention\n",
    "    # view the output as a string\n",
    "    print(\"a is not equal to b\")"
   ]
  },
  {
   "cell_type": "code",
   "execution_count": 134,
   "id": "115705bb",
   "metadata": {},
   "outputs": [
    {
     "name": "stdout",
     "output_type": "stream",
     "text": [
      "a is not equal to b\n"
     ]
    }
   ],
   "source": [
    "# create two variables\n",
    "a = 20\n",
    "b = 5\n",
    "\n",
    "# use the if statement\n",
    "# specify the test expression as a > b\n",
    "# note the colon (:)\n",
    "if a == b:\n",
    "    # note the indention\n",
    "    # view the output as a string\n",
    "    print(\"a is bigger than b\")\n",
    "# use the elif statement\n",
    "# specify the test expression as a < b\n",
    "# note the colon (:)\n",
    "elif a < b:\n",
    "    # note the indention\n",
    "    # view the output as a string\n",
    "    print(\"a is equal to b\")\n",
    "# use the else statement\n",
    "# note the colon (:)    \n",
    "else:\n",
    "    # note the indention\n",
    "    # view the output as a string\n",
    "    print(\"a is not equal to b\")"
   ]
  },
  {
   "cell_type": "markdown",
   "id": "1e2e893f",
   "metadata": {},
   "source": [
    "### Control flow expressions: Loops"
   ]
  },
  {
   "cell_type": "markdown",
   "id": "dae4c29b",
   "metadata": {},
   "source": [
    "### 'For' loops"
   ]
  },
  {
   "cell_type": "code",
   "execution_count": 138,
   "id": "e2b727dd",
   "metadata": {},
   "outputs": [
    {
     "name": "stdout",
     "output_type": "stream",
     "text": [
      "London\n",
      "Paris\n",
      "New York City\n",
      "Singapore\n"
     ]
    }
   ],
   "source": [
    "# Print each item in the list\n",
    "cities = ['London', 'Paris', 'New York City','Singapore']\n",
    "\n",
    "# 'item' in this line is an object in the list\n",
    "for item in cities:\n",
    "    # view the list\n",
    "    print(item)"
   ]
  },
  {
   "cell_type": "code",
   "execution_count": 144,
   "id": "016dea84",
   "metadata": {},
   "outputs": [
    {
     "name": "stdout",
     "output_type": "stream",
     "text": [
      "T\n",
      "o\n",
      "p\n",
      " \n",
      "C\n",
      "i\n",
      "t\n",
      "i\n",
      "e\n",
      "s\n"
     ]
    }
   ],
   "source": [
    "# Print each item in the string\n",
    "a = 'Top Cities'\n",
    "\n",
    "# i is a variable\n",
    "for i in a: \n",
    "    # view the list\n",
    "    print(i)"
   ]
  },
  {
   "cell_type": "code",
   "execution_count": 145,
   "id": "22f5dc3f",
   "metadata": {},
   "outputs": [
    {
     "name": "stdout",
     "output_type": "stream",
     "text": [
      "London\n",
      "Paris\n",
      "New York City\n"
     ]
    }
   ],
   "source": [
    "# Print each item in a tuple\n",
    "tup_a = ('London', 'Paris', 'New York City')\n",
    "# Print each item inside a tuple\n",
    "for i in tup_a:\n",
    "    print(i)"
   ]
  },
  {
   "cell_type": "code",
   "execution_count": 146,
   "id": "4b677085",
   "metadata": {},
   "outputs": [
    {
     "name": "stdout",
     "output_type": "stream",
     "text": [
      "city\n",
      "age\n",
      "population\n"
     ]
    }
   ],
   "source": [
    "# Print each item in a tuple\n",
    "a_dict = {'city': 'London', 'age': 2000, 'population': 8.9} \n",
    "# Age given in years and pop. in millions.\n",
    "for i in a_dict:\n",
    "    print(i)"
   ]
  },
  {
   "cell_type": "markdown",
   "id": "2e3ca550",
   "metadata": {},
   "source": [
    "### 'While' loops"
   ]
  },
  {
   "cell_type": "code",
   "execution_count": 147,
   "id": "1e817ce2",
   "metadata": {},
   "outputs": [
    {
     "name": "stdout",
     "output_type": "stream",
     "text": [
      "2\n",
      "3\n",
      "4\n",
      "5\n",
      "6\n",
      "7\n",
      "8\n",
      "9\n"
     ]
    }
   ],
   "source": [
    "# create a variable\n",
    "i = 1\n",
    "# specify the condition\n",
    "while i < 9:\n",
    "    # This is the loop body - the += operator is adding 1 to i.\n",
    "    i += 1\n",
    "    # view the output\n",
    "    print(i)"
   ]
  },
  {
   "cell_type": "code",
   "execution_count": 3,
   "id": "c582b7ae",
   "metadata": {},
   "outputs": [
    {
     "name": "stdout",
     "output_type": "stream",
     "text": [
      "Count : 1\n",
      "Python is fun!\n",
      "Count : 2\n",
      "Python is fun!\n",
      "Count : 3\n",
      "Python is fun!\n",
      "Count : 4\n",
      "Python is fun!\n",
      "Count : 5\n",
      "Python is fun!\n"
     ]
    }
   ],
   "source": [
    "# define the variable\n",
    "count = 0\n",
    "# specify the condition\n",
    "while count < 5:\n",
    "    count = count + 1\n",
    "    # specify the docstring with f\"\"\n",
    "    print(f\"Count : {count}\")\n",
    "    # view the output\n",
    "    print(\"Python is fun!\")"
   ]
  },
  {
   "cell_type": "code",
   "execution_count": 8,
   "id": "ddec067e",
   "metadata": {},
   "outputs": [
    {
     "name": "stdout",
     "output_type": "stream",
     "text": [
      "Current Letter : e\n",
      "Current Letter : r\n",
      "Current Letter : o\n",
      "Current Letter : p\n",
      "Current Letter : l\n",
      "Current Letter : e\n"
     ]
    }
   ],
   "source": [
    "i = 0\n",
    "a = \"aeroplane\"\n",
    "while i < len(a): #the len function returns the length of an object\n",
    "    if a[i] == 'a' or a[i] == 'n':\n",
    "        i += 1\n",
    "        continue\n",
    "\n",
    "    print('Current Letter :', a[i])\n",
    "    i += 1"
   ]
  },
  {
   "cell_type": "code",
   "execution_count": 7,
   "id": "2c3b0ddb",
   "metadata": {},
   "outputs": [
    {
     "name": "stdout",
     "output_type": "stream",
     "text": [
      "Current Letter: G\n",
      "Current Letter: u\n",
      "Current Letter: n\n",
      "Current Letter: d\n",
      "Current Letter: a\n",
      "Current Letter: m\n"
     ]
    }
   ],
   "source": [
    "i = 0\n",
    "a = \"Gundam\"\n",
    "while i < len(a):\n",
    "    if a[i] == '' or a[i] == '':\n",
    "        i += 1\n",
    "        continue\n",
    "    print('Current Letter:', a[i])\n",
    "    i += 1"
   ]
  },
  {
   "cell_type": "code",
   "execution_count": 10,
   "id": "a53f51f8",
   "metadata": {},
   "outputs": [
    {
     "name": "stdout",
     "output_type": "stream",
     "text": [
      "red apple\n",
      "red banana\n",
      "red cherry\n",
      "big apple\n",
      "big banana\n",
      "big cherry\n",
      "tasty apple\n",
      "tasty banana\n",
      "tasty cherry\n"
     ]
    }
   ],
   "source": [
    "# Print each adjective for every fruit:\n",
    "adj = [\"red\", \"big\", \"tasty\"]\n",
    "fruits = [\"apple\", \"banana\", \"cherry\"]\n",
    "\n",
    "for x in adj:\n",
    "    for y in fruits:\n",
    "        print(x, y)"
   ]
  },
  {
   "cell_type": "code",
   "execution_count": 14,
   "id": "c4bd8291",
   "metadata": {},
   "outputs": [
    {
     "name": "stdout",
     "output_type": "stream",
     "text": [
      "London\n",
      "Paris\n",
      "New York City\n"
     ]
    }
   ],
   "source": [
    "# Exit the loop when 'x' is New York City\n",
    "cities = ['London', 'Paris', 'New York City','Singapore']\n",
    "for x in cities:\n",
    "    print(x)\n",
    "\n",
    "    if x == 'New York City':\n",
    "        break"
   ]
  },
  {
   "cell_type": "code",
   "execution_count": 17,
   "id": "413776d4",
   "metadata": {},
   "outputs": [
    {
     "name": "stdout",
     "output_type": "stream",
     "text": [
      "London\n",
      "Paris\n",
      "New York City\n",
      "Singapore\n",
      "Hong Kong\n",
      "Milan\n",
      "Sydney\n",
      "Shenzhen\n",
      "Shanghai\n",
      "Dubai\n",
      "Berlin\n",
      "Tokyo\n"
     ]
    }
   ],
   "source": [
    "# Do not stop at New York City\n",
    "cities = ['London', 'Paris', 'New York City','Singapore', 'Hong Kong', 'Milan', 'Sydney', 'Shenzhen', 'Shanghai', \n",
    "          'Dubai', 'Berlin', 'Tokyo']\n",
    "for x in cities:\n",
    "    print(x)\n",
    "    \n",
    "    if x == \"New York City\":\n",
    "        continue\n",
    "        print(x)"
   ]
  },
  {
   "cell_type": "code",
   "execution_count": 18,
   "id": "bee08631",
   "metadata": {},
   "outputs": [],
   "source": [
    "cities = ['London', 'Paris', 'New York City', 'Singapore']\n",
    "             \n",
    "for i in cities:\n",
    "    pass"
   ]
  },
  {
   "cell_type": "code",
   "execution_count": 28,
   "id": "de1c4e84",
   "metadata": {},
   "outputs": [
    {
     "name": "stdout",
     "output_type": "stream",
     "text": [
      "Nissan\n",
      "Ford\n",
      "Toyota\n"
     ]
    }
   ],
   "source": [
    "# create a list of five cars\n",
    "cars = [\"Nissan\", \"Ford\", \"Toyota\", \"Fiat\", \"VW\"]\n",
    "\n",
    "# create a for loop\n",
    "for i in cars:\n",
    "    # create a statement\n",
    "    print(i)\n",
    "    \n",
    "    # create an if statement\n",
    "    if i== 'Toyota':\n",
    "        # insert a break statement\n",
    "        break"
   ]
  },
  {
   "cell_type": "markdown",
   "id": "249170ae",
   "metadata": {},
   "source": [
    "### 1.3 Python libraries and reproducibility of code"
   ]
  },
  {
   "cell_type": "markdown",
   "id": "f44484ef",
   "metadata": {},
   "source": [
    "### 1.3.2 Objects and classes in Python"
   ]
  },
  {
   "cell_type": "code",
   "execution_count": 3,
   "id": "678ad61c",
   "metadata": {},
   "outputs": [
    {
     "name": "stdout",
     "output_type": "stream",
     "text": [
      "Hello my name is Richard, I'm 25 years old and I speak Chinese.\n"
     ]
    }
   ],
   "source": [
    "class Person:\n",
    "    def __init__(self, name, age, language):\n",
    "        self.name = name\n",
    "        self.age = age\n",
    "        self.language = language\n",
    "    def introduce(self):\n",
    "        print(f'Hello my name is {self.name}, I\\'m {self.age} years old and I speak {self.language}.')\n",
    "        \n",
    "person_object = Person('Richard', '25', 'Chinese')\n",
    "person_object.introduce()"
   ]
  },
  {
   "cell_type": "code",
   "execution_count": 6,
   "id": "6c9a8f10",
   "metadata": {},
   "outputs": [
    {
     "name": "stdout",
     "output_type": "stream",
     "text": [
      "Hello my name is Richard, I'm 25 years old, I speak Chinese and I live in London.\n",
      "Hello my name is Paul, I'm 73 years old, I speak English and I live in London.\n",
      "Hello my name is Kira Yamato, I'm 17 years old, I speak Japanese and I live in P.L.A.N.T..\n",
      "Hello my name is Joseph, I'm 17 years old, I speak Chinese and I live in Shenzhen.\n"
     ]
    }
   ],
   "source": [
    "class Person:\n",
    "    def __init__(self, name, age, language, city):\n",
    "        self.name = name\n",
    "        self.age = age\n",
    "        self.language = language\n",
    "        self.city = city\n",
    "    def introduce(self):\n",
    "        print(f'Hello my name is {self.name}, I\\'m {self.age} years old, I speak {self.language} and I live in {self.city}.')\n",
    "        \n",
    "person_object = Person('Richard', '25', 'Chinese', 'London')\n",
    "person_object.introduce()\n",
    "\n",
    "person_object_2 = Person('Paul', '73', 'English', 'London')\n",
    "person_object_3 = Person('Kira Yamato', '17', 'Japanese', 'P.L.A.N.T.')\n",
    "person_object_4 = Person('Joseph', '17', 'Chinese', 'Shenzhen')\n",
    "\n",
    "person_object_2.introduce()\n",
    "person_object_3.introduce()\n",
    "person_object_4.introduce()\n",
    "\n",
    "\n"
   ]
  },
  {
   "cell_type": "markdown",
   "id": "0349e06d",
   "metadata": {},
   "source": [
    "### The hasattr() function"
   ]
  },
  {
   "cell_type": "code",
   "execution_count": 7,
   "id": "73146adf",
   "metadata": {},
   "outputs": [
    {
     "name": "stdout",
     "output_type": "stream",
     "text": [
      "True\n"
     ]
    }
   ],
   "source": [
    "class Person:\n",
    "    name = 'Richard'\n",
    "    age = '25'\n",
    "    \n",
    "x = hasattr(Person, 'age')\n",
    "print(x)"
   ]
  },
  {
   "cell_type": "code",
   "execution_count": 8,
   "id": "353d8d94",
   "metadata": {},
   "outputs": [
    {
     "name": "stdout",
     "output_type": "stream",
     "text": [
      "False\n"
     ]
    }
   ],
   "source": [
    "class Person:\n",
    "    name = 'Richard'\n",
    "    \n",
    "x = hasattr(Person, 'age')\n",
    "print(x)"
   ]
  },
  {
   "cell_type": "markdown",
   "id": "2edce4ae",
   "metadata": {},
   "source": [
    "### The getattr() function"
   ]
  },
  {
   "cell_type": "code",
   "execution_count": 9,
   "id": "55f8439c",
   "metadata": {},
   "outputs": [
    {
     "name": "stdout",
     "output_type": "stream",
     "text": [
      "25\n"
     ]
    }
   ],
   "source": [
    "class Person:\n",
    "    name = 'Richard'\n",
    "    age = '25'\n",
    "    \n",
    "x = getattr(Person, 'age')\n",
    "print(x)"
   ]
  },
  {
   "cell_type": "code",
   "execution_count": 11,
   "id": "6bcf887f",
   "metadata": {},
   "outputs": [
    {
     "ename": "AttributeError",
     "evalue": "type object 'Person' has no attribute 'age'",
     "output_type": "error",
     "traceback": [
      "\u001b[1;31m---------------------------------------------------------------------------\u001b[0m",
      "\u001b[1;31mAttributeError\u001b[0m                            Traceback (most recent call last)",
      "\u001b[1;32m~\\AppData\\Local\\Temp/ipykernel_8124/896868033.py\u001b[0m in \u001b[0;36m<module>\u001b[1;34m\u001b[0m\n\u001b[0;32m      2\u001b[0m     \u001b[0mname\u001b[0m \u001b[1;33m=\u001b[0m \u001b[1;34m'Richard'\u001b[0m\u001b[1;33m\u001b[0m\u001b[1;33m\u001b[0m\u001b[0m\n\u001b[0;32m      3\u001b[0m \u001b[1;33m\u001b[0m\u001b[0m\n\u001b[1;32m----> 4\u001b[1;33m \u001b[0mx\u001b[0m \u001b[1;33m=\u001b[0m \u001b[0mgetattr\u001b[0m\u001b[1;33m(\u001b[0m\u001b[0mPerson\u001b[0m\u001b[1;33m,\u001b[0m \u001b[1;34m'age'\u001b[0m\u001b[1;33m)\u001b[0m\u001b[1;33m\u001b[0m\u001b[1;33m\u001b[0m\u001b[0m\n\u001b[0m\u001b[0;32m      5\u001b[0m \u001b[0mprint\u001b[0m\u001b[1;33m(\u001b[0m\u001b[0mx\u001b[0m\u001b[1;33m)\u001b[0m\u001b[1;33m\u001b[0m\u001b[1;33m\u001b[0m\u001b[0m\n",
      "\u001b[1;31mAttributeError\u001b[0m: type object 'Person' has no attribute 'age'"
     ]
    }
   ],
   "source": [
    "class Person:\n",
    "    name = 'Richard'\n",
    "    \n",
    "x = getattr(Person, 'age')\n",
    "print(x)"
   ]
  },
  {
   "cell_type": "markdown",
   "id": "09bb33b6",
   "metadata": {},
   "source": [
    "### The setattr() function"
   ]
  },
  {
   "cell_type": "code",
   "execution_count": 12,
   "id": "19c9923b",
   "metadata": {},
   "outputs": [
    {
     "name": "stdout",
     "output_type": "stream",
     "text": [
      "35\n"
     ]
    }
   ],
   "source": [
    "class Person:\n",
    "    name = 'Richard'\n",
    "    age = '25'\n",
    "    \n",
    "setattr(Person, 'age', 35)\n",
    "\n",
    "x = getattr(Person, 'age')\n",
    "print(x)"
   ]
  },
  {
   "cell_type": "markdown",
   "id": "d23d17d9",
   "metadata": {},
   "source": [
    "### The delattr() function"
   ]
  },
  {
   "cell_type": "code",
   "execution_count": 13,
   "id": "f8974b5f",
   "metadata": {},
   "outputs": [
    {
     "ename": "AttributeError",
     "evalue": "type object 'Person' has no attribute 'age'",
     "output_type": "error",
     "traceback": [
      "\u001b[1;31m---------------------------------------------------------------------------\u001b[0m",
      "\u001b[1;31mAttributeError\u001b[0m                            Traceback (most recent call last)",
      "\u001b[1;32m~\\AppData\\Local\\Temp/ipykernel_8124/65325971.py\u001b[0m in \u001b[0;36m<module>\u001b[1;34m\u001b[0m\n\u001b[0;32m      5\u001b[0m \u001b[0mdelattr\u001b[0m\u001b[1;33m(\u001b[0m\u001b[0mPerson\u001b[0m\u001b[1;33m,\u001b[0m \u001b[1;34m'age'\u001b[0m\u001b[1;33m)\u001b[0m\u001b[1;33m\u001b[0m\u001b[1;33m\u001b[0m\u001b[0m\n\u001b[0;32m      6\u001b[0m \u001b[1;33m\u001b[0m\u001b[0m\n\u001b[1;32m----> 7\u001b[1;33m \u001b[0mx\u001b[0m \u001b[1;33m=\u001b[0m \u001b[0mgetattr\u001b[0m\u001b[1;33m(\u001b[0m\u001b[0mPerson\u001b[0m\u001b[1;33m,\u001b[0m \u001b[1;34m'age'\u001b[0m\u001b[1;33m)\u001b[0m\u001b[1;33m\u001b[0m\u001b[1;33m\u001b[0m\u001b[0m\n\u001b[0m\u001b[0;32m      8\u001b[0m \u001b[0mprint\u001b[0m\u001b[1;33m(\u001b[0m\u001b[0mx\u001b[0m\u001b[1;33m)\u001b[0m\u001b[1;33m\u001b[0m\u001b[1;33m\u001b[0m\u001b[0m\n",
      "\u001b[1;31mAttributeError\u001b[0m: type object 'Person' has no attribute 'age'"
     ]
    }
   ],
   "source": [
    "class Person:\n",
    "    name = 'Richard'\n",
    "    age = '25'\n",
    "    \n",
    "delattr(Person, 'age')\n",
    "\n",
    "x = getattr(Person, 'age')\n",
    "print(x)"
   ]
  },
  {
   "cell_type": "markdown",
   "id": "9d69c504",
   "metadata": {},
   "source": [
    "### Inheritance"
   ]
  },
  {
   "cell_type": "code",
   "execution_count": 14,
   "id": "771a5f21",
   "metadata": {},
   "outputs": [
    {
     "name": "stdout",
     "output_type": "stream",
     "text": [
      "Hello my name is Richard and I'm 25 years old.\n"
     ]
    }
   ],
   "source": [
    "class Person:\n",
    "    def __init__(self, name, age):\n",
    "        self.name = name\n",
    "        self.age = age\n",
    "    def introduce(self):\n",
    "        print(f'Hello my name is {self.name} and I\\'m {self.age} years old.')\n",
    "\n",
    "class Student(Person):\n",
    "    pass\n",
    "\n",
    "person_object = Student('Richard', '25')\n",
    "person_object.introduce()"
   ]
  },
  {
   "cell_type": "code",
   "execution_count": 16,
   "id": "33b9516f",
   "metadata": {},
   "outputs": [
    {
     "name": "stdout",
     "output_type": "stream",
     "text": [
      "Hello! The weather today is 30 degrees Celsius, 30 km/h and SSE.\n"
     ]
    }
   ],
   "source": [
    "class Weather:\n",
    "    def __init__(self, temperature, wind_speed, wind_direction):\n",
    "        self.temp = temperature\n",
    "        self.wspeed = wind_speed\n",
    "        self.wdirec = wind_direction\n",
    "    def introduce(self):\n",
    "        print(f'Hello! The weather today is {self.temp}, {self.wspeed} and {self.wdirec}.')\n",
    "        \n",
    "person_object = Weather('30 degrees Celsius', '30 km/h', 'SSE')\n",
    "person_object.introduce()"
   ]
  },
  {
   "cell_type": "markdown",
   "id": "ac83d031",
   "metadata": {},
   "source": [
    "### The DateTime Module"
   ]
  },
  {
   "cell_type": "markdown",
   "id": "5f6d69af",
   "metadata": {},
   "source": [
    "### Date class"
   ]
  },
  {
   "cell_type": "code",
   "execution_count": null,
   "id": "249a240d",
   "metadata": {},
   "outputs": [],
   "source": [
    "# printing a specific date\n",
    "import datetime\n",
    "d = datetime.date(2022, 3, 28)\n",
    "\n",
    "print(d)\n",
    "print(type(d))"
   ]
  },
  {
   "cell_type": "markdown",
   "id": "50e2c76a",
   "metadata": {},
   "source": [
    "### Date class: specific class"
   ]
  },
  {
   "cell_type": "code",
   "execution_count": 19,
   "id": "1699d5b5",
   "metadata": {},
   "outputs": [
    {
     "name": "stdout",
     "output_type": "stream",
     "text": [
      "2022-03-28\n",
      "<class 'datetime.date'>\n"
     ]
    }
   ],
   "source": [
    "# import the datetime module and date class\n",
    "from datetime import date\n",
    "\n",
    "d = date(2022, 3, 28)\n",
    "print(d)\n",
    "print(type(d))"
   ]
  },
  {
   "cell_type": "code",
   "execution_count": 22,
   "id": "1f1b7a96",
   "metadata": {},
   "outputs": [
    {
     "name": "stdout",
     "output_type": "stream",
     "text": [
      "2022-03-28 20:21:53.822750\n"
     ]
    }
   ],
   "source": [
    "x = datetime.datetime.now()\n",
    "print(x)"
   ]
  },
  {
   "cell_type": "markdown",
   "id": "973d92e2",
   "metadata": {},
   "source": [
    "### Date class: daily data"
   ]
  },
  {
   "cell_type": "code",
   "execution_count": 24,
   "id": "ba127390",
   "metadata": {},
   "outputs": [
    {
     "name": "stdout",
     "output_type": "stream",
     "text": [
      "Current year: 2022\n",
      "Current month: 3\n",
      "Current day: 28\n"
     ]
    }
   ],
   "source": [
    "#printing current year, month and day\n",
    "from datetime import date\n",
    "#date object of today's date\n",
    "today = date.today()\n",
    "\n",
    "print(\"Current year:\", today.year)\n",
    "print(\"Current month:\", today.month)\n",
    "print(\"Current day:\", today.day)"
   ]
  },
  {
   "cell_type": "code",
   "execution_count": 25,
   "id": "f81283ca",
   "metadata": {},
   "outputs": [
    {
     "name": "stdout",
     "output_type": "stream",
     "text": [
      "Current year: 2022\n",
      "Current month: 3\n"
     ]
    }
   ],
   "source": [
    "#printing current year, month and day\n",
    "from datetime import date\n",
    "#date object of today's date\n",
    "today = date.today()\n",
    "\n",
    "print(\"Current year:\", today.year)\n",
    "print(\"Current month:\", today.month)\n"
   ]
  },
  {
   "cell_type": "markdown",
   "id": "3b09c720",
   "metadata": {},
   "source": [
    "### Time class"
   ]
  },
  {
   "cell_type": "code",
   "execution_count": 27,
   "id": "17ce6a6b",
   "metadata": {},
   "outputs": [
    {
     "name": "stdout",
     "output_type": "stream",
     "text": [
      "time = 01:23:45.067890\n"
     ]
    }
   ],
   "source": [
    "# import module\n",
    "from datetime import time\n",
    "\n",
    "#Creating a time object\n",
    "#time(hour, minute, second, microsecond) \n",
    "t = time(1, 23, 45, 67890) \n",
    "\n",
    "print(\"time =\",t)"
   ]
  },
  {
   "cell_type": "code",
   "execution_count": 32,
   "id": "ca1fa51e",
   "metadata": {},
   "outputs": [
    {
     "name": "stdout",
     "output_type": "stream",
     "text": [
      "hour = 6\n",
      "minute = 45\n",
      "second = 25\n",
      "microsecond = 234566\n"
     ]
    }
   ],
   "source": [
    "# creating a time object\n",
    "# time (hour, minute, second, microsecond) \n",
    "t = time (6, 45, 25, 234566)\n",
    "\n",
    "print(\"hour =\", t.hour)\n",
    "print(\"minute =\", t.minute)\n",
    "print(\"second =\", t.second)\n",
    "print(\"microsecond =\", t.microsecond)"
   ]
  },
  {
   "cell_type": "markdown",
   "id": "8de5adb3",
   "metadata": {},
   "source": [
    "### DateTime class"
   ]
  },
  {
   "cell_type": "code",
   "execution_count": 36,
   "id": "242c8290",
   "metadata": {},
   "outputs": [
    {
     "name": "stdout",
     "output_type": "stream",
     "text": [
      "year = 2022\n",
      "month = 3\n",
      "day = 28\n",
      "hour = 20\n",
      "minute = 31\n",
      "seconds = 50\n",
      "micro seconds = 123456\n",
      "The date and time is = 2022-03-28 20:31:50.123456\n"
     ]
    }
   ],
   "source": [
    "# import module and class\n",
    "from datetime import datetime\n",
    "\n",
    "t = datetime(2022, 3, 28, 20, 31, 50, 123456)\n",
    "print(\"year =\", t.year)\n",
    "print(\"month =\", t.month)\n",
    "print(\"day =\", t.day)\n",
    "print(\"hour =\", t.hour)\n",
    "print(\"minute =\", t.minute)\n",
    "print(\"seconds =\", t.second)\n",
    "print(\"micro seconds =\", t.microsecond)\n",
    "\n",
    "print(\"The date and time is =\", t)"
   ]
  },
  {
   "cell_type": "markdown",
   "id": "61346915",
   "metadata": {},
   "source": [
    "### Timedelta class"
   ]
  },
  {
   "cell_type": "code",
   "execution_count": 37,
   "id": "65909955",
   "metadata": {},
   "outputs": [
    {
     "name": "stdout",
     "output_type": "stream",
     "text": [
      "time difference = 778 days, 16:50:12\n",
      "type of t3 = <class 'datetime.timedelta'>\n"
     ]
    }
   ],
   "source": [
    "from datetime import datetime, date\n",
    "# you can import more than one class or object at a time from a module\n",
    "\n",
    "t1 = datetime(year=2021, month=12, day=15, hour=5, minute=45, second=25)\n",
    "t2 = datetime(year=2019, month=10, day=28, hour=12, minute=55, second=13)\n",
    "t3 = t1 - t2\n",
    "print(\"time difference =\", t3)\n",
    "print(\"type of t3 =\", type(t3))"
   ]
  },
  {
   "cell_type": "code",
   "execution_count": 38,
   "id": "18400dba",
   "metadata": {},
   "outputs": [
    {
     "name": "stdout",
     "output_type": "stream",
     "text": [
      "time difference in seconds = 67279812.0\n",
      "type of t3 = <class 'datetime.timedelta'>\n"
     ]
    }
   ],
   "source": [
    "t1 = datetime(year=2021, month=12, day=15, hour= 5, minute=45, second=25)\n",
    "t2 = datetime(year=2019, month=10, day=28, hour= 12, minute=55, second=13)\n",
    "t3 = t1 - t2\n",
    "\n",
    "print(\"time difference in seconds =\", t3.total_seconds())\n",
    "print(\"type of t3 =\", type(t3))"
   ]
  },
  {
   "cell_type": "markdown",
   "id": "d9a2d854",
   "metadata": {},
   "source": [
    "### Formatting dates"
   ]
  },
  {
   "cell_type": "markdown",
   "id": "fc408af2",
   "metadata": {},
   "source": [
    "### strftime()"
   ]
  },
  {
   "cell_type": "code",
   "execution_count": 45,
   "id": "cba2182d",
   "metadata": {},
   "outputs": [
    {
     "name": "stdout",
     "output_type": "stream",
     "text": [
      "Current Time 2022-03-28 21:22:05.909126\n",
      "Time with only hours, minutes and seconds 21:22:05\n",
      "Date with / seperators: 03/28/2022\n"
     ]
    }
   ],
   "source": [
    "# current date and time \n",
    "now = datetime.now()\n",
    "print('Current Time', now)\n",
    "\n",
    "# Using strftime to only print hours, minutes and seconds \n",
    "t = now.strftime(\"%H:%M:%S\")\n",
    "print(\"Time with only hours, minutes and seconds\", t)\n",
    "\n",
    "# Changing the separators: \n",
    "t1 = now.strftime(\"%m/%d/%Y\")\n",
    "# mm/dd/YY format\n",
    "print(\"Date with / seperators:\", t1)"
   ]
  },
  {
   "cell_type": "markdown",
   "id": "bcd81995",
   "metadata": {},
   "source": [
    "### strptime()"
   ]
  },
  {
   "cell_type": "code",
   "execution_count": 46,
   "id": "f4562212",
   "metadata": {},
   "outputs": [
    {
     "name": "stdout",
     "output_type": "stream",
     "text": [
      "date_string= 30 October 2021\n",
      "Data type of date-string --> <class 'str'>\n"
     ]
    }
   ],
   "source": [
    "date_string = \"30 October 2021\"#\n",
    "\n",
    "print(\"date_string=\", date_string)\n",
    "print(\"Data type of date-string -->\" , type(date_string))"
   ]
  },
  {
   "cell_type": "code",
   "execution_count": 47,
   "id": "fc1ae8ba",
   "metadata": {},
   "outputs": [
    {
     "name": "stdout",
     "output_type": "stream",
     "text": [
      "date_object = 2021-10-30 00:00:00\n",
      "Datatype of the date_string after formating with strptime --> <class 'datetime.datetime'>\n"
     ]
    }
   ],
   "source": [
    "#this is the date format\n",
    "date_object = datetime.strptime(date_string, \"%d %B %Y\")\n",
    "\n",
    "print(\"date_object =\", date_object) \n",
    "print(\"Datatype of the date_string after formating with strptime -->\",\n",
    "      type(date_object))"
   ]
  },
  {
   "cell_type": "markdown",
   "id": "44d6c6d4",
   "metadata": {},
   "source": [
    "### Formatting demonstration"
   ]
  },
  {
   "cell_type": "code",
   "execution_count": 55,
   "id": "6650e985",
   "metadata": {},
   "outputs": [
    {
     "name": "stdout",
     "output_type": "stream",
     "text": [
      "Local: 28/03/2022, 21:37:52\n",
      "NY: 28/03/2022, 16:37:52\n",
      "London: 28/03/2022, 21:37:52\n"
     ]
    }
   ],
   "source": [
    "# import modules and classes\n",
    "import datetime \n",
    "from datetime import datetime, date \n",
    "import pytz\n",
    "\n",
    "local = datetime.now()\n",
    "print(\"Local:\", local.strftime (\"%d/%m/%Y, %H:%M:%S\"))\n",
    "\n",
    "#Here, datetime_NY and datetime_London are datetime objects containing the \n",
    "#current date and time of their respective time zones.\n",
    "tz_NY = pytz.timezone('America/New_York')\n",
    "datetime_NY = datetime.now(tz_NY)\n",
    "print(\"NY:\", datetime_NY.strftime(\"%d/%m/%Y, %H:%M:%S\"))\n",
    "\n",
    "tz_London = pytz.timezone('Europe/London') \n",
    "datetime_London = datetime.now(tz_London)\n",
    "print(\"London:\", datetime_London.strftime (\"%d/%m/%Y, %H:%M:%S\"))"
   ]
  },
  {
   "cell_type": "code",
   "execution_count": 59,
   "id": "90c559e8",
   "metadata": {},
   "outputs": [
    {
     "name": "stdout",
     "output_type": "stream",
     "text": [
      "The Zen of Python, by Tim Peters\n",
      "\n",
      "Beautiful is better than ugly.\n",
      "Explicit is better than implicit.\n",
      "Simple is better than complex.\n",
      "Complex is better than complicated.\n",
      "Flat is better than nested.\n",
      "Sparse is better than dense.\n",
      "Readability counts.\n",
      "Special cases aren't special enough to break the rules.\n",
      "Although practicality beats purity.\n",
      "Errors should never pass silently.\n",
      "Unless explicitly silenced.\n",
      "In the face of ambiguity, refuse the temptation to guess.\n",
      "There should be one-- and preferably only one --obvious way to do it.\n",
      "Although that way may not be obvious at first unless you're Dutch.\n",
      "Now is better than never.\n",
      "Although never is often better than *right* now.\n",
      "If the implementation is hard to explain, it's a bad idea.\n",
      "If the implementation is easy to explain, it may be a good idea.\n",
      "Namespaces are one honking great idea -- let's do more of those!\n"
     ]
    }
   ],
   "source": [
    "import this"
   ]
  },
  {
   "cell_type": "code",
   "execution_count": null,
   "id": "107cfa1e",
   "metadata": {},
   "outputs": [],
   "source": []
  },
  {
   "cell_type": "code",
   "execution_count": null,
   "id": "79cb1b05",
   "metadata": {},
   "outputs": [],
   "source": []
  }
 ],
 "metadata": {
  "kernelspec": {
   "display_name": "Python 3 (ipykernel)",
   "language": "python",
   "name": "python3"
  },
  "language_info": {
   "codemirror_mode": {
    "name": "ipython",
    "version": 3
   },
   "file_extension": ".py",
   "mimetype": "text/x-python",
   "name": "python",
   "nbconvert_exporter": "python",
   "pygments_lexer": "ipython3",
   "version": "3.9.7"
  }
 },
 "nbformat": 4,
 "nbformat_minor": 5
}
