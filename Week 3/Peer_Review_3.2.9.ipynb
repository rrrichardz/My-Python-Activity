{
 "cells": [
  {
   "cell_type": "markdown",
   "id": "cef35586",
   "metadata": {},
   "source": [
    "### Peer Review Activity 3.2.9"
   ]
  },
  {
   "cell_type": "markdown",
   "id": "047bc9fc",
   "metadata": {},
   "source": [
    "### Below are my codes with insturctions before each code"
   ]
  },
  {
   "cell_type": "code",
   "execution_count": 3,
   "id": "be439b2b",
   "metadata": {},
   "outputs": [
    {
     "data": {
      "text/plain": [
       "(3945, 2)"
      ]
     },
     "execution_count": 3,
     "metadata": {},
     "output_type": "execute_result"
    }
   ],
   "source": [
    "# make sure the data file is uploaded properly\n",
    "# import pandas\n",
    "import pandas as pd\n",
    "\n",
    "# read CSV file from the current working directory\n",
    "products = pd.read_csv('products.csv')\n",
    "\n",
    "products.shape"
   ]
  },
  {
   "cell_type": "code",
   "execution_count": 4,
   "id": "2bb14395",
   "metadata": {},
   "outputs": [
    {
     "name": "stdout",
     "output_type": "stream",
     "text": [
      "0       False\n",
      "1       False\n",
      "2       False\n",
      "3       False\n",
      "4       False\n",
      "        ...  \n",
      "3940    False\n",
      "3941    False\n",
      "3942    False\n",
      "3943    False\n",
      "3944    False\n",
      "Name: Description, Length: 3945, dtype: bool\n"
     ]
    },
    {
     "data": {
      "text/html": [
       "<div>\n",
       "<style scoped>\n",
       "    .dataframe tbody tr th:only-of-type {\n",
       "        vertical-align: middle;\n",
       "    }\n",
       "\n",
       "    .dataframe tbody tr th {\n",
       "        vertical-align: top;\n",
       "    }\n",
       "\n",
       "    .dataframe thead th {\n",
       "        text-align: right;\n",
       "    }\n",
       "</style>\n",
       "<table border=\"1\" class=\"dataframe\">\n",
       "  <thead>\n",
       "    <tr style=\"text-align: right;\">\n",
       "      <th></th>\n",
       "      <th>StockCode</th>\n",
       "      <th>Description</th>\n",
       "    </tr>\n",
       "  </thead>\n",
       "  <tbody>\n",
       "    <tr>\n",
       "      <th>1318</th>\n",
       "      <td>22428</td>\n",
       "      <td>ENAMEL FIRE BUCKET CREAM</td>\n",
       "    </tr>\n",
       "    <tr>\n",
       "      <th>3033</th>\n",
       "      <td>84569B</td>\n",
       "      <td>PACK 3 FIRE ENGINE/CAR PATCHES</td>\n",
       "    </tr>\n",
       "    <tr>\n",
       "      <th>3626</th>\n",
       "      <td>90039A</td>\n",
       "      <td>FIRE POLISHED GLASS BRACELET RED</td>\n",
       "    </tr>\n",
       "    <tr>\n",
       "      <th>3627</th>\n",
       "      <td>90039B</td>\n",
       "      <td>FIRE POLISHED GLASS BRACELET MONTAN</td>\n",
       "    </tr>\n",
       "    <tr>\n",
       "      <th>3628</th>\n",
       "      <td>90039C</td>\n",
       "      <td>FIRE POLISHED GLASS BRACELET BLACK</td>\n",
       "    </tr>\n",
       "    <tr>\n",
       "      <th>3629</th>\n",
       "      <td>90039D</td>\n",
       "      <td>FIRE POLISHED GLASS BRACELET GREEN</td>\n",
       "    </tr>\n",
       "    <tr>\n",
       "      <th>3656</th>\n",
       "      <td>90060B</td>\n",
       "      <td>FIRE POLISHED GLASS NECKL GOLD</td>\n",
       "    </tr>\n",
       "    <tr>\n",
       "      <th>3657</th>\n",
       "      <td>90060D</td>\n",
       "      <td>FIRE POLISHED GLASS NECKL BRONZE</td>\n",
       "    </tr>\n",
       "    <tr>\n",
       "      <th>3658</th>\n",
       "      <td>90060F</td>\n",
       "      <td>FIRE POLISHED GLASS NECKL GREEN</td>\n",
       "    </tr>\n",
       "  </tbody>\n",
       "</table>\n",
       "</div>"
      ],
      "text/plain": [
       "     StockCode                          Description\n",
       "1318     22428             ENAMEL FIRE BUCKET CREAM\n",
       "3033    84569B       PACK 3 FIRE ENGINE/CAR PATCHES\n",
       "3626    90039A     FIRE POLISHED GLASS BRACELET RED\n",
       "3627    90039B  FIRE POLISHED GLASS BRACELET MONTAN\n",
       "3628    90039C   FIRE POLISHED GLASS BRACELET BLACK\n",
       "3629    90039D   FIRE POLISHED GLASS BRACELET GREEN\n",
       "3656    90060B       FIRE POLISHED GLASS NECKL GOLD\n",
       "3657    90060D     FIRE POLISHED GLASS NECKL BRONZE\n",
       "3658    90060F      FIRE POLISHED GLASS NECKL GREEN"
      ]
     },
     "execution_count": 4,
     "metadata": {},
     "output_type": "execute_result"
    }
   ],
   "source": [
    "# create a user-defined function to view products contain the word 'fire'\n",
    "def contains_fire(x):\n",
    "    \"\"\"Does the product contain the word 'fire'?\"\"\"\n",
    "    y = x.lower()\n",
    "    return 'fire' in y\n",
    "\n",
    "# now apply the function created with the apply() function to answer the question\n",
    "cf = products['Description'].apply(contains_fire)\n",
    "\n",
    "# view and filter\n",
    "print(cf)\n",
    "products[cf]"
   ]
  },
  {
   "cell_type": "markdown",
   "id": "945abd61",
   "metadata": {},
   "source": [
    "#### by counting above, the answer for the questions is 9 products contain the word fire"
   ]
  },
  {
   "cell_type": "code",
   "execution_count": 6,
   "id": "09c7ca02",
   "metadata": {},
   "outputs": [
    {
     "name": "stdout",
     "output_type": "stream",
     "text": [
      "0       False\n",
      "1       False\n",
      "2       False\n",
      "3       False\n",
      "4       False\n",
      "        ...  \n",
      "3940    False\n",
      "3941    False\n",
      "3942    False\n",
      "3943    False\n",
      "3944    False\n",
      "Name: Description, Length: 3945, dtype: bool\n"
     ]
    },
    {
     "data": {
      "text/html": [
       "<div>\n",
       "<style scoped>\n",
       "    .dataframe tbody tr th:only-of-type {\n",
       "        vertical-align: middle;\n",
       "    }\n",
       "\n",
       "    .dataframe tbody tr th {\n",
       "        vertical-align: top;\n",
       "    }\n",
       "\n",
       "    .dataframe thead th {\n",
       "        text-align: right;\n",
       "    }\n",
       "</style>\n",
       "<table border=\"1\" class=\"dataframe\">\n",
       "  <thead>\n",
       "    <tr style=\"text-align: right;\">\n",
       "      <th></th>\n",
       "      <th>StockCode</th>\n",
       "      <th>Description</th>\n",
       "    </tr>\n",
       "  </thead>\n",
       "  <tbody>\n",
       "    <tr>\n",
       "      <th>83</th>\n",
       "      <td>17012A</td>\n",
       "      <td>ORIGAMI VANILLA INCENSE/CANDLE SET</td>\n",
       "    </tr>\n",
       "    <tr>\n",
       "      <th>84</th>\n",
       "      <td>17012B</td>\n",
       "      <td>ORIGAMI JASMINE INCENSE/CANDLE SET</td>\n",
       "    </tr>\n",
       "    <tr>\n",
       "      <th>86</th>\n",
       "      <td>17012D</td>\n",
       "      <td>ORIGAMI ROSE INCENSE/CANDLE SET</td>\n",
       "    </tr>\n",
       "    <tr>\n",
       "      <th>87</th>\n",
       "      <td>17012E</td>\n",
       "      <td>ORIGAMI OPIUM INCENSE/CANDLE SET</td>\n",
       "    </tr>\n",
       "    <tr>\n",
       "      <th>107</th>\n",
       "      <td>17136A</td>\n",
       "      <td>BLUE STONES ON WIRE FOR CANDLE</td>\n",
       "    </tr>\n",
       "    <tr>\n",
       "      <th>...</th>\n",
       "      <td>...</td>\n",
       "      <td>...</td>\n",
       "    </tr>\n",
       "    <tr>\n",
       "      <th>3530</th>\n",
       "      <td>85230A</td>\n",
       "      <td>OPIUM SCENTED VOTIVE CANDLE</td>\n",
       "    </tr>\n",
       "    <tr>\n",
       "      <th>3531</th>\n",
       "      <td>85230B</td>\n",
       "      <td>CINNAMON SCENTED VOTIVE CANDLE</td>\n",
       "    </tr>\n",
       "    <tr>\n",
       "      <th>3532</th>\n",
       "      <td>85230E</td>\n",
       "      <td>STRAWBRY SCENTED VOTIVE CANDLE</td>\n",
       "    </tr>\n",
       "    <tr>\n",
       "      <th>3533</th>\n",
       "      <td>85230F</td>\n",
       "      <td>JASMINE VOTIVE CANDLE</td>\n",
       "    </tr>\n",
       "    <tr>\n",
       "      <th>3534</th>\n",
       "      <td>85230G</td>\n",
       "      <td>ORANGE VOTIVE CANDLE</td>\n",
       "    </tr>\n",
       "  </tbody>\n",
       "</table>\n",
       "<p>178 rows × 2 columns</p>\n",
       "</div>"
      ],
      "text/plain": [
       "     StockCode                         Description\n",
       "83      17012A  ORIGAMI VANILLA INCENSE/CANDLE SET\n",
       "84      17012B  ORIGAMI JASMINE INCENSE/CANDLE SET\n",
       "86      17012D     ORIGAMI ROSE INCENSE/CANDLE SET\n",
       "87      17012E    ORIGAMI OPIUM INCENSE/CANDLE SET\n",
       "107     17136A      BLUE STONES ON WIRE FOR CANDLE\n",
       "...        ...                                 ...\n",
       "3530    85230A         OPIUM SCENTED VOTIVE CANDLE\n",
       "3531    85230B      CINNAMON SCENTED VOTIVE CANDLE\n",
       "3532    85230E      STRAWBRY SCENTED VOTIVE CANDLE\n",
       "3533    85230F               JASMINE VOTIVE CANDLE\n",
       "3534    85230G                ORANGE VOTIVE CANDLE\n",
       "\n",
       "[178 rows x 2 columns]"
      ]
     },
     "execution_count": 6,
     "metadata": {},
     "output_type": "execute_result"
    }
   ],
   "source": [
    "# repeat the same process with creating a user-defined function to view products contain the word 'candle'\n",
    "def contains_candle(x):\n",
    "    \"\"\"Does the product contain the word 'candle'?\"\"\"\n",
    "    y = x.lower()\n",
    "    return 'candle' in y\n",
    "\n",
    "# now apply the function created with the apply() function to answer the question\n",
    "cc = products['Description'].apply(contains_candle)\n",
    "\n",
    "# view and filter\n",
    "print(cc)\n",
    "products[cc]"
   ]
  },
  {
   "cell_type": "markdown",
   "id": "8618e066",
   "metadata": {},
   "source": [
    "####  By checking the total rows above, the answer for the questions is 178 products contain the word candle"
   ]
  },
  {
   "cell_type": "code",
   "execution_count": 7,
   "id": "f9211861",
   "metadata": {},
   "outputs": [
    {
     "name": "stdout",
     "output_type": "stream",
     "text": [
      "0       False\n",
      "1       False\n",
      "2       False\n",
      "3       False\n",
      "4       False\n",
      "        ...  \n",
      "3940    False\n",
      "3941    False\n",
      "3942    False\n",
      "3943    False\n",
      "3944    False\n",
      "Name: Description, Length: 3945, dtype: bool\n"
     ]
    },
    {
     "data": {
      "text/html": [
       "<div>\n",
       "<style scoped>\n",
       "    .dataframe tbody tr th:only-of-type {\n",
       "        vertical-align: middle;\n",
       "    }\n",
       "\n",
       "    .dataframe tbody tr th {\n",
       "        vertical-align: top;\n",
       "    }\n",
       "\n",
       "    .dataframe thead th {\n",
       "        text-align: right;\n",
       "    }\n",
       "</style>\n",
       "<table border=\"1\" class=\"dataframe\">\n",
       "  <thead>\n",
       "    <tr style=\"text-align: right;\">\n",
       "      <th></th>\n",
       "      <th>StockCode</th>\n",
       "      <th>Description</th>\n",
       "    </tr>\n",
       "  </thead>\n",
       "  <tbody>\n",
       "    <tr>\n",
       "      <th>669</th>\n",
       "      <td>21584</td>\n",
       "      <td>RETROSPOT SMALL TUBE MATCHES</td>\n",
       "    </tr>\n",
       "    <tr>\n",
       "      <th>670</th>\n",
       "      <td>21586</td>\n",
       "      <td>KINGS CHOICE GIANT TUBE MATCHES</td>\n",
       "    </tr>\n",
       "    <tr>\n",
       "      <th>671</th>\n",
       "      <td>21587</td>\n",
       "      <td>COSY HOUR GIANT TUBE MATCHES</td>\n",
       "    </tr>\n",
       "    <tr>\n",
       "      <th>672</th>\n",
       "      <td>21588</td>\n",
       "      <td>RETROSPOT GIANT TUBE MATCHES</td>\n",
       "    </tr>\n",
       "    <tr>\n",
       "      <th>673</th>\n",
       "      <td>21591</td>\n",
       "      <td>COSY HOUR CIGAR BOX MATCHES</td>\n",
       "    </tr>\n",
       "    <tr>\n",
       "      <th>674</th>\n",
       "      <td>21592</td>\n",
       "      <td>RETROSPOT CIGAR BOX MATCHES</td>\n",
       "    </tr>\n",
       "  </tbody>\n",
       "</table>\n",
       "</div>"
      ],
      "text/plain": [
       "    StockCode                      Description\n",
       "669     21584     RETROSPOT SMALL TUBE MATCHES\n",
       "670     21586  KINGS CHOICE GIANT TUBE MATCHES\n",
       "671     21587     COSY HOUR GIANT TUBE MATCHES\n",
       "672     21588     RETROSPOT GIANT TUBE MATCHES\n",
       "673     21591      COSY HOUR CIGAR BOX MATCHES\n",
       "674     21592      RETROSPOT CIGAR BOX MATCHES"
      ]
     },
     "execution_count": 7,
     "metadata": {},
     "output_type": "execute_result"
    }
   ],
   "source": [
    "# repeat the same process with creating a user-defined function to view products contain the word 'matches'\n",
    "def contains_matches(x):\n",
    "    \"\"\"Does the product contain the word 'matches'?\"\"\"\n",
    "    y = x.lower()\n",
    "    return 'matches' in y\n",
    "\n",
    "# now apply the function created with the apply() function to answer the question\n",
    "cm = products['Description'].apply(contains_matches)\n",
    "\n",
    "# view and filter\n",
    "print(cm)\n",
    "products[cm]"
   ]
  },
  {
   "cell_type": "markdown",
   "id": "eaafe9c5",
   "metadata": {},
   "source": [
    "#### by counting above, the answer for the questions is 6 products contain the word matches"
   ]
  },
  {
   "cell_type": "code",
   "execution_count": null,
   "id": "df584d63",
   "metadata": {},
   "outputs": [],
   "source": []
  }
 ],
 "metadata": {
  "kernelspec": {
   "display_name": "Python 3 (ipykernel)",
   "language": "python",
   "name": "python3"
  },
  "language_info": {
   "codemirror_mode": {
    "name": "ipython",
    "version": 3
   },
   "file_extension": ".py",
   "mimetype": "text/x-python",
   "name": "python",
   "nbconvert_exporter": "python",
   "pygments_lexer": "ipython3",
   "version": "3.9.7"
  }
 },
 "nbformat": 4,
 "nbformat_minor": 5
}
