{
 "cells": [
  {
   "cell_type": "code",
   "execution_count": 3,
   "id": "eabbb174",
   "metadata": {},
   "outputs": [
    {
     "name": "stdout",
     "output_type": "stream",
     "text": [
      "123              Law Enforcement\n",
      "224      Fire and Rescue Servies\n",
      "101    Emergency Medical Servies\n",
      "999         Emergency Management\n",
      "900                 Public Works\n",
      "dtype: object\n"
     ]
    }
   ],
   "source": [
    "# import library\n",
    "import pandas as pd\n",
    "\n",
    "# Emergency numbers: Law Enforcement(123), Fire and Rescue Services(224),\n",
    "# Emergency Medical Services(101), Emergency Management(999), and Public Works(900).\n",
    "\n",
    "# create a dictionary\n",
    "dict_1 = {'123' : 'Law Enforcement',\n",
    "         '224' : 'Fire and Rescue Servies',\n",
    "         '101' : 'Emergency Medical Servies',\n",
    "         '999' : 'Emergency Management',\n",
    "         '900' : 'Public Works'}\n",
    "\n",
    "# create Series\n",
    "emergency_numbers = pd.Series(dict_1)\n",
    "\n",
    "print(emergency_numbers)"
   ]
  },
  {
   "cell_type": "code",
   "execution_count": 5,
   "id": "f87ade06",
   "metadata": {},
   "outputs": [
    {
     "name": "stdout",
     "output_type": "stream",
     "text": [
      "1      Prevention\n",
      "2      Mitigation\n",
      "3    Preparedness\n",
      "4        Response\n",
      "5        Recovery\n",
      "dtype: object\n"
     ]
    }
   ],
   "source": [
    "# Emergency protocols: Prevention, mitigation, preparedness, response, and recovery.\n",
    "\n",
    "# create a numbered list\n",
    "emergency_protocols = pd.Series(['Prevention', 'Mitigation',\n",
    "                                'Preparedness', 'Response',\n",
    "                                'Recovery'],\n",
    "                               index = ['1', '2', '3', '4', '5'])\n",
    "\n",
    "print(emergency_protocols)"
   ]
  },
  {
   "cell_type": "code",
   "execution_count": 14,
   "id": "91cf9c7c",
   "metadata": {},
   "outputs": [
    {
     "name": "stdout",
     "output_type": "stream",
     "text": [
      "0                           Check carotid pulse\n",
      "1                        Check breathing (nose)\n",
      "2    Check for obstructions (nose, ears, mouth)\n",
      "3                     Check pupils (responsive)\n",
      "4                           Check consciousness\n",
      "5                          Take contact details\n",
      "6                             Ask for allergies\n",
      "dtype: object\n"
     ]
    }
   ],
   "source": [
    "# Emergency checklist: Check carotid pulse (neck), breathing (nose), \n",
    "# obstructions (nose, ears, mouth), pupils (responsive), \n",
    "# consciousness, contact details, and allergies.\n",
    "\n",
    "# create a Series from a list\n",
    "checklist = ['Check carotid pulse', 'Check breathing (nose)', \n",
    "            'Check for obstructions (nose, ears, mouth)', \n",
    "            ' Check pupils (responsive)', 'Check consciousness', \n",
    "            'Take contact details', 'Ask for allergies']\n",
    "\n",
    "emergency_checklist = pd.Series(checklist)\n",
    "\n",
    "print(emergency_checklist)"
   ]
  },
  {
   "cell_type": "code",
   "execution_count": null,
   "id": "e4a7de70",
   "metadata": {},
   "outputs": [],
   "source": []
  }
 ],
 "metadata": {
  "kernelspec": {
   "display_name": "Python 3 (ipykernel)",
   "language": "python",
   "name": "python3"
  },
  "language_info": {
   "codemirror_mode": {
    "name": "ipython",
    "version": 3
   },
   "file_extension": ".py",
   "mimetype": "text/x-python",
   "name": "python",
   "nbconvert_exporter": "python",
   "pygments_lexer": "ipython3",
   "version": "3.9.7"
  }
 },
 "nbformat": 4,
 "nbformat_minor": 5
}
