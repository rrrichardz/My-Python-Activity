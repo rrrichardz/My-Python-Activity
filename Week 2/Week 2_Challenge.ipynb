{
 "cells": [
  {
   "cell_type": "markdown",
   "id": "6ff59652",
   "metadata": {},
   "source": [
    "### 1. Prepare your workstation"
   ]
  },
  {
   "cell_type": "code",
   "execution_count": 3,
   "id": "54d2df43",
   "metadata": {},
   "outputs": [
    {
     "name": "stdout",
     "output_type": "stream",
     "text": [
      "(1844, 6)\n",
      "Date      object\n",
      "Price    float64\n",
      "Open     float64\n",
      "High     float64\n",
      "Low      float64\n",
      "Vol.      object\n",
      "dtype: object\n",
      "         Date   Price    Open    High     Low     Vol.\n",
      "0  2011-12-01  100.20  100.51  101.17   98.87  275.86K\n",
      "1  2011-12-02  100.96  100.00  101.56   99.76  245.92K\n",
      "2  2011-12-05  100.99  101.23  102.44  100.24  239.38K\n",
      "3  2011-12-06  101.28  100.45  101.42  100.20  217.03K\n",
      "4  2011-12-07  100.49  101.11  101.94   99.67  330.53K\n",
      "            Date  Price   Open   High    Low     Vol.\n",
      "1839  2018-12-25  43.16  43.00  43.25  42.88        -\n",
      "1840  2018-12-26  46.22  42.85  47.00  42.52  698.41K\n",
      "1841  2018-12-27  44.61  46.58  46.70  44.37  665.59K\n",
      "1842  2018-12-28  45.33  45.44  46.22  44.42  564.39K\n",
      "1843  2018-12-31  45.41  45.22  46.53  44.73  476.97K\n"
     ]
    }
   ],
   "source": [
    "# import libarary\n",
    "import pandas as pd\n",
    "\n",
    "# import csv files\n",
    "oil = pd.read_csv(\"oil_price.csv\")\n",
    "\n",
    "gold = pd.read_csv(\"gold_stocks_price.csv\")\n",
    "\n",
    "# view the oil data frame\n",
    "print(oil.shape)\n",
    "print(oil.dtypes)\n",
    "print(oil.head())\n",
    "print(oil.tail())"
   ]
  },
  {
   "cell_type": "code",
   "execution_count": 4,
   "id": "7ec478fd",
   "metadata": {},
   "outputs": [
    {
     "name": "stdout",
     "output_type": "stream",
     "text": [
      "(1718, 81)\n",
      "Date              object\n",
      "Open             float64\n",
      "High             float64\n",
      "Low              float64\n",
      "Close            float64\n",
      "                  ...   \n",
      "USO_High         float64\n",
      "USO_Low          float64\n",
      "USO_Close        float64\n",
      "USO_Adj Close    float64\n",
      "USO_Volume         int64\n",
      "Length: 81, dtype: object\n",
      "         Date        Open        High         Low       Close   Adj Close  \\\n",
      "0  2011-12-15  154.740005  154.949997  151.710007  152.330002  152.330002   \n",
      "1  2011-12-16  154.309998  155.369995  153.899994  155.229996  155.229996   \n",
      "2  2011-12-19  155.479996  155.860001  154.360001  154.869995  154.869995   \n",
      "3  2011-12-20  156.820007  157.429993  156.580002  156.979996  156.979996   \n",
      "4  2011-12-21  156.979996  157.529999  156.130005  157.160004  157.160004   \n",
      "\n",
      "     Volume     SP_open     SP_high      SP_low  ...    GDX_Low  GDX_Close  \\\n",
      "0  21521900  123.029999  123.199997  121.989998  ...  51.570000  51.680000   \n",
      "1  18124300  122.230003  122.949997  121.300003  ...  52.040001  52.680000   \n",
      "2  12547200  122.059998  122.320000  120.029999  ...  51.029999  51.169998   \n",
      "3   9136300  122.180000  124.139999  120.370003  ...  52.369999  52.990002   \n",
      "4  11996100  123.930000  124.360001  122.750000  ...  52.419998  52.959999   \n",
      "\n",
      "   GDX_Adj Close  GDX_Volume   USO_Open   USO_High    USO_Low  USO_Close  \\\n",
      "0      48.973877    20605600  36.900002  36.939999  36.049999  36.130001   \n",
      "1      49.921513    16285400  36.180000  36.500000  35.730000  36.270000   \n",
      "2      48.490578    15120200  36.389999  36.450001  35.930000  36.200001   \n",
      "3      50.215282    11644900  37.299999  37.610001  37.220001  37.560001   \n",
      "4      50.186852     8724300  37.669998  38.240002  37.520000  38.110001   \n",
      "\n",
      "   USO_Adj Close  USO_Volume  \n",
      "0      36.130001    12616700  \n",
      "1      36.270000    12578800  \n",
      "2      36.200001     7418200  \n",
      "3      37.560001    10041600  \n",
      "4      38.110001    10728000  \n",
      "\n",
      "[5 rows x 81 columns]\n",
      "            Date        Open        High         Low       Close   Adj Close  \\\n",
      "1713  2018-12-24  119.570000  120.139999  119.570000  120.019997  120.019997   \n",
      "1714  2018-12-26  120.620003  121.000000  119.570000  119.660004  119.660004   \n",
      "1715  2018-12-27  120.570000  120.900002  120.139999  120.570000  120.570000   \n",
      "1716  2018-12-28  120.800003  121.080002  120.720001  121.059998  121.059998   \n",
      "1717  2018-12-31  120.980003  121.260002  120.830002  121.250000  121.250000   \n",
      "\n",
      "        Volume     SP_open     SP_high      SP_low  ...    GDX_Low  GDX_Close  \\\n",
      "1713   9736400  239.039993  240.839996  234.270004  ...  20.650000  21.090000   \n",
      "1714  14293500  235.970001  246.179993  233.759995  ...  20.530001  20.620001   \n",
      "1715  11874400  242.570007  248.289993  238.960007  ...  20.700001  20.969999   \n",
      "1716   6864700  249.580002  251.399994  246.449997  ...  20.570000  20.600000   \n",
      "1717   8449400  249.559998  250.190002  247.470001  ...  20.559999  21.090000   \n",
      "\n",
      "      GDX_Adj Close  GDX_Volume  USO_Open  USO_High  USO_Low  USO_Close  \\\n",
      "1713      21.090000    60507000      9.49      9.52     9.28       9.29   \n",
      "1714      20.620001    76365200      9.25      9.92     9.23       9.90   \n",
      "1715      20.969999    52393000      9.59      9.65     9.37       9.62   \n",
      "1716      20.600000    49835000      9.54      9.65     9.38       9.53   \n",
      "1717      21.090000    53866600      9.63      9.71     9.44       9.66   \n",
      "\n",
      "      USO_Adj Close  USO_Volume  \n",
      "1713           9.29    21598200  \n",
      "1714           9.90    40978800  \n",
      "1715           9.62    36578700  \n",
      "1716           9.53    22803400  \n",
      "1717           9.66    28417400  \n",
      "\n",
      "[5 rows x 81 columns]\n"
     ]
    }
   ],
   "source": [
    "# view the gold data frame\n",
    "print(gold.shape)\n",
    "print(gold.dtypes)\n",
    "print(gold.head())\n",
    "print(gold.tail())"
   ]
  },
  {
   "cell_type": "markdown",
   "id": "337ad285",
   "metadata": {},
   "source": [
    "### 2. Create a subset DataFrame based on `gold_stocks_price.csv`"
   ]
  },
  {
   "cell_type": "code",
   "execution_count": 7,
   "id": "9e6a36ab",
   "metadata": {},
   "outputs": [
    {
     "name": "stdout",
     "output_type": "stream",
     "text": [
      "(500, 4)\n",
      "Date     object\n",
      "Open    float64\n",
      "High    float64\n",
      "Low     float64\n",
      "dtype: object\n"
     ]
    }
   ],
   "source": [
    "# subset gold dataframe\n",
    "gold_subset = gold[['Date', 'Open', 'High', 'Low']]\n",
    "\n",
    "# slice gold_subset to 500 rows\n",
    "gold_subset = gold_subset.iloc[:500]\n",
    "\n",
    "# view gold_subset\n",
    "print(gold_subset.shape)\n",
    "print(gold_subset.dtypes)"
   ]
  },
  {
   "cell_type": "code",
   "execution_count": 8,
   "id": "a5f1fe87",
   "metadata": {},
   "outputs": [
    {
     "data": {
      "text/plain": [
       "Date    0\n",
       "Open    0\n",
       "High    0\n",
       "Low     0\n",
       "dtype: int64"
      ]
     },
     "execution_count": 8,
     "metadata": {},
     "output_type": "execute_result"
    }
   ],
   "source": [
    "# determine missing values\n",
    "gold_subset.isna().sum()"
   ]
  },
  {
   "cell_type": "code",
   "execution_count": 13,
   "id": "290e0cae",
   "metadata": {},
   "outputs": [
    {
     "name": "stdout",
     "output_type": "stream",
     "text": [
      "117.580002\n",
      "173.199997\n"
     ]
    }
   ],
   "source": [
    "# Min and max value for column\\ for subsetted gold dataframe:\n",
    "print(gold_subset['Open'].min())\n",
    "print(gold_subset['Open'].max())"
   ]
  },
  {
   "cell_type": "code",
   "execution_count": 11,
   "id": "f84ef10e",
   "metadata": {},
   "outputs": [
    {
     "name": "stdout",
     "output_type": "stream",
     "text": [
      "118.18\n",
      "174.070007\n"
     ]
    }
   ],
   "source": [
    "# Min and max value for column\\ for subsetted gold dataframe:\n",
    "print(gold_subset['High'].min())\n",
    "print(gold_subset['High'].max())"
   ]
  },
  {
   "cell_type": "code",
   "execution_count": 12,
   "id": "100f3664",
   "metadata": {},
   "outputs": [
    {
     "name": "stdout",
     "output_type": "stream",
     "text": [
      "116.739998\n",
      "172.919998\n"
     ]
    }
   ],
   "source": [
    "# Min and max value for column\\ for subsetted gold dataframe:\n",
    "print(gold_subset['Low'].min())\n",
    "print(gold_subset['Low'].max())"
   ]
  },
  {
   "cell_type": "markdown",
   "id": "4f5f0485",
   "metadata": {},
   "source": [
    "### Alternate way using print statement: "
   ]
  },
  {
   "cell_type": "code",
   "execution_count": 14,
   "id": "b2b5afcb",
   "metadata": {},
   "outputs": [
    {
     "name": "stdout",
     "output_type": "stream",
     "text": [
      "The maximum value for open is the subsetted gold dataframe is 173.199997\n",
      "The minimum value for open is the subsetted gold dataframe is 117.580002\n",
      "The maximum value for high is the subsetted gold dataframe is 174.070007\n",
      "The minimum value for high is the subsetted gold dataframe is 118.18\n",
      "The maximum value for low is the subsetted gold dataframe is 172.919998\n",
      "The minimum value for low is the subsetted gold dataframe is 116.739998\n"
     ]
    }
   ],
   "source": [
    "print(f\"The maximum value for open is the subsetted gold dataframe is {gold_subset['Open'].max()}\")\n",
    "print(f\"The minimum value for open is the subsetted gold dataframe is {gold_subset['Open'].min()}\")\n",
    "\n",
    "print(f\"The maximum value for high is the subsetted gold dataframe is {gold_subset['High'].max()}\")\n",
    "print(f\"The minimum value for high is the subsetted gold dataframe is {gold_subset['High'].min()}\")\n",
    "\n",
    "print(f\"The maximum value for low is the subsetted gold dataframe is {gold_subset['Low'].max()}\")\n",
    "print(f\"The minimum value for low is the subsetted gold dataframe is {gold_subset['Low'].min()}\")"
   ]
  },
  {
   "cell_type": "markdown",
   "id": "398d54ed",
   "metadata": {},
   "source": [
    "### 3. Create a subset DataFrame based on `oil_price.csv`"
   ]
  },
  {
   "cell_type": "code",
   "execution_count": 15,
   "id": "0026d32b",
   "metadata": {},
   "outputs": [
    {
     "name": "stdout",
     "output_type": "stream",
     "text": [
      "(500, 4)\n",
      "Date     object\n",
      "Open    float64\n",
      "High    float64\n",
      "Low     float64\n",
      "dtype: object\n"
     ]
    }
   ],
   "source": [
    "# subset oil dataframe\n",
    "oil_subset = oil[['Date', 'Open', 'High', 'Low']]\n",
    "\n",
    "# slice oil_subset to 500 rows\n",
    "oil_subset = oil_subset.iloc[:500]\n",
    "\n",
    "# view oil_subset\n",
    "print(oil_subset.shape)\n",
    "print(oil_subset.dtypes)"
   ]
  },
  {
   "cell_type": "code",
   "execution_count": 16,
   "id": "a9a62709",
   "metadata": {},
   "outputs": [
    {
     "data": {
      "text/plain": [
       "Date    0\n",
       "Open    0\n",
       "High    0\n",
       "Low     0\n",
       "dtype: int64"
      ]
     },
     "execution_count": 16,
     "metadata": {},
     "output_type": "execute_result"
    }
   ],
   "source": [
    "# determine missing values\n",
    "oil_subset.isna().sum()"
   ]
  },
  {
   "cell_type": "code",
   "execution_count": 17,
   "id": "f2eb4155",
   "metadata": {},
   "outputs": [
    {
     "name": "stdout",
     "output_type": "stream",
     "text": [
      "78.11\n",
      "110.28\n"
     ]
    }
   ],
   "source": [
    "# Min and max value for column\\ for subsetted oil dataframe:\n",
    "print(oil_subset['Open'].min())\n",
    "print(oil_subset['Open'].max())"
   ]
  },
  {
   "cell_type": "code",
   "execution_count": 18,
   "id": "44f86e39",
   "metadata": {},
   "outputs": [
    {
     "name": "stdout",
     "output_type": "stream",
     "text": [
      "79.68\n",
      "112.24\n"
     ]
    }
   ],
   "source": [
    "# Min and max value for column\\ for subsetted oil dataframe:\n",
    "print(oil_subset['High'].min())\n",
    "print(oil_subset['High'].max())"
   ]
  },
  {
   "cell_type": "code",
   "execution_count": 19,
   "id": "95428c38",
   "metadata": {},
   "outputs": [
    {
     "name": "stdout",
     "output_type": "stream",
     "text": [
      "77.28\n",
      "109.11\n"
     ]
    }
   ],
   "source": [
    "# Min and max value for column\\ for subsetted oil dataframe:\n",
    "print(oil_subset['Low'].min())\n",
    "print(oil_subset['Low'].max())"
   ]
  },
  {
   "cell_type": "markdown",
   "id": "5449505b",
   "metadata": {},
   "source": [
    "### Alternate way using print statement: "
   ]
  },
  {
   "cell_type": "code",
   "execution_count": 20,
   "id": "53e4e551",
   "metadata": {},
   "outputs": [
    {
     "name": "stdout",
     "output_type": "stream",
     "text": [
      "The maximum value for open is the subsetted oil dataframe is 110.28\n",
      "The minimum value for open is the subsetted oil dataframe is 78.11\n",
      "The maximum value for high is the subsetted oil dataframe is 112.24\n",
      "The minimum value for high is the subsetted oil dataframe is 79.68\n",
      "The maximum value for low is the subsetted oil dataframe is 109.11\n",
      "The minimum value for low is the subsetted oil dataframe is 77.28\n"
     ]
    }
   ],
   "source": [
    "print(f\"The maximum value for open is the subsetted oil dataframe is {oil_subset['Open'].max()}\")\n",
    "print(f\"The minimum value for open is the subsetted oil dataframe is {oil_subset['Open'].min()}\")\n",
    "\n",
    "print(f\"The maximum value for high is the subsetted oil dataframe is {oil_subset['High'].max()}\")\n",
    "print(f\"The minimum value for high is the subsetted oil dataframe is {oil_subset['High'].min()}\")\n",
    "\n",
    "print(f\"The maximum value for low is the subsetted oil dataframe is {oil_subset['Low'].max()}\")\n",
    "print(f\"The minimum value for low is the subsetted oil dataframe is {oil_subset['Low'].min()}\")"
   ]
  },
  {
   "cell_type": "markdown",
   "id": "3174d02d",
   "metadata": {},
   "source": [
    "### 4. Statistical analysis"
   ]
  },
  {
   "cell_type": "code",
   "execution_count": 21,
   "id": "0fc72a6f",
   "metadata": {},
   "outputs": [
    {
     "name": "stdout",
     "output_type": "stream",
     "text": [
      "             Open        High         Low\n",
      "count  500.000000  500.000000  500.000000\n",
      "mean   149.033480  149.774340  148.266740\n",
      "std     16.923214   16.919180   16.871447\n",
      "min    117.580002  118.180000  116.739998\n",
      "25%    132.134998  133.144997  131.192501\n",
      "50%    155.070000  155.610001  154.360001\n",
      "75%    161.862500  162.577500  161.149994\n",
      "max    173.199997  174.070007  172.919998\n",
      "             Open        High         Low\n",
      "count  500.000000  500.000000  500.000000\n",
      "mean    96.196620   97.153780   95.084320\n",
      "std      6.991871    6.945661    7.003769\n",
      "min     78.110000   79.680000   77.280000\n",
      "25%     91.707500   92.627500   90.645000\n",
      "50%     95.790000   96.640000   94.820000\n",
      "75%    102.002500  102.962500  100.847500\n",
      "max    110.280000  112.240000  109.110000\n"
     ]
    }
   ],
   "source": [
    "# use the describe() function\n",
    "print(gold_subset.describe())\n",
    "print(oil_subset.describe())"
   ]
  },
  {
   "cell_type": "code",
   "execution_count": null,
   "id": "32150f13",
   "metadata": {},
   "outputs": [],
   "source": []
  }
 ],
 "metadata": {
  "kernelspec": {
   "display_name": "Python 3 (ipykernel)",
   "language": "python",
   "name": "python3"
  },
  "language_info": {
   "codemirror_mode": {
    "name": "ipython",
    "version": 3
   },
   "file_extension": ".py",
   "mimetype": "text/x-python",
   "name": "python",
   "nbconvert_exporter": "python",
   "pygments_lexer": "ipython3",
   "version": "3.9.7"
  }
 },
 "nbformat": 4,
 "nbformat_minor": 5
}
