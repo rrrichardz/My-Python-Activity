{
 "cells": [
  {
   "cell_type": "markdown",
   "id": "a41b1414",
   "metadata": {},
   "source": [
    "### 1. Import Pandas, data sets and validate"
   ]
  },
  {
   "cell_type": "code",
   "execution_count": 1,
   "id": "55513dc8",
   "metadata": {},
   "outputs": [
    {
     "data": {
      "text/html": [
       "<div>\n",
       "<style scoped>\n",
       "    .dataframe tbody tr th:only-of-type {\n",
       "        vertical-align: middle;\n",
       "    }\n",
       "\n",
       "    .dataframe tbody tr th {\n",
       "        vertical-align: top;\n",
       "    }\n",
       "\n",
       "    .dataframe thead th {\n",
       "        text-align: right;\n",
       "    }\n",
       "</style>\n",
       "<table border=\"1\" class=\"dataframe\">\n",
       "  <thead>\n",
       "    <tr style=\"text-align: right;\">\n",
       "      <th></th>\n",
       "      <th>Title</th>\n",
       "      <th>Year</th>\n",
       "      <th>Age</th>\n",
       "      <th>IMDb</th>\n",
       "      <th>Rotten Tomatoes</th>\n",
       "      <th>Directors</th>\n",
       "      <th>Genres</th>\n",
       "      <th>Country</th>\n",
       "      <th>Language</th>\n",
       "      <th>Runtime</th>\n",
       "    </tr>\n",
       "  </thead>\n",
       "  <tbody>\n",
       "    <tr>\n",
       "      <th>0</th>\n",
       "      <td>Inception</td>\n",
       "      <td>2010</td>\n",
       "      <td>13+</td>\n",
       "      <td>8.8</td>\n",
       "      <td>0.87</td>\n",
       "      <td>Christopher Nolan</td>\n",
       "      <td>Action,Adventure,Sci-Fi,Thriller</td>\n",
       "      <td>United States,United Kingdom</td>\n",
       "      <td>English,Japanese,French</td>\n",
       "      <td>148.0</td>\n",
       "    </tr>\n",
       "    <tr>\n",
       "      <th>1</th>\n",
       "      <td>The Matrix</td>\n",
       "      <td>1999</td>\n",
       "      <td>18+</td>\n",
       "      <td>8.7</td>\n",
       "      <td>0.87</td>\n",
       "      <td>Lana Wachowski,Lilly Wachowski</td>\n",
       "      <td>Action,Sci-Fi</td>\n",
       "      <td>United States</td>\n",
       "      <td>English</td>\n",
       "      <td>136.0</td>\n",
       "    </tr>\n",
       "    <tr>\n",
       "      <th>2</th>\n",
       "      <td>Avengers: Infinity War</td>\n",
       "      <td>2018</td>\n",
       "      <td>13+</td>\n",
       "      <td>8.5</td>\n",
       "      <td>0.84</td>\n",
       "      <td>Anthony Russo,Joe Russo</td>\n",
       "      <td>Action,Adventure,Sci-Fi</td>\n",
       "      <td>United States</td>\n",
       "      <td>English</td>\n",
       "      <td>149.0</td>\n",
       "    </tr>\n",
       "    <tr>\n",
       "      <th>3</th>\n",
       "      <td>Back to the Future</td>\n",
       "      <td>1985</td>\n",
       "      <td>7+</td>\n",
       "      <td>8.5</td>\n",
       "      <td>0.96</td>\n",
       "      <td>Robert Zemeckis</td>\n",
       "      <td>Adventure,Comedy,Sci-Fi</td>\n",
       "      <td>United States</td>\n",
       "      <td>English</td>\n",
       "      <td>116.0</td>\n",
       "    </tr>\n",
       "    <tr>\n",
       "      <th>4</th>\n",
       "      <td>The Good, the Bad and the Ugly</td>\n",
       "      <td>1966</td>\n",
       "      <td>18+</td>\n",
       "      <td>8.8</td>\n",
       "      <td>0.97</td>\n",
       "      <td>Sergio Leone</td>\n",
       "      <td>Western</td>\n",
       "      <td>Italy,Spain,West Germany</td>\n",
       "      <td>Italian</td>\n",
       "      <td>161.0</td>\n",
       "    </tr>\n",
       "  </tbody>\n",
       "</table>\n",
       "</div>"
      ],
      "text/plain": [
       "                            Title  Year  Age  IMDb  Rotten Tomatoes  \\\n",
       "0                       Inception  2010  13+   8.8             0.87   \n",
       "1                      The Matrix  1999  18+   8.7             0.87   \n",
       "2          Avengers: Infinity War  2018  13+   8.5             0.84   \n",
       "3              Back to the Future  1985   7+   8.5             0.96   \n",
       "4  The Good, the Bad and the Ugly  1966  18+   8.8             0.97   \n",
       "\n",
       "                        Directors                            Genres  \\\n",
       "0               Christopher Nolan  Action,Adventure,Sci-Fi,Thriller   \n",
       "1  Lana Wachowski,Lilly Wachowski                     Action,Sci-Fi   \n",
       "2         Anthony Russo,Joe Russo           Action,Adventure,Sci-Fi   \n",
       "3                 Robert Zemeckis           Adventure,Comedy,Sci-Fi   \n",
       "4                    Sergio Leone                           Western   \n",
       "\n",
       "                        Country                 Language  Runtime  \n",
       "0  United States,United Kingdom  English,Japanese,French    148.0  \n",
       "1                 United States                  English    136.0  \n",
       "2                 United States                  English    149.0  \n",
       "3                 United States                  English    116.0  \n",
       "4      Italy,Spain,West Germany                  Italian    161.0  "
      ]
     },
     "execution_count": 1,
     "metadata": {},
     "output_type": "execute_result"
    }
   ],
   "source": [
    "#import necessary packages\n",
    "import pandas as pd\n",
    "\n",
    "# import the movies data set\n",
    "movies = pd.read_excel(\"movies.xlsx\")\n",
    "\n",
    "movies.head()"
   ]
  },
  {
   "cell_type": "code",
   "execution_count": 2,
   "id": "c511b2ad",
   "metadata": {},
   "outputs": [
    {
     "data": {
      "text/html": [
       "<div>\n",
       "<style scoped>\n",
       "    .dataframe tbody tr th:only-of-type {\n",
       "        vertical-align: middle;\n",
       "    }\n",
       "\n",
       "    .dataframe tbody tr th {\n",
       "        vertical-align: top;\n",
       "    }\n",
       "\n",
       "    .dataframe thead th {\n",
       "        text-align: right;\n",
       "    }\n",
       "</style>\n",
       "<table border=\"1\" class=\"dataframe\">\n",
       "  <thead>\n",
       "    <tr style=\"text-align: right;\">\n",
       "      <th></th>\n",
       "      <th>ID</th>\n",
       "      <th>Netflix</th>\n",
       "      <th>Hulu</th>\n",
       "      <th>Prime Video</th>\n",
       "      <th>Disney+</th>\n",
       "    </tr>\n",
       "  </thead>\n",
       "  <tbody>\n",
       "    <tr>\n",
       "      <th>0</th>\n",
       "      <td>1</td>\n",
       "      <td>0</td>\n",
       "      <td>0</td>\n",
       "      <td>1</td>\n",
       "      <td>0</td>\n",
       "    </tr>\n",
       "    <tr>\n",
       "      <th>1</th>\n",
       "      <td>2</td>\n",
       "      <td>0</td>\n",
       "      <td>1</td>\n",
       "      <td>0</td>\n",
       "      <td>0</td>\n",
       "    </tr>\n",
       "    <tr>\n",
       "      <th>2</th>\n",
       "      <td>3</td>\n",
       "      <td>0</td>\n",
       "      <td>0</td>\n",
       "      <td>1</td>\n",
       "      <td>0</td>\n",
       "    </tr>\n",
       "    <tr>\n",
       "      <th>3</th>\n",
       "      <td>4</td>\n",
       "      <td>1</td>\n",
       "      <td>0</td>\n",
       "      <td>0</td>\n",
       "      <td>0</td>\n",
       "    </tr>\n",
       "    <tr>\n",
       "      <th>4</th>\n",
       "      <td>5</td>\n",
       "      <td>0</td>\n",
       "      <td>0</td>\n",
       "      <td>1</td>\n",
       "      <td>0</td>\n",
       "    </tr>\n",
       "  </tbody>\n",
       "</table>\n",
       "</div>"
      ],
      "text/plain": [
       "   ID  Netflix  Hulu  Prime Video  Disney+\n",
       "0   1        0     0            1        0\n",
       "1   2        0     1            0        0\n",
       "2   3        0     0            1        0\n",
       "3   4        1     0            0        0\n",
       "4   5        0     0            1        0"
      ]
     },
     "execution_count": 2,
     "metadata": {},
     "output_type": "execute_result"
    }
   ],
   "source": [
    "# import the ott data set\n",
    "ott = pd.read_csv(\"ott.csv\")\n",
    "\n",
    "ott.head()"
   ]
  },
  {
   "cell_type": "code",
   "execution_count": 3,
   "id": "25a7b7ae",
   "metadata": {},
   "outputs": [
    {
     "name": "stdout",
     "output_type": "stream",
     "text": [
      "Title               object\n",
      "Year                 int64\n",
      "Age                 object\n",
      "IMDb               float64\n",
      "Rotten Tomatoes    float64\n",
      "Directors           object\n",
      "Genres              object\n",
      "Country             object\n",
      "Language            object\n",
      "Runtime            float64\n",
      "dtype: object\n",
      "ID             int64\n",
      "Netflix        int64\n",
      "Hulu           int64\n",
      "Prime Video    int64\n",
      "Disney+        int64\n",
      "dtype: object\n"
     ]
    }
   ],
   "source": [
    "# validate data types\n",
    "print(movies.dtypes)\n",
    "print(ott.dtypes)"
   ]
  },
  {
   "cell_type": "code",
   "execution_count": 4,
   "id": "39604e11",
   "metadata": {},
   "outputs": [
    {
     "name": "stdout",
     "output_type": "stream",
     "text": [
      "['Title', 'Year', 'Age', 'IMDb', 'Rotten Tomatoes', 'Directors', 'Genres', 'Country', 'Language', 'Runtime']\n",
      "['ID', 'Netflix', 'Hulu', 'Prime Video', 'Disney+']\n"
     ]
    }
   ],
   "source": [
    "# determine name of columns\n",
    "print(list(movies.columns))\n",
    "print(list(ott.columns))"
   ]
  },
  {
   "cell_type": "markdown",
   "id": "809662ed",
   "metadata": {},
   "source": [
    "### 2. Filter the DataFrame for only numeric variables"
   ]
  },
  {
   "cell_type": "code",
   "execution_count": 7,
   "id": "1dd6b2f7",
   "metadata": {},
   "outputs": [],
   "source": [
    "# filter according to numeric variables\n",
    "movies_num = movies.select_dtypes('number')\n",
    "movies_num = movies_num.drop('Year', axis = 1)"
   ]
  },
  {
   "cell_type": "markdown",
   "id": "7a739268",
   "metadata": {},
   "source": [
    "### 3. Calculate the IQR for each column except Year"
   ]
  },
  {
   "cell_type": "code",
   "execution_count": 8,
   "id": "5ae4d2c1",
   "metadata": {},
   "outputs": [
    {
     "name": "stdout",
     "output_type": "stream",
     "text": [
      "IMDb                5.10\n",
      "Rotten Tomatoes     0.44\n",
      "Runtime            82.00\n",
      "Name: 0.25, dtype: float64\n",
      "IMDb                 6.90\n",
      "Rotten Tomatoes      0.88\n",
      "Runtime            104.00\n",
      "Name: 0.75, dtype: float64\n"
     ]
    }
   ],
   "source": [
    "# calculate the QR\n",
    "q1 = movies_num.quantile(0.25)\n",
    "\n",
    "q3 = movies_num.quantile(0.75)\n",
    "\n",
    "print(q1)\n",
    "\n",
    "print(q3)"
   ]
  },
  {
   "cell_type": "code",
   "execution_count": 9,
   "id": "240988f6",
   "metadata": {},
   "outputs": [
    {
     "data": {
      "text/plain": [
       "IMDb                1.80\n",
       "Rotten Tomatoes     0.44\n",
       "Runtime            22.00\n",
       "dtype: float64"
      ]
     },
     "execution_count": 9,
     "metadata": {},
     "output_type": "execute_result"
    }
   ],
   "source": [
    "# calculate IQR\n",
    "\n",
    "iqr_movies = q3 - q1\n",
    "\n",
    "iqr_movies"
   ]
  },
  {
   "cell_type": "markdown",
   "id": "921e9629",
   "metadata": {},
   "source": [
    "### 4. Evaluate the range of the data set"
   ]
  },
  {
   "cell_type": "code",
   "execution_count": 11,
   "id": "349f196f",
   "metadata": {},
   "outputs": [
    {
     "data": {
      "text/html": [
       "<div>\n",
       "<style scoped>\n",
       "    .dataframe tbody tr th:only-of-type {\n",
       "        vertical-align: middle;\n",
       "    }\n",
       "\n",
       "    .dataframe tbody tr th {\n",
       "        vertical-align: top;\n",
       "    }\n",
       "\n",
       "    .dataframe thead th {\n",
       "        text-align: right;\n",
       "    }\n",
       "</style>\n",
       "<table border=\"1\" class=\"dataframe\">\n",
       "  <thead>\n",
       "    <tr style=\"text-align: right;\">\n",
       "      <th></th>\n",
       "      <th>IMDb</th>\n",
       "      <th>Rotten Tomatoes</th>\n",
       "      <th>Runtime</th>\n",
       "    </tr>\n",
       "  </thead>\n",
       "  <tbody>\n",
       "    <tr>\n",
       "      <th>count</th>\n",
       "      <td>16173.000000</td>\n",
       "      <td>5158.000000</td>\n",
       "      <td>16152.000000</td>\n",
       "    </tr>\n",
       "    <tr>\n",
       "      <th>mean</th>\n",
       "      <td>5.902751</td>\n",
       "      <td>0.654285</td>\n",
       "      <td>93.413447</td>\n",
       "    </tr>\n",
       "    <tr>\n",
       "      <th>std</th>\n",
       "      <td>1.347867</td>\n",
       "      <td>0.266145</td>\n",
       "      <td>28.219222</td>\n",
       "    </tr>\n",
       "    <tr>\n",
       "      <th>min</th>\n",
       "      <td>0.000000</td>\n",
       "      <td>0.020000</td>\n",
       "      <td>1.000000</td>\n",
       "    </tr>\n",
       "    <tr>\n",
       "      <th>25%</th>\n",
       "      <td>5.100000</td>\n",
       "      <td>0.440000</td>\n",
       "      <td>82.000000</td>\n",
       "    </tr>\n",
       "    <tr>\n",
       "      <th>50%</th>\n",
       "      <td>6.100000</td>\n",
       "      <td>0.710000</td>\n",
       "      <td>92.000000</td>\n",
       "    </tr>\n",
       "    <tr>\n",
       "      <th>75%</th>\n",
       "      <td>6.900000</td>\n",
       "      <td>0.880000</td>\n",
       "      <td>104.000000</td>\n",
       "    </tr>\n",
       "    <tr>\n",
       "      <th>max</th>\n",
       "      <td>9.300000</td>\n",
       "      <td>1.000000</td>\n",
       "      <td>1256.000000</td>\n",
       "    </tr>\n",
       "  </tbody>\n",
       "</table>\n",
       "</div>"
      ],
      "text/plain": [
       "               IMDb  Rotten Tomatoes       Runtime\n",
       "count  16173.000000      5158.000000  16152.000000\n",
       "mean       5.902751         0.654285     93.413447\n",
       "std        1.347867         0.266145     28.219222\n",
       "min        0.000000         0.020000      1.000000\n",
       "25%        5.100000         0.440000     82.000000\n",
       "50%        6.100000         0.710000     92.000000\n",
       "75%        6.900000         0.880000    104.000000\n",
       "max        9.300000         1.000000   1256.000000"
      ]
     },
     "execution_count": 11,
     "metadata": {},
     "output_type": "execute_result"
    }
   ],
   "source": [
    "# descriptive statistics\n",
    "movies_num.describe()"
   ]
  },
  {
   "cell_type": "code",
   "execution_count": null,
   "id": "a939683d",
   "metadata": {},
   "outputs": [],
   "source": []
  }
 ],
 "metadata": {
  "kernelspec": {
   "display_name": "Python 3 (ipykernel)",
   "language": "python",
   "name": "python3"
  },
  "language_info": {
   "codemirror_mode": {
    "name": "ipython",
    "version": 3
   },
   "file_extension": ".py",
   "mimetype": "text/x-python",
   "name": "python",
   "nbconvert_exporter": "python",
   "pygments_lexer": "ipython3",
   "version": "3.9.7"
  }
 },
 "nbformat": 4,
 "nbformat_minor": 5
}
